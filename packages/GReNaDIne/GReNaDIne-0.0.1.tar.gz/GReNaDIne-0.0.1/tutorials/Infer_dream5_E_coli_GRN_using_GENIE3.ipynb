{
 "cells": [
  {
   "cell_type": "code",
   "execution_count": 1,
   "metadata": {},
   "outputs": [],
   "source": [
    "%matplotlib inline"
   ]
  },
  {
   "cell_type": "code",
   "execution_count": 2,
   "metadata": {},
   "outputs": [],
   "source": [
    "import pandas as pd"
   ]
  },
  {
   "cell_type": "markdown",
   "metadata": {},
   "source": [
    "# Load the dream5 dataset\n",
    "Please download the following datasets from the [dream5 dedicated website] (you need to create an account first)(https://www.synapse.org/#!Synapse:syn3130840):\n",
    "\n",
    "\n",
    "+ `net3_expression_data.tsv`: E. coli gene expression data (MicroArray)\n",
    "+ `net3_transcription_factors.tsv`: transcription factor genes\n",
    "\n",
    "### Load the datasets\n",
    "+ Load the gene expression dataset $X$"
   ]
  },
  {
   "cell_type": "code",
   "execution_count": 3,
   "metadata": {},
   "outputs": [],
   "source": [
    "X = pd.read_csv(\"net3_expression_data.tsv\",sep=\"\\t\")# rows represent genes and columns represent conditions"
   ]
  },
  {
   "cell_type": "markdown",
   "metadata": {},
   "source": [
    "+ Load the Transcription Factors list"
   ]
  },
  {
   "cell_type": "code",
   "execution_count": 4,
   "metadata": {},
   "outputs": [],
   "source": [
    "tf = pd.read_csv(\"net3_transcription_factors.tsv\",header=None)[0]"
   ]
  },
  {
   "cell_type": "markdown",
   "metadata": {},
   "source": [
    "# Preprocessing\n",
    "\n",
    "Apply a simple z-score gene-wise (axis=0)"
   ]
  },
  {
   "cell_type": "code",
   "execution_count": 5,
   "metadata": {},
   "outputs": [],
   "source": [
    "from grenadine.Preprocessing.standard_preprocessing import z_score"
   ]
  },
  {
   "cell_type": "code",
   "execution_count": 6,
   "metadata": {},
   "outputs": [],
   "source": [
    "X = z_score(X,axis=0)"
   ]
  },
  {
   "cell_type": "markdown",
   "metadata": {},
   "source": [
    "# Infer the GRN\n",
    "+ Load the score links function and GENIE3 method"
   ]
  },
  {
   "cell_type": "code",
   "execution_count": 7,
   "metadata": {},
   "outputs": [],
   "source": [
    "from grenadine.Inference.inference import score_links\n",
    "from grenadine.Inference.regression_predictors import GENIE3"
   ]
  },
  {
   "cell_type": "markdown",
   "metadata": {},
   "source": [
    "+ Choose the parameters of the underlying Random Forest of the GENIE3 method \n",
    "\n",
    "(the parameters are the same as those of [sklearn RandomForestRegressor](https://scikit-learn.org/stable/modules/generated/sklearn.ensemble.RandomForestRegressor.html))"
   ]
  },
  {
   "cell_type": "code",
   "execution_count": 19,
   "metadata": {},
   "outputs": [],
   "source": [
    "GENIE3_params = {\"n_estimators\":30,\n",
    "                 'max_depth':3}"
   ]
  },
  {
   "cell_type": "markdown",
   "metadata": {},
   "source": [
    "+ Score all the possible edges between Transcription Factors and Target Genes"
   ]
  },
  {
   "cell_type": "code",
   "execution_count": null,
   "metadata": {},
   "outputs": [
    {
     "name": "stderr",
     "output_type": "stream",
     "text": [
      "1409it [21:04,  1.19it/s]"
     ]
    }
   ],
   "source": [
    "score_matrix = score_links(X, GENIE3, tf, **GENIE3_params)"
   ]
  },
  {
   "cell_type": "markdown",
   "metadata": {},
   "source": [
    "# Visualize the results"
   ]
  },
  {
   "cell_type": "code",
   "execution_count": 12,
   "metadata": {},
   "outputs": [],
   "source": [
    "import matplotlib.pyplot as plt\n",
    "import seaborn as sns"
   ]
  },
  {
   "cell_type": "code",
   "execution_count": 14,
   "metadata": {},
   "outputs": [
    {
     "data": {
      "text/plain": [
       "<matplotlib.image.AxesImage at 0x1a212f7160>"
      ]
     },
     "execution_count": 14,
     "metadata": {},
     "output_type": "execute_result"
    },
    {
     "data": {
      "image/png": "[encoded data removed]",
      "text/plain": [
       "<Figure size 432x288 with 1 Axes>"
      ]
     },
     "metadata": {
      "needs_background": "light"
     },
     "output_type": "display_data"
    }
   ],
   "source": [
    "plt.imshow(score_matrix,aspect=\"auto\")"
   ]
  },
  {
   "cell_type": "markdown",
   "metadata": {},
   "source": [
    "# Rank the links according to their scores"
   ]
  },
  {
   "cell_type": "code",
   "execution_count": null,
   "metadata": {},
   "outputs": [],
   "source": [
    "from grenadine.Inference.inference import rank_GRN\n",
    "ranking = rank_GRN(score_matrix)"
   ]
  },
  {
   "cell_type": "code",
   "execution_count": 18,
   "metadata": {},
   "outputs": [
    {
     "data": {
      "text/html": [
       "<div>\n",
       "<style scoped>\n",
       "    .dataframe tbody tr th:only-of-type {\n",
       "        vertical-align: middle;\n",
       "    }\n",
       "\n",
       "    .dataframe tbody tr th {\n",
       "        vertical-align: top;\n",
       "    }\n",
       "\n",
       "    .dataframe thead th {\n",
       "        text-align: right;\n",
       "    }\n",
       "</style>\n",
       "<table border=\"1\" class=\"dataframe\">\n",
       "  <thead>\n",
       "    <tr style=\"text-align: right;\">\n",
       "      <th></th>\n",
       "      <th>rank</th>\n",
       "      <th>score</th>\n",
       "      <th>TF</th>\n",
       "      <th>TG</th>\n",
       "    </tr>\n",
       "  </thead>\n",
       "  <tbody>\n",
       "    <tr>\n",
       "      <th>G259_G3162</th>\n",
       "      <td>1.0</td>\n",
       "      <td>1.0</td>\n",
       "      <td>G259</td>\n",
       "      <td>G3162</td>\n",
       "    </tr>\n",
       "    <tr>\n",
       "      <th>G306_G77</th>\n",
       "      <td>1.0</td>\n",
       "      <td>1.0</td>\n",
       "      <td>G306</td>\n",
       "      <td>G77</td>\n",
       "    </tr>\n",
       "    <tr>\n",
       "      <th>G216_G299</th>\n",
       "      <td>1.0</td>\n",
       "      <td>1.0</td>\n",
       "      <td>G216</td>\n",
       "      <td>G299</td>\n",
       "    </tr>\n",
       "    <tr>\n",
       "      <th>G284_G332</th>\n",
       "      <td>1.0</td>\n",
       "      <td>1.0</td>\n",
       "      <td>G284</td>\n",
       "      <td>G332</td>\n",
       "    </tr>\n",
       "    <tr>\n",
       "      <th>G77_G306</th>\n",
       "      <td>1.0</td>\n",
       "      <td>1.0</td>\n",
       "      <td>G77</td>\n",
       "      <td>G306</td>\n",
       "    </tr>\n",
       "    <tr>\n",
       "      <th>G194_G329</th>\n",
       "      <td>1.0</td>\n",
       "      <td>1.0</td>\n",
       "      <td>G194</td>\n",
       "      <td>G329</td>\n",
       "    </tr>\n",
       "    <tr>\n",
       "      <th>G299_G216</th>\n",
       "      <td>1.0</td>\n",
       "      <td>1.0</td>\n",
       "      <td>G299</td>\n",
       "      <td>G216</td>\n",
       "    </tr>\n",
       "    <tr>\n",
       "      <th>G116_G2990</th>\n",
       "      <td>1.0</td>\n",
       "      <td>1.0</td>\n",
       "      <td>G116</td>\n",
       "      <td>G2990</td>\n",
       "    </tr>\n",
       "    <tr>\n",
       "      <th>G329_G2327</th>\n",
       "      <td>1.0</td>\n",
       "      <td>1.0</td>\n",
       "      <td>G329</td>\n",
       "      <td>G2327</td>\n",
       "    </tr>\n",
       "    <tr>\n",
       "      <th>G139_G2155</th>\n",
       "      <td>1.0</td>\n",
       "      <td>1.0</td>\n",
       "      <td>G139</td>\n",
       "      <td>G2155</td>\n",
       "    </tr>\n",
       "    <tr>\n",
       "      <th>G259_G1116</th>\n",
       "      <td>1.0</td>\n",
       "      <td>1.0</td>\n",
       "      <td>G259</td>\n",
       "      <td>G1116</td>\n",
       "    </tr>\n",
       "    <tr>\n",
       "      <th>G194_G4175</th>\n",
       "      <td>1.0</td>\n",
       "      <td>1.0</td>\n",
       "      <td>G194</td>\n",
       "      <td>G4175</td>\n",
       "    </tr>\n",
       "    <tr>\n",
       "      <th>G332_G284</th>\n",
       "      <td>1.0</td>\n",
       "      <td>1.0</td>\n",
       "      <td>G332</td>\n",
       "      <td>G284</td>\n",
       "    </tr>\n",
       "    <tr>\n",
       "      <th>G150_G1090</th>\n",
       "      <td>1.0</td>\n",
       "      <td>1.0</td>\n",
       "      <td>G150</td>\n",
       "      <td>G1090</td>\n",
       "    </tr>\n",
       "    <tr>\n",
       "      <th>G79_G2779</th>\n",
       "      <td>1.0</td>\n",
       "      <td>1.0</td>\n",
       "      <td>G79</td>\n",
       "      <td>G2779</td>\n",
       "    </tr>\n",
       "    <tr>\n",
       "      <th>G78_G3598</th>\n",
       "      <td>1.0</td>\n",
       "      <td>1.0</td>\n",
       "      <td>G78</td>\n",
       "      <td>G3598</td>\n",
       "    </tr>\n",
       "    <tr>\n",
       "      <th>G116_G4206</th>\n",
       "      <td>1.0</td>\n",
       "      <td>1.0</td>\n",
       "      <td>G116</td>\n",
       "      <td>G4206</td>\n",
       "    </tr>\n",
       "    <tr>\n",
       "      <th>G187_G1195</th>\n",
       "      <td>1.0</td>\n",
       "      <td>1.0</td>\n",
       "      <td>G187</td>\n",
       "      <td>G1195</td>\n",
       "    </tr>\n",
       "    <tr>\n",
       "      <th>G219_G110</th>\n",
       "      <td>1.0</td>\n",
       "      <td>1.0</td>\n",
       "      <td>G219</td>\n",
       "      <td>G110</td>\n",
       "    </tr>\n",
       "    <tr>\n",
       "      <th>G187_G2989</th>\n",
       "      <td>1.0</td>\n",
       "      <td>1.0</td>\n",
       "      <td>G187</td>\n",
       "      <td>G2989</td>\n",
       "    </tr>\n",
       "  </tbody>\n",
       "</table>\n",
       "</div>"
      ],
      "text/plain": [
       "            rank  score    TF     TG\n",
       "G259_G3162   1.0    1.0  G259  G3162\n",
       "G306_G77     1.0    1.0  G306    G77\n",
       "G216_G299    1.0    1.0  G216   G299\n",
       "G284_G332    1.0    1.0  G284   G332\n",
       "G77_G306     1.0    1.0   G77   G306\n",
       "G194_G329    1.0    1.0  G194   G329\n",
       "G299_G216    1.0    1.0  G299   G216\n",
       "G116_G2990   1.0    1.0  G116  G2990\n",
       "G329_G2327   1.0    1.0  G329  G2327\n",
       "G139_G2155   1.0    1.0  G139  G2155\n",
       "G259_G1116   1.0    1.0  G259  G1116\n",
       "G194_G4175   1.0    1.0  G194  G4175\n",
       "G332_G284    1.0    1.0  G332   G284\n",
       "G150_G1090   1.0    1.0  G150  G1090\n",
       "G79_G2779    1.0    1.0   G79  G2779\n",
       "G78_G3598    1.0    1.0   G78  G3598\n",
       "G116_G4206   1.0    1.0  G116  G4206\n",
       "G187_G1195   1.0    1.0  G187  G1195\n",
       "G219_G110    1.0    1.0  G219   G110\n",
       "G187_G2989   1.0    1.0  G187  G2989"
      ]
     },
     "execution_count": 18,
     "metadata": {},
     "output_type": "execute_result"
    }
   ],
   "source": [
    "ranking.head(20)"
   ]
  },
  {
   "cell_type": "markdown",
   "metadata": {},
   "source": [
    "# Evalute the Results\n",
    "+ Download `DREAM5_NetworkInference_GoldStandard_Network3 - E. coli.tsv` the gold standard dataset from the [dream5 website](https://www.synapse.org/#!Synapse:syn2787213)\n",
    "+ Load the gold standard"
   ]
  },
  {
   "cell_type": "code",
   "execution_count": null,
   "metadata": {},
   "outputs": [],
   "source": [
    "grn = pd.read_csv(\"DREAM5_NetworkInference_GoldStandard_Network3 - E. coli.tsv\",sep=\"\\t\",header=None)\n",
    "# Rename the columns and the index\n",
    "grn.columns = [\"TF\",\"TG\",\"IS_REGULATED\"]\n",
    "grn.index = grn[\"TF\"]+\"_\"+grn[\"TG\"]\n",
    "# Drop duplicate rows\n",
    "grn = grn.drop_duplicates()"
   ]
  },
  {
   "cell_type": "markdown",
   "metadata": {},
   "source": [
    "+ Load the `evaluate_result` function "
   ]
  },
  {
   "cell_type": "code",
   "execution_count": null,
   "metadata": {},
   "outputs": [],
   "source": [
    "from grenadine.Evaluation.evaluation import evaluate_result"
   ]
  },
  {
   "cell_type": "code",
   "execution_count": null,
   "metadata": {},
   "outputs": [],
   "source": [
    "metrics = evaluate_result(score_matrix, grn, n_links=100000)"
   ]
  },
  {
   "cell_type": "code",
   "execution_count": null,
   "metadata": {},
   "outputs": [],
   "source": [
    "metrics"
   ]
  },
  {
   "cell_type": "code",
   "execution_count": null,
   "metadata": {},
   "outputs": [],
   "source": []
  }
 ],
 "metadata": {
  "kernelspec": {
   "display_name": "Python 3",
   "language": "python",
   "name": "python3"
  },
  "language_info": {
   "codemirror_mode": {
    "name": "ipython",
    "version": 3
   },
   "file_extension": ".py",
   "mimetype": "text/x-python",
   "name": "python",
   "nbconvert_exporter": "python",
   "pygments_lexer": "ipython3",
   "version": "3.6.8"
  }
 },
 "nbformat": 4,
 "nbformat_minor": 2
}
