{
 "cells": [
  {
   "cell_type": "markdown",
   "metadata": {},
   "source": [
    "# Array type specifications\n",
    "\n",
    "Instead of specifying a schema and building data to match it, type specifications are inferred from the structure of nested awkward arrays. These types are presented to the user as `awkward.type.Type` objects, which may be thought of as a generalization of Numpy's `shape`, `dtype`, and `masked` parameters.\n",
    "\n",
    "Not all awkward arrays make a difference in type: a `ChunkedArray` of `X`, for instance, simulates a plain array of `X`. There are five structures that should be distinguishable to a high-level user:\n",
    "\n",
    "   * **jaggedness:** some arrays contain arbitrary length subarrays\n",
    "   * **tables:** some arrays are indexed by an enumerated set of strings, rather than integers (\"product types\")\n",
    "   * **union:** some arrays represent tagged unions (\"sum types\")\n",
    "   * **optional:** some arrays are masked, representing unions with the N/A singleton\n",
    "   * **self-references:** some subarray components refer to cousins or ancestors on the tree of nested arrays"
   ]
  },
  {
   "cell_type": "code",
   "execution_count": 1,
   "metadata": {},
   "outputs": [],
   "source": [
    "import os\n",
    "os.chdir(os.path.expanduser(\"~\"))\n",
    "\n",
    "import numpy\n",
    "from awkward.type import *"
   ]
  },
  {
   "cell_type": "markdown",
   "metadata": {},
   "source": [
    "## Representation of types\n",
    "\n",
    "We can get the `awkward.type.Type` of any Numpy or awkward array with `awkward.type.from_array` (calls an awkward array's `.type` property)."
   ]
  },
  {
   "cell_type": "code",
   "execution_count": 2,
   "metadata": {},
   "outputs": [
    {
     "data": {
      "text/plain": [
       "ArrayType(15, dtype('int64'))"
      ]
     },
     "execution_count": 2,
     "metadata": {},
     "output_type": "execute_result"
    }
   ],
   "source": [
    "from_array(numpy.arange(15))"
   ]
  },
  {
   "cell_type": "markdown",
   "metadata": {},
   "source": [
    "The `__repr__` string (above) provides a constructor you could use to make the type manually. However, it's not the easiest way to read complex types. Instead, view the `__str__` string by printing the type object."
   ]
  },
  {
   "cell_type": "code",
   "execution_count": 3,
   "metadata": {},
   "outputs": [
    {
     "name": "stdout",
     "output_type": "stream",
     "text": [
      "[0, 15) -> int64\n"
     ]
    }
   ],
   "source": [
    "print(from_array(numpy.arange(15)))"
   ]
  },
  {
   "cell_type": "markdown",
   "metadata": {},
   "source": [
    "The above means that the array is a function from integers in `[0, 15)` (including 0, excluding 15) to objects of type `int64`. This is the function that is \"called\" by passing integers inside square brackets.\n",
    "\n",
    "Numpy arrays with any number of dimensions can be expressed as a chain of functions that return functions. After all, passing an integer to a 2D array gives you a 1D array; passing an integer to that gives you an array element. This is known as [currying](https://en.wikipedia.org/wiki/Currying)."
   ]
  },
  {
   "cell_type": "code",
   "execution_count": 4,
   "metadata": {},
   "outputs": [
    {
     "name": "stdout",
     "output_type": "stream",
     "text": [
      "[[ 0  1  2  3  4]\n",
      " [ 5  6  7  8  9]\n",
      " [10 11 12 13 14]]\n"
     ]
    }
   ],
   "source": [
    "array = numpy.arange(15).reshape(3, 5).view(numpy.uint64)\n",
    "print(array)"
   ]
  },
  {
   "cell_type": "code",
   "execution_count": 5,
   "metadata": {},
   "outputs": [
    {
     "name": "stdout",
     "output_type": "stream",
     "text": [
      "[0, 3) -> [0, 5) -> uint64\n"
     ]
    }
   ],
   "source": [
    "print(from_array(array))"
   ]
  },
  {
   "cell_type": "markdown",
   "metadata": {},
   "source": [
    "## Jagged arrays\n",
    "\n",
    "Jagged (or \"ragged\") arrays go beyond Numpy in that the size of subarrays is not the same for all subarrays. Some subarrays may be empty, some may have size 1, some may have size 2, and some may have size 1 million. We represent that as a type with an infinite integer domain. _(Yes, this is a slightly different usage, but it's a consistent notation.)_\n",
    "\n",
    "Below is a jagged array of 10 subarrays, where the subarrays may have any sizes."
   ]
  },
  {
   "cell_type": "code",
   "execution_count": 6,
   "metadata": {
    "scrolled": true
   },
   "outputs": [
    {
     "name": "stdout",
     "output_type": "stream",
     "text": [
      "[0, 10) -> [0, inf) -> float64\n"
     ]
    }
   ],
   "source": [
    "print(ArrayType(10, numpy.inf, float))"
   ]
  },
  {
   "cell_type": "markdown",
   "metadata": {},
   "source": [
    "Below is a jagged array that contains Numpy arrays of fixed shape `(3, 5)` (i.e. 10 subarrays that each hold an arbitrary number of 3×5 matrices)."
   ]
  },
  {
   "cell_type": "code",
   "execution_count": 7,
   "metadata": {
    "scrolled": true
   },
   "outputs": [
    {
     "name": "stdout",
     "output_type": "stream",
     "text": [
      "[0, 10) -> [0, inf) -> [0, 3) -> [0, 5) -> float64\n"
     ]
    }
   ],
   "source": [
    "print(ArrayType(10, numpy.inf, 3, 5, float))"
   ]
  },
  {
   "cell_type": "markdown",
   "metadata": {},
   "source": [
    "Below is a jagged array of jagged arrays of jagged arrays."
   ]
  },
  {
   "cell_type": "code",
   "execution_count": 8,
   "metadata": {},
   "outputs": [
    {
     "name": "stdout",
     "output_type": "stream",
     "text": [
      "[0, 10) -> [0, inf) -> [0, inf) -> [0, inf) -> float64\n"
     ]
    }
   ],
   "source": [
    "print(ArrayType(10, numpy.inf, numpy.inf, numpy.inf, float))"
   ]
  },
  {
   "cell_type": "markdown",
   "metadata": {},
   "source": [
    "Below is a jagged array whose indexes (`starts` and `stops`) have shape `(3, 5)`."
   ]
  },
  {
   "cell_type": "code",
   "execution_count": 9,
   "metadata": {},
   "outputs": [
    {
     "name": "stdout",
     "output_type": "stream",
     "text": [
      "[0, 3) -> [0, 5) -> [0, inf) -> float64\n"
     ]
    }
   ],
   "source": [
    "print(ArrayType(3, 5, numpy.inf, float))"
   ]
  },
  {
   "cell_type": "markdown",
   "metadata": {},
   "source": [
    "## Tables\n",
    "\n",
    "Numpy has structured arrays, which can be indexed by enumerated strings. This has the same logical type structure as a `Table` in awkward-array. One of the indexes that a user provides may be a string from the set `{\"one\", \"two\"}` to select a column."
   ]
  },
  {
   "cell_type": "code",
   "execution_count": 10,
   "metadata": {},
   "outputs": [
    {
     "name": "stdout",
     "output_type": "stream",
     "text": [
      "[0, 10) -> 'one' -> int64\n",
      "           'two' -> float64\n"
     ]
    }
   ],
   "source": [
    "print(from_array(numpy.array([(0, 0.0), (1, 1.1), (2, 2.2), (3, 3.3), (4, 4.4), (5, 5.5), (6, 6.6), (7, 7.7), (8, 8.8), (9, 9.9)], dtype=[(\"one\", int), (\"two\", float)])))"
   ]
  },
  {
   "cell_type": "markdown",
   "metadata": {},
   "source": [
    "We can construct the same thing by hand using the `&` operator (or the `awkward.type.TableType` constructor directly)."
   ]
  },
  {
   "cell_type": "code",
   "execution_count": 11,
   "metadata": {},
   "outputs": [
    {
     "name": "stdout",
     "output_type": "stream",
     "text": [
      "[0, 10) -> 'one' -> int64\n",
      "           'two' -> float64\n"
     ]
    }
   ],
   "source": [
    "print(ArrayType(10, ArrayType(\"one\", int) & ArrayType(\"two\", float)))"
   ]
  },
  {
   "cell_type": "markdown",
   "metadata": {},
   "source": [
    "Unlike Numpy structured arrays, the columns of an awkward `Table` can have different substructures from each other."
   ]
  },
  {
   "cell_type": "code",
   "execution_count": 12,
   "metadata": {},
   "outputs": [
    {
     "name": "stdout",
     "output_type": "stream",
     "text": [
      "[0, 10) -> 'one' -> [0, inf) -> int64\n",
      "           'two' -> float64\n"
     ]
    }
   ],
   "source": [
    "print(ArrayType(10, ArrayType(\"one\", numpy.inf, int) & ArrayType(\"two\", float)))"
   ]
  },
  {
   "cell_type": "markdown",
   "metadata": {},
   "source": [
    "And because you can pass a string to a `Table` to get a column or pass an integer to the same `Table` to get a row, string and integer indexes _commute._ (Numpy structured arrays have this behavior as well.)"
   ]
  },
  {
   "cell_type": "code",
   "execution_count": 13,
   "metadata": {},
   "outputs": [
    {
     "name": "stdout",
     "output_type": "stream",
     "text": [
      "[0, 3) -> [0, 5) -> 'one' -> int64\n",
      "                    'two' -> float64\n",
      "[0, 3) -> 'one' -> [0, 5) -> int64\n",
      "          'two' -> [0, 5) -> float64\n"
     ]
    }
   ],
   "source": [
    "one = ArrayType(3, 5, ArrayType(\"one\", int) & ArrayType(\"two\", float))\n",
    "two = ArrayType(3, ArrayType(\"one\", 5, int) & ArrayType(\"two\", 5, float))\n",
    "print(one)\n",
    "print(two)"
   ]
  },
  {
   "cell_type": "code",
   "execution_count": 14,
   "metadata": {},
   "outputs": [
    {
     "data": {
      "text/plain": [
       "True"
      ]
     },
     "execution_count": 14,
     "metadata": {},
     "output_type": "execute_result"
    }
   ],
   "source": [
    "one == two"
   ]
  },
  {
   "cell_type": "markdown",
   "metadata": {},
   "source": [
    "## Cross-references\n",
    "\n",
    "Another awkward-array feature is that nested elements can be cross-referenced. Among other things, allows us to express trees and graphs.\n",
    "\n",
    "_(Note: whether objects with the following type are trees or graphs depends entirely on their array values. The type specification doesn't determine connectedness properties. Also, we have to let the children/left/right be jagged or optional so that finite trees are a possibility!)_"
   ]
  },
  {
   "cell_type": "code",
   "execution_count": 15,
   "metadata": {},
   "outputs": [
    {
     "name": "stdout",
     "output_type": "stream",
     "text": [
      "T0 := 'node_value' -> int64\n",
      "      'children'   -> [0, inf) -> T0\n"
     ]
    }
   ],
   "source": [
    "tree = ArrayType(\"node_value\", int)\n",
    "tree[\"children\"] = ArrayType(numpy.inf, tree)\n",
    "print(tree)"
   ]
  },
  {
   "cell_type": "code",
   "execution_count": 16,
   "metadata": {
    "scrolled": true
   },
   "outputs": [
    {
     "name": "stdout",
     "output_type": "stream",
     "text": [
      "T0 := 'node_value' -> int64\n",
      "      'left'       -> ?(T0)\n",
      "      'right'      -> ?(T0)\n"
     ]
    }
   ],
   "source": [
    "tree = ArrayType(\"node_value\", int)\n",
    "tree[\"left\"] = OptionType(tree)\n",
    "tree[\"right\"] = OptionType(tree)\n",
    "print(tree)"
   ]
  },
  {
   "cell_type": "markdown",
   "metadata": {},
   "source": [
    "## Unions\n",
    "\n",
    "To emulate heterogeneous lists, awkward-array allows for union types. Whereas a table has content for every column (string index) at every row (integer index), a union has content for only one of its possibilities at every row (integer index). Therefore, they're in a sense opposites: tables are \"product types\" constructed with `&` and unions are \"sum types\" constructed with `|` (or the `awkward.type.UnionType` directly)."
   ]
  },
  {
   "cell_type": "code",
   "execution_count": 17,
   "metadata": {},
   "outputs": [
    {
     "name": "stdout",
     "output_type": "stream",
     "text": [
      "[0, 10) -> ([0, 3) -> int64   |\n",
      "            [0, 5) -> float64 )\n"
     ]
    }
   ],
   "source": [
    "print(ArrayType(10, ArrayType(3, int) | ArrayType(5, float)))"
   ]
  },
  {
   "cell_type": "markdown",
   "metadata": {},
   "source": [
    "The possibilities of a union may be tables. In the string representation, note the location of the `|`, which distinguishes records with `{\"one\", \"two\"}` fields from records with `{\"uno\", \"dos\", \"tres\"}` fields.\n",
    "\n",
    "(`&` has tighter binding than `|`)"
   ]
  },
  {
   "cell_type": "code",
   "execution_count": 18,
   "metadata": {},
   "outputs": [
    {
     "name": "stdout",
     "output_type": "stream",
     "text": [
      "[0, 10) -> ('one' -> int64\n",
      "            'two' -> float64  |\n",
      "            'uno'  -> bool\n",
      "            'dos'  -> int64\n",
      "            'tres' -> float64 )\n"
     ]
    }
   ],
   "source": [
    "print(ArrayType(10, ArrayType(\"one\", int) & ArrayType(\"two\", float) | ArrayType(\"uno\", bool) & ArrayType(\"dos\", int) & ArrayType(\"tres\", float)))"
   ]
  },
  {
   "cell_type": "markdown",
   "metadata": {},
   "source": [
    "All of the above can be combined to make truly complex types. There's as much flexibility in this type system as in a basic programming language."
   ]
  },
  {
   "cell_type": "code",
   "execution_count": 19,
   "metadata": {},
   "outputs": [
    {
     "name": "stdout",
     "output_type": "stream",
     "text": [
      "T0 := [0, 10) -> ([0, inf) -> 'one' -> int64\n",
      "                              'two' -> float64               |\n",
      "                  'uno'  -> bool\n",
      "                  'dos'  -> ?(int64)\n",
      "                  'tres' -> T0                               |\n",
      "                  [0, 5) -> [0, 3) -> ?([0, inf) -> float64) )\n"
     ]
    }
   ],
   "source": [
    "t = ArrayType(10, ArrayType(numpy.inf, ArrayType(\"one\", int) & ArrayType(\"two\", float)) | ArrayType(\"uno\", bool) & ArrayType(\"dos\", OptionType(int)) & ArrayType(\"tres\", float) | ArrayType(5, 3, OptionType(ArrayType(numpy.inf, float))))\n",
    "t.to[1][\"tres\"] = t\n",
    "print(t)"
   ]
  }
 ],
 "metadata": {
  "kernelspec": {
   "display_name": "Python 2",
   "language": "python",
   "name": "python2"
  },
  "language_info": {
   "codemirror_mode": {
    "name": "ipython",
    "version": 2
   },
   "file_extension": ".py",
   "mimetype": "text/x-python",
   "name": "python",
   "nbconvert_exporter": "python",
   "pygments_lexer": "ipython2",
   "version": "2.7.12"
  }
 },
 "nbformat": 4,
 "nbformat_minor": 2
}
