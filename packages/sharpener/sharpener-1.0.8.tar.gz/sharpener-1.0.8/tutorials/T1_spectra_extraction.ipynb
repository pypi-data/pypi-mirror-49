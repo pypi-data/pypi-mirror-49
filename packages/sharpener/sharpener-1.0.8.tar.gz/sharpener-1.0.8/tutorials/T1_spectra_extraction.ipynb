{
 "cells": [
  {
   "cell_type": "markdown",
   "metadata": {},
   "source": [
    "## SHARPener: tools for HI absorption line finding and analysis\n",
    "\n"
   ]
  },
  {
   "cell_type": "code",
   "execution_count": null,
   "metadata": {},
   "outputs": [],
   "source": [
    "import os, string, sys\n",
    "import numpy as np\n",
    "import pyaml, json\n",
    "from astropy.io import ascii\n",
    "\n",
    "from IPython.display import HTML, display\n",
    "\n",
    "import sharpener.sharpener as sharpy\n",
    "\n",
    "workdir = 'test/output/'\n",
    "\n",
    "print '\\t+------+\\n\\t  Done \\n\\t+------+'"
   ]
  },
  {
   "cell_type": "markdown",
   "metadata": {},
   "source": [
    "### Load and modify parameter file"
   ]
  },
  {
   "cell_type": "code",
   "execution_count": null,
   "metadata": {},
   "outputs": [],
   "source": [
    "print '\\t+------+\\n\\t Sharpener \\n\\t Parameter File \\n\\t+------+'\n",
    "\n",
    "spar = sharpy.sharpener('test/sharpener_default.yml')\n",
    "\n",
    "print '\\t+------+\\n\\t Parameters Loaded \\n\\t+------+'\n",
    "\n",
    "#print parameter file \n",
    "print(json.dumps(spar.cfg_par, indent=4, sort_keys=True))\n"
   ]
  },
  {
   "cell_type": "code",
   "execution_count": null,
   "metadata": {},
   "outputs": [],
   "source": [
    "# Set working directory & filenames\n",
    "spar.cfg_par['general']['workdir'] = workdir\n",
    "spar.cfg_par['general']['contname'] ='continuum_image.fits'\n",
    "spar.cfg_par['general']['cubename'] = 'cube.fits'\n",
    "\n",
    "# Enable / disable modules\n",
    "spar.cfg_par['source_finder']['enable'] = True\n",
    "spar.cfg_par['spec_ex']['enable'] = True\n",
    "spar.cfg_par['abs_plot']['enable'] = True\n",
    "\n",
    "# Options\n",
    "\n",
    "spar.cfg_par['spec_ex']['clip'] = 5e-3\n",
    "spar.cfg_par['spec_ex']['chrom_aberration'] = True\n",
    "\n",
    "\n",
    "spar.set_dirs()\n",
    "\n",
    "\n",
    "print spar.cfg_par['general']['absdir']\n",
    "print '\\t+------+\\n\\t Parameters modified \\n\\t+------+'\n"
   ]
  },
  {
   "cell_type": "markdown",
   "metadata": {},
   "source": [
    "### Find continuum sources in an image"
   ]
  },
  {
   "cell_type": "code",
   "execution_count": null,
   "metadata": {
    "scrolled": false
   },
   "outputs": [],
   "source": [
    "import tabulate\n",
    "from sharpener.sharp_modules import cont_src as cont_src\n",
    "\n",
    "help(cont_src.find_src_imsad)\n",
    "\n",
    "#find sources\n",
    "sources = cont_src.find_src_imsad(spar.cfg_par)\n",
    "#load and print output table\n",
    "tot = ascii.read(spar.cfg_par['general']['absdir']+'mir_src_sharpener.csv' )\n",
    "display(HTML(tabulate.tabulate(tot, tablefmt='html',headers=\"keys\")))\n",
    "\n",
    "\n",
    "print '\\t+------+\\n\\t Done \\n\\t+------+'\n"
   ]
  },
  {
   "cell_type": "markdown",
   "metadata": {},
   "source": [
    "### Extract spectra"
   ]
  },
  {
   "cell_type": "code",
   "execution_count": null,
   "metadata": {
    "scrolled": false
   },
   "outputs": [],
   "source": [
    "from sharpener.sharp_modules import spec_ex as spec_ex\n",
    "\n",
    "spectra = spec_ex.abs_ex(spar.cfg_par)\n",
    "\n",
    "print '\\t+------+\\n\\t Spectra extracted \\n\\t+------+'\n"
   ]
  },
  {
   "cell_type": "markdown",
   "metadata": {},
   "source": [
    "### Plot spectra"
   ]
  },
  {
   "cell_type": "code",
   "execution_count": null,
   "metadata": {},
   "outputs": [],
   "source": [
    "import glob\n",
    "from sharpener.sharp_modules import absorption_plot as abs_pl\n",
    "\n",
    "#load spectra from absorption directory\n",
    "spectra = glob.glob(workdir)\n",
    "for i in xrange(0,len(spectra)):\n",
    "    spectra[i] = os.path.basename(spectra[i])\n",
    "\n",
    "#plot spectra\n",
    "    abs_pl.abs_plot(spectra[i],spar.cfg_par)\n",
    "\n",
    "print '\\t+------+\\n\\t Plots done \\n\\t+------+'\n"
   ]
  }
 ],
 "metadata": {
  "anaconda-cloud": {},
  "kernelspec": {
   "display_name": "Python 2",
   "language": "python",
   "name": "python2"
  },
  "language_info": {
   "codemirror_mode": {
    "name": "ipython",
    "version": 2
   },
   "file_extension": ".py",
   "mimetype": "text/x-python",
   "name": "python",
   "nbconvert_exporter": "python",
   "pygments_lexer": "ipython2",
   "version": "2.7.15rc1"
  }
 },
 "nbformat": 4,
 "nbformat_minor": 1
}
