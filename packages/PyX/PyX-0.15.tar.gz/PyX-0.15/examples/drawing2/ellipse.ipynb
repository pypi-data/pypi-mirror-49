{
 "cells": [
  {
   "cell_type": "markdown",
   "metadata": {},
   "source": [
    "# Applying transformations on a path or canvas: Drawing an ellipse"
   ]
  },
  {
   "cell_type": "code",
   "execution_count": 1,
   "metadata": {},
   "outputs": [
    {
     "data": {
      "image/png": "[encoded data removed]",
      "image/svg+xml": [
       "<?xml version=\"1.0\" encoding=\"utf-8\"?>\n",
       "<svg xmlns=\"http://www.w3.org/2000/svg\" fill=\"none\" version=\"1.1\" viewBox=\"-16.7473 -60.4526 218.932 120.905\" x=\"-16.7473pt\" y=\"-60.4526pt\" width=\"218.932pt\" height=\"120.905pt\" stroke-width=\"0.566929\" stroke-miterlimit=\"10.000000\">\n",
       " <g stroke-width=\"2.267717\">\n",
       "  <path d=\"M68.4344 -40.0879L68.4029 -40.1194C63.6027 -44.8825 54.7834 -45.2287 43.8832 -41.0819C32.983 -36.9351 20.8937 -28.6347 10.2719 -18.0046C-0.34984 -7.37449 -8.63494 4.71548 -12.7627 15.6085C-16.8905 26.5015 -16.5232 35.3063 -11.7415 40.0879C-6.95982 44.8696 1.84497 45.2369 12.738 41.1092C23.631 36.9814 35.7209 28.6963 46.351 18.0746C56.9811 7.45281 65.2816 -4.63653 69.4284 -15.5367C73.5751 -26.4369 73.2289 -35.2562 68.4658 -40.0564Z\" stroke=\"black\"/>\n",
       " </g>\n",
       " <g transform=\"matrix(1.414214,-1.414214,0.636396,0.636396,141.732283,-0.000000)\">\n",
       "  <g stroke-width=\"2.267717\">\n",
       "   <path d=\"M28.3465 -0L28.3464 -0.0494739A28.3465 28.3465 0 0 0 -28.3465 -1.60598e-14A28.3465 28.3465 0 0 0 28.3464 0.0494739Z\" stroke=\"black\"/>\n",
       "  </g>\n",
       " </g>\n",
       "</svg>\n"
      ]
     },
     "execution_count": 1,
     "metadata": {},
     "output_type": "execute_result"
    }
   ],
   "source": [
    "from pyx import *\n",
    "\n",
    "c = canvas.canvas()\n",
    "circ = path.circle(0, 0, 1)\n",
    "\n",
    "# variant 1: use trafo as a deformer\n",
    "c.stroke(circ, [style.linewidth.THIck, \n",
    "                trafo.scale(sx=2, sy=0.9), trafo.rotate(45), trafo.translate(1, 0)])\n",
    "\n",
    "# variant 2: transform a subcanvas\n",
    "sc = canvas.canvas()\n",
    "sc.stroke(circ, [style.linewidth.THIck])\n",
    "c.insert(sc, [trafo.scale(sx=2, sy=0.9), trafo.rotate(45), trafo.translate(5, 0)])\n",
    "\n",
    "c"
   ]
  },
  {
   "cell_type": "markdown",
   "metadata": {},
   "source": [
    "PyX does not directly provide a path corresponding to an ellipse. This example\n",
    "shows two ways how to draw an ellipse using affine transformations. \n",
    "\n",
    "In order to create an ellipse, we best start from a unit circle centered around\n",
    "the point of origin of the coordinate system (here: `circ`). In variant 1, we\n",
    "tell PyX to apply a couple of affine transformations before stroking this\n",
    "circle on the canvas `c`. These affine transformations are contained in the\n",
    "`trafo` module. We first use `trafo.scale` to apply a non-uniform scaling,\n",
    "namely by a factor of 2 in x-direction and a factor of 0.9 in y-direction.\n",
    "Doing so, we define the two principle axes of the ellipse. In a next step, we\n",
    "rotate with `trafo.rotate` the ellipse by an angle of 45 degrees in the\n",
    "mathematical positive direction, i.e. counter-clockwise. Last, we shift the\n",
    "origin of the ellipse to the desired point by applying a `trafo.translate`\n",
    "operation.\n",
    "\n",
    "<img src=\"http://pyx.sourceforge.net/bend.png\" align=\"left\"> Note that the order of the transformations matters. If you, for instance, would\n",
    "first translate the ellipse, the later scaling would also affect the distance\n",
    "by which you have shifted the ellipse. PyX applies the transformations one after\n",
    "the other, from left to right, so the example shown above does the correct thing.\n",
    "\n",
    "<img src=\"http://pyx.sourceforge.net/bend.png\" align=\"left\"> You can also treat transformations as mathematical objects (they are\n",
    "represented by two-dimensional matrices together with an offset vector) and\n",
    "multiply them using the `*` operator. Note, however, that mathematically,\n",
    "transformations are applied from right to left, such that variant 1\n",
    "would need to be written as\n",
    "\n",
    "    c.stroke(circ, [trafo.translate(1,0) * trafo.rotate(45) * trafo.scale(sx=2, sy=1.5)])\n",
    "\n",
    "<img src=\"http://pyx.sourceforge.net/bend.png\" align=\"left\"> PyX also provides some convenience methods for applying certain\n",
    "transformations with a given point as the origin. These allow one to write variant 1\n",
    "in yet another form\n",
    "\n",
    "    c.stroke(circ, [trafo.scale(sx=2, sy=1.5, x=1, y=0), trafo.rotate(45, x=1, y=0)])\n",
    "\n",
    "where we have started already from a circle centered around the desired point 1,0.\n",
    "\n",
    "When telling the stroke method to apply a number of transformations, we use\n",
    "that a transformation is a so-called deformer. Deformers take an original path,\n",
    "do some operation on it and return the modified version. PyX thus internally\n",
    "converts the circle into a path representing the ellipse. Alternatively, we can\n",
    "also let the PostScript or PDF interpreter do the same transformation. This is what\n",
    "is shown in variant 2. There, we first stroke the circle on a new canvas `sc`.\n",
    "When inserting this canvas in the original canvas `c`, we again pass a set of\n",
    "transformations as arguments. Since PyX cannot deform an entire canvas, it just\n",
    "writes these transformations into the output file. If you compare the resulting\n",
    "output (the right ellipse) with the one of variant 1, you will notice a\n",
    "difference, though: when transforming a whole canvas, the lineshape is\n",
    "transformed as well. Often, this is not the intended result, so you better\n",
    "transform individual objects when stroking or filling them.\n",
    "\n",
    "<img src=\"http://pyx.sourceforge.net/bend.png\" align=\"left\"><img src=\"http://pyx.sourceforge.net/bend.png\" align=\"left\"> When you look at the EPS or PDF output generated by the example, you will\n",
    "notice that the bounding box is too large. The reason for this artefact lies in\n",
    "the way PyX calculates the bounding box for a transformed canvas: It simply\n",
    "applies the transformation to the bounding box of the canvas and takes the\n",
    "bounding box of this new object. While this certainly yields a bounding box of\n",
    "the canvas, it does not necessarily yield a minimal one. To see this, you just\n",
    "have to consider the two extreme cases of a circle, which is rotationally\n",
    "invariant, and a square, which only posseses a discrete rotational symmetry.\n",
    "Whereas the minimal bounding box of the circle does not change under rotations\n",
    "around its center, the same is not true for the square. When you rotate a\n",
    "circle by applying a deformer (as in variant 1), PyX will thus calculate the\n",
    "correct bounding box. On the other hand, when you insert the circle into a\n",
    "canvas and afterwards transform this canvas (as in variant 2), PyX cannot\n",
    "distinguish between a circle and a square anymore and calculates a too large\n",
    "bounding box.\n"
   ]
  }
 ],
 "metadata": {
  "language": "python"
 },
 "nbformat": 4,
 "nbformat_minor": 2
}