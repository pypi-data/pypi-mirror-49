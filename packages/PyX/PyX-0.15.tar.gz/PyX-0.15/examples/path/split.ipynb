{
 "cells": [
  {
   "cell_type": "markdown",
   "metadata": {},
   "source": [
    "# Splitting paths"
   ]
  },
  {
   "cell_type": "code",
   "execution_count": 1,
   "metadata": {},
   "outputs": [
    {
     "data": {
      "image/png": "[encoded data removed]",
      "image/svg+xml": [
       "<?xml version=\"1.0\" encoding=\"utf-8\"?>\n",
       "<svg xmlns=\"http://www.w3.org/2000/svg\" fill=\"none\" version=\"1.1\" viewBox=\"-1 -29.3465 58.6929 30.3465\" x=\"-1pt\" y=\"-29.3465pt\" width=\"58.6929pt\" height=\"30.3465pt\" stroke-width=\"0.566929\" stroke-miterlimit=\"10.000000\">\n",
       " <g stroke-width=\"0.283465\">\n",
       "  <path d=\"M0 -0C28.3465 -0 28.3465 -28.3465 56.6929 -28.3465\" stroke=\"#f00\"/>\n",
       " </g>\n",
       " <g stroke-width=\"1.133858\">\n",
       "  <path d=\"M13.7767 -2.81658C25.6319 -8.2456 31.061 -20.1009 42.9162 -25.5299\" stroke=\"#0f0\"/>\n",
       " </g>\n",
       "</svg>\n"
      ]
     },
     "execution_count": 1,
     "metadata": {},
     "output_type": "execute_result"
    }
   ],
   "source": [
    "from pyx import *\n",
    "\n",
    "p = path.curve(0, 0, 1, 0, 1, 1, 2, 1)\n",
    "p1, p2, p3 = p.split([0.5, p.end()-0.5])\n",
    "\n",
    "c = canvas.canvas()\n",
    "c.stroke(p, [style.linewidth.Thin, color.rgb.red])\n",
    "c.stroke(p2, [style.linewidth.Thick, color.rgb.green])\n",
    "c"
   ]
  },
  {
   "cell_type": "markdown",
   "metadata": {},
   "source": [
    "In this example we use the `split` method of a path to split it into several\n",
    "paths. Similar to the `at` method you can pass a list of numbers to the split\n",
    "method (or PyX length instances) to specify the splitting point by the arc\n",
    "length  or you can use parametrization instances like the one returned by\n",
    "the `end` method, where you can substract a length to conventiently express a\n",
    "certain location measured from the end of the path.\n",
    "\n",
    "For a single splitting point, you can also pass the parameter directly instead\n",
    "of warpping this single value into a list. Note, however, that the return value\n",
    "of the `split` method is always a list; splitting a non-closed path at one\n",
    "point still yields two segments.\n",
    "\n",
    "<img src=\"http://pyx.sourceforge.net/bend.png\" align=\"left\"> When splitting at the beginning or the end of the path, one segment may\n",
    "be empty. Still PyX returns a corresponding path of length 0.\n",
    "\n",
    "<img src=\"http://pyx.sourceforge.net/bend.png\" align=\"left\"> When splitting at non-closed subpaths the result of the split method\n",
    "will be a list containing one path more than the number of splitting\n",
    "points. However, for a closed subpath a splitting at a single point\n",
    "will open the subpath but return a single path only. Consider a circle\n",
    "which you split at a single value: The result will still be a circle,\n",
    "but the path will not be closed anymore.\n"
   ]
  }
 ],
 "metadata": {
  "language": "python"
 },
 "nbformat": 4,
 "nbformat_minor": 2
}