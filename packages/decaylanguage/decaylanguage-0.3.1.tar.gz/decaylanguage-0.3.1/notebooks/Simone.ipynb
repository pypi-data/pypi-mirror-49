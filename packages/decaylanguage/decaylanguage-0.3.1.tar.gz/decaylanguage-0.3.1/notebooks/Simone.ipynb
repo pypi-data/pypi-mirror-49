{
 "cells": [
  {
   "cell_type": "code",
   "execution_count": null,
   "metadata": {},
   "outputs": [],
   "source": [
    "from decaylanguage import DecFileParser"
   ]
  },
  {
   "cell_type": "code",
   "execution_count": null,
   "metadata": {},
   "outputs": [],
   "source": [
    "p = DecFileParser('notebooks/Reproducer.dec')\n",
    "p.parse()\n",
    "p"
   ]
  },
  {
   "cell_type": "code",
   "execution_count": null,
   "metadata": {},
   "outputs": [],
   "source": [
    "p.list_decay_mother_names()"
   ]
  },
  {
   "cell_type": "code",
   "execution_count": null,
   "metadata": {},
   "outputs": [],
   "source": [
    "p.print_decay_modes('MyD_0*-')"
   ]
  },
  {
   "cell_type": "code",
   "execution_count": null,
   "metadata": {},
   "outputs": [],
   "source": [
    "from decaylanguage import DecayChainViewer\n",
    "chain = p.build_decay_chain('MyD*+')\n",
    "dcv = DecayChainViewer(chain)\n",
    "dcv"
   ]
  },
  {
   "cell_type": "code",
   "execution_count": null,
   "metadata": {},
   "outputs": [],
   "source": [
    "chain = p.build_decay_chain('MyD*-')\n",
    "dcv = DecayChainViewer(chain)\n",
    "dcv"
   ]
  },
  {
   "cell_type": "code",
   "execution_count": null,
   "metadata": {},
   "outputs": [],
   "source": [
    "chain = p.build_decay_chain('MyD_0*+')\n",
    "dcv = DecayChainViewer(chain)\n",
    "dcv"
   ]
  },
  {
   "cell_type": "code",
   "execution_count": null,
   "metadata": {},
   "outputs": [],
   "source": [
    "chain = p.build_decay_chain('MyD_0*-')\n",
    "dcv = DecayChainViewer(chain)\n",
    "dcv"
   ]
  },
  {
   "cell_type": "code",
   "execution_count": null,
   "metadata": {},
   "outputs": [],
   "source": [
    "chain = p.build_decay_chain('MyD_0*0')\n",
    "dcv = DecayChainViewer(chain)\n",
    "dcv"
   ]
  },
  {
   "cell_type": "code",
   "execution_count": null,
   "metadata": {},
   "outputs": [],
   "source": [
    "chain = p.build_decay_chain('MyAntiD_0*0')\n",
    "dcv = DecayChainViewer(chain)\n",
    "dcv"
   ]
  },
  {
   "cell_type": "code",
   "execution_count": null,
   "metadata": {},
   "outputs": [],
   "source": [
    "chain = p.build_decay_chain('MyD_1+')\n",
    "dcv = DecayChainViewer(chain)\n",
    "dcv"
   ]
  },
  {
   "cell_type": "code",
   "execution_count": null,
   "metadata": {},
   "outputs": [],
   "source": [
    "# Full decay tree, but useful to look at partial bits of the tree, see next \"box\"\n",
    "chain = p.build_decay_chain('B0sig')\n",
    "dcv = DecayChainViewer(chain)\n",
    "dcv"
   ]
  },
  {
   "cell_type": "code",
   "execution_count": null,
   "metadata": {},
   "outputs": [],
   "source": [
    "dcv.graph.write_pdf('Simone.pdf')"
   ]
  },
  {
   "cell_type": "code",
   "execution_count": null,
   "metadata": {},
   "outputs": [],
   "source": [
    "chain = p.build_decay_chain('B0sig', stable_particles=['MyD-', 'MyD+', 'MyD*-', 'MyD*+'])\n",
    "dcv = DecayChainViewer(chain)\n",
    "dcv"
   ]
  }
 ],
 "metadata": {
  "kernelspec": {
   "display_name": "Python 3",
   "language": "python",
   "name": "python3"
  },
  "language_info": {
   "codemirror_mode": {
    "name": "ipython",
    "version": 3
   },
   "file_extension": ".py",
   "mimetype": "text/x-python",
   "name": "python",
   "nbconvert_exporter": "python",
   "pygments_lexer": "ipython3",
   "version": "3.7.3"
  }
 },
 "nbformat": 4,
 "nbformat_minor": 2
}
