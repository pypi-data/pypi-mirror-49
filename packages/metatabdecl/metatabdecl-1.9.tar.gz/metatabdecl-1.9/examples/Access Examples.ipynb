{
 "cells": [
  {
   "cell_type": "code",
   "execution_count": 1,
   "metadata": {
    "collapsed": false,
    "deletable": true,
    "editable": true
   },
   "outputs": [
    {
     "data": {
      "text/html": [
       "\n",
       "<h1>A Metatab Example Data Package</h1>\n",
       "<p>example.com-example_data_package-2017-us-1</p>\n",
       "<p>An example data package, from the Metatab tutorial at https://github.com/CivicKnowledge/metatab-py/blob/master/README.rst</p>\n",
       "<table>\n",
       "<tr><td>Documentation</td><td><a href=\"https://github.com/CivicKnowledge/metatab-py/blob/master/README.rst\" target=\"_blank\">Metatab Python Package README</a></td></tr>\n",
       "<tr><td>Homepage</td><td><a href=\"http://metatab.org\" target=\"_blank\">Metatab Home Page</a></td></tr>\n",
       "<tr><td>Origin</td><td>example.com</td></tr>\n",
       "<tr><td>Creator</td><td>Eric Busboom</td></tr></table>\n",
       "<h2>Resources</h2>\n",
       "<ol>\n",
       "<li><p><strong>random-names</strong> - <a target=\"_blank\" href=\"data/random-names.csv\">data/random-names.csv</a></p></li>\n",
       "<li><p><strong>renter_cost</strong> - <a target=\"_blank\" href=\"data/renter_cost.csv\">data/renter_cost.csv</a></p></li>\n",
       "<li><p><strong>simple-example-altnames</strong> - <a target=\"_blank\" href=\"data/simple-example-altnames.csv\">data/simple-example-altnames.csv</a></p></li>\n",
       "<li><p><strong>simple-example</strong> - <a target=\"_blank\" href=\"data/simple-example.csv\">data/simple-example.csv</a></p></li>\n",
       "<li><p><strong>unicode-latin1</strong> - <a target=\"_blank\" href=\"data/unicode-latin1.csv\">data/unicode-latin1.csv</a></p></li>\n",
       "<li><p><strong>unicode-utf8</strong> - <a target=\"_blank\" href=\"data/unicode-utf8.csv\">data/unicode-utf8.csv</a></p></li>\n",
       "<li><p><strong>renter_cost_excel07</strong> - <a target=\"_blank\" href=\"data/renter_cost_excel07.csv\">data/renter_cost_excel07.csv</a></p></li>\n",
       "<li><p><strong>renter_cost_excel97</strong> - <a target=\"_blank\" href=\"data/renter_cost_excel97.csv\">data/renter_cost_excel97.csv</a></p></li>\n",
       "<li><p><strong>renter_cost-2</strong> - <a target=\"_blank\" href=\"data/renter_cost-2.csv\">data/renter_cost-2.csv</a></p></li>\n",
       "</ol>\n"
      ],
      "text/plain": [
       "<metatab.doc.MetatabDoc at 0x10aeeda20>"
      ]
     },
     "execution_count": 1,
     "metadata": {},
     "output_type": "execute_result"
    }
   ],
   "source": [
    "# If you don't have metatab installed, you can run in the notebook\n",
    "# !pip install metatab\n",
    "import metatab\n",
    "doc = metatab.open_package('http://devel.metatab.org/zip/example.com-example_data_package-2017-us-1.zip')\n",
    "doc                       "
   ]
  },
  {
   "cell_type": "code",
   "execution_count": 2,
   "metadata": {
    "collapsed": false
   },
   "outputs": [
    {
     "data": {
      "text/html": [
       "<p><strong>root.creator</strong>: Eric Busboom</p><ul><li>name: Eric Busboom</li>\n",
       "<li>email: eric@civicknowledge. com</li></ul>"
      ],
      "text/plain": [
       "<Term: example.com-example_data_package-2017-us-1.zip#metadata.csv 29:1 root.creator Eric Busboom ['eric@civicknowledge. com', '', '', '', '']>"
      ]
     },
     "execution_count": 2,
     "metadata": {},
     "output_type": "execute_result"
    }
   ],
   "source": [
    "# Display a single term\n",
    "doc.find_first('Root.Creator')"
   ]
  },
  {
   "cell_type": "code",
   "execution_count": 3,
   "metadata": {
    "collapsed": false,
    "deletable": true,
    "editable": true
   },
   "outputs": [
    {
     "data": {
      "text/html": [
       "<p><strong>renter_cost</strong> - <a target=\"_blank\" href=\"data/renter_cost.csv\">data/renter_cost.csv</a></p><table>\n",
       "<tr><th>Header</th><th>Type</th><th>Description</th></tr><tr><td>id</td><td>integer</td><td></td></tr> \n",
       "<tr><td>col1</td><td>text</td><td>A GVID for the location. (a geoid in base62)</td></tr> \n",
       "<tr><td>renter_cost_gt_30</td><td>integer</td><td>Number of renters who pay more than 30% of income in rent</td></tr> \n",
       "<tr><td>renter_cost_gt_30_cv</td><td>text</td><td>Coefficient of variation for renter_cost_gt_30</td></tr> \n",
       "<tr><td>owner_cost_gt_30_pct</td><td>number</td><td>Percent of homeowners who pay more than 30% of income in mortgage</td></tr> \n",
       "<tr><td>owner_cost_gt_30_pct_cv</td><td>text</td><td>Coefficient of variation for owner_cost_gt_30_pct</td></tr> </table>"
      ],
      "text/plain": [
       "<Term: example.com-example_data_package-2017-us-1.zip#metadata.csv 14:1 root.datafile data/renter_cost.csv ['renter_cost', '5', '3,4', 'ascii', 'Portion of income spent on rent, extracted from the ACS']>"
      ]
     },
     "execution_count": 3,
     "metadata": {},
     "output_type": "execute_result"
    }
   ],
   "source": [
    "doc.resource('renter_cost')"
   ]
  },
  {
   "cell_type": "code",
   "execution_count": 4,
   "metadata": {
    "collapsed": false,
    "deletable": true,
    "editable": true
   },
   "outputs": [
    {
     "data": {
      "text/html": [
       "<div>\n",
       "<table border=\"1\" class=\"dataframe\">\n",
       "  <thead>\n",
       "    <tr style=\"text-align: right;\">\n",
       "      <th></th>\n",
       "      <th>id</th>\n",
       "      <th>col1</th>\n",
       "      <th>renter_cost_gt_30</th>\n",
       "      <th>renter_cost_gt_30_cv</th>\n",
       "      <th>owner_cost_gt_30_pct</th>\n",
       "      <th>owner_cost_gt_30_pct_cv</th>\n",
       "    </tr>\n",
       "  </thead>\n",
       "  <tbody>\n",
       "    <tr>\n",
       "      <th>0</th>\n",
       "      <td>2</td>\n",
       "      <td>0O0P03</td>\n",
       "      <td>5581</td>\n",
       "      <td>6.235932071</td>\n",
       "      <td>49.280353</td>\n",
       "      <td>4.9333693054</td>\n",
       "    </tr>\n",
       "    <tr>\n",
       "      <th>1</th>\n",
       "      <td>3</td>\n",
       "      <td>0O0P05</td>\n",
       "      <td>525</td>\n",
       "      <td>17.6481586483</td>\n",
       "      <td>45.219638</td>\n",
       "      <td>13.2887199931</td>\n",
       "    </tr>\n",
       "    <tr>\n",
       "      <th>2</th>\n",
       "      <td>4</td>\n",
       "      <td>0O0P07</td>\n",
       "      <td>352</td>\n",
       "      <td>28.061964578</td>\n",
       "      <td>47.439353</td>\n",
       "      <td>17.3833286874</td>\n",
       "    </tr>\n",
       "    <tr>\n",
       "      <th>3</th>\n",
       "      <td>5</td>\n",
       "      <td>0O0P09</td>\n",
       "      <td>1189</td>\n",
       "      <td>11.8242145966</td>\n",
       "      <td>43.157895</td>\n",
       "      <td>8.9164874613</td>\n",
       "    </tr>\n",
       "    <tr>\n",
       "      <th>4</th>\n",
       "      <td>6</td>\n",
       "      <td>0O0P0b</td>\n",
       "      <td>505</td>\n",
       "      <td>17.0055369077</td>\n",
       "      <td>61.212121</td>\n",
       "      <td>25.3942863349</td>\n",
       "    </tr>\n",
       "  </tbody>\n",
       "</table>\n",
       "</div>"
      ],
      "text/plain": [
       "   id    col1  renter_cost_gt_30 renter_cost_gt_30_cv  owner_cost_gt_30_pct  \\\n",
       "0   2  0O0P03               5581          6.235932071             49.280353   \n",
       "1   3  0O0P05                525        17.6481586483             45.219638   \n",
       "2   4  0O0P07                352         28.061964578             47.439353   \n",
       "3   5  0O0P09               1189        11.8242145966             43.157895   \n",
       "4   6  0O0P0b                505        17.0055369077             61.212121   \n",
       "\n",
       "  owner_cost_gt_30_pct_cv  \n",
       "0            4.9333693054  \n",
       "1           13.2887199931  \n",
       "2           17.3833286874  \n",
       "3            8.9164874613  \n",
       "4           25.3942863349  "
      ]
     },
     "execution_count": 4,
     "metadata": {},
     "output_type": "execute_result"
    }
   ],
   "source": [
    "df = doc.resource('renter_cost').dataframe()\n",
    "df.head()"
   ]
  }
 ],
 "metadata": {
  "kernelspec": {
   "display_name": "Python 3",
   "language": "python",
   "name": "python3"
  },
  "language_info": {
   "codemirror_mode": {
    "name": "ipython",
    "version": 3
   },
   "file_extension": ".py",
   "mimetype": "text/x-python",
   "name": "python",
   "nbconvert_exporter": "python",
   "pygments_lexer": "ipython3",
   "version": "3.5.0"
  }
 },
 "nbformat": 4,
 "nbformat_minor": 2
}
