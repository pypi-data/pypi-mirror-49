{
 "cells": [
  {
   "cell_type": "code",
   "execution_count": 1,
   "metadata": {},
   "outputs": [
    {
     "data": {
      "text/plain": [
       "{'divide': 'warn', 'over': 'warn', 'under': 'ignore', 'invalid': 'warn'}"
      ]
     },
     "execution_count": 1,
     "metadata": {},
     "output_type": "execute_result"
    }
   ],
   "source": [
    "import os\n",
    "import numpy as np\n",
    "from astropy.table import Table, join\n",
    "import matplotlib.pyplot as plt\n",
    "from astropy import units as u\n",
    "import sys\n",
    "import edge_pydb\n",
    "from edge_pydb import xy2hist\n",
    "from edge_pydb.edge_conv import sfr_ha, msd_co\n",
    "np.seterr(invalid='ignore')"
   ]
  },
  {
   "cell_type": "markdown",
   "metadata": {},
   "source": [
    "## Spatially resolved SF law for EDGE.  "
   ]
  },
  {
   "cell_type": "markdown",
   "metadata": {},
   "source": [
    "## x-axis: 7\" CO intensity from the smoothed mask.  "
   ]
  },
  {
   "cell_type": "markdown",
   "metadata": {},
   "source": [
    "## y-axis: Halpha flux from flux_elines smoothed to 7\"."
   ]
  },
  {
   "cell_type": "code",
   "execution_count": 2,
   "metadata": {},
   "outputs": [
    {
     "name": "stdout",
     "output_type": "stream",
     "text": [
      "Working on NGC 4047 data\n"
     ]
    }
   ],
   "source": [
    "try: \n",
    "    edge_pydb.getfiles('edge.pipe3d.hdf5')\n",
    "    print('Working on full EDGE database')\n",
    "    hafile = edge_pydb.getfiles('edge.pipe3d.hdf5')\n",
    "    cofile = edge_pydb.getfiles('edge.comom_smo7.hdf5')\n",
    "except:\n",
    "    print('Working on NGC 4047 data')\n",
    "    hafile = edge_pydb.getfiles('NGC4047.pipe3d.hdf5')\n",
    "    cofile = edge_pydb.getfiles('NGC4047.comom_smo7.hdf5')"
   ]
  },
  {
   "cell_type": "code",
   "execution_count": 3,
   "metadata": {},
   "outputs": [
    {
     "name": "stdout",
     "output_type": "stream",
     "text": [
      "['Name', 'ix', 'iy', 'ra_off', 'dec_off', 'rad_arc', 'azi_ang', 'emom0max', 'mom0', 'emom0', 'flux_[OII]3727', 'flux_[OIII]5007', 'flux_[OIII]4959', 'flux_Hbeta', 'flux_Halpha', 'flux_[NII]6583', 'flux_[NII]6548', 'flux_[SII]6717', 'flux_[SII]6731', 'vel_[OII]3727', 'vel_[OIII]5007', 'vel_[OIII]4959', 'vel_Hbeta', 'vel_Halpha', 'vel_[NII]6583', 'vel_[NII]6548', 'vel_[SII]6717', 'vel_[SII]6731', 'disp_[OII]3727', 'disp_[OIII]5007', 'disp_[OIII]4959', 'disp_Hbeta', 'disp_Halpha', 'disp_[NII]6583', 'disp_[NII]6548', 'disp_[SII]6717', 'disp_[SII]6731', 'EW_[OII]3727', 'EW_[OIII]5007', 'EW_[OIII]4959', 'EW_Hbeta', 'EW_Halpha', 'EW_[NII]6583', 'EW_[NII]6548', 'EW_[SII]6717', 'EW_[SII]6731', 'e_flux_[OII]3727', 'e_flux_[OIII]5007', 'e_flux_[OIII]4959', 'e_flux_Hbeta', 'e_flux_Halpha', 'e_flux_[NII]6583', 'e_flux_[NII]6548', 'e_flux_[SII]6717', 'e_flux_[SII]6731', 'e_vel_[OII]3727', 'e_vel_[OIII]5007', 'e_vel_[OIII]4959', 'e_vel_Hbeta', 'e_vel_Halpha', 'e_vel_[NII]6583', 'e_vel_[NII]6548', 'e_vel_[SII]6717', 'e_vel_[SII]6731', 'e_disp_[OII]3727', 'e_disp_[OIII]5007', 'e_disp_[OIII]4959', 'e_disp_Hbeta', 'e_disp_Halpha', 'e_disp_[NII]6583', 'e_disp_[NII]6548', 'e_disp_[SII]6717', 'e_disp_[SII]6731', 'e_EW_[OII]3727', 'e_EW_[OIII]5007', 'e_EW_[OIII]4959', 'e_EW_Hbeta', 'e_EW_Halpha', 'e_EW_[NII]6583', 'e_EW_[NII]6548', 'e_EW_[SII]6717', 'e_EW_[SII]6731']\n"
     ]
    }
   ],
   "source": [
    "cotab=Table.read(cofile, path='smo')\n",
    "hatab=Table.read(hafile, path='flux_elines_sm')\n",
    "jointbl = join(cotab,hatab)\n",
    "print(jointbl.colnames)"
   ]
  },
  {
   "cell_type": "code",
   "execution_count": 4,
   "metadata": {},
   "outputs": [
    {
     "name": "stdout",
     "output_type": "stream",
     "text": [
      "   mom0  \n",
      " K km / s\n",
      "---------\n",
      " 7.301712\n",
      " 8.736801\n",
      " 7.041168\n",
      " 8.089447\n",
      "15.900345\n",
      "18.578796\n",
      "15.325394\n",
      " 9.583817\n",
      "13.223038\n",
      "22.714005\n",
      "      ...\n",
      "6.2602997\n",
      " 8.096771\n",
      " 9.503708\n",
      " 9.195328\n",
      "6.9348907\n",
      " 6.030426\n",
      " 5.122986\n",
      "4.6809387\n",
      " 5.268097\n",
      "4.5809937\n",
      "Length = 102 rows\n",
      "Number of CO and Ha detections: 102\n"
     ]
    }
   ],
   "source": [
    "# Apply a 3-sigma cut to both axes\n",
    "det = (jointbl['mom0']>3*jointbl['emom0']) & (\n",
    "    jointbl['flux_Halpha']>3*jointbl['e_flux_Halpha'])\n",
    "codata = jointbl['mom0'][det]\n",
    "print(codata)\n",
    "hadata = jointbl['flux_Halpha'][det]\n",
    "sig_mol = msd_co(codata, name='sig_mol')\n",
    "sig_sfr = sfr_ha(hadata, jointbl['flux_Hbeta'][det], name='sig_sfr')\n",
    "print('Number of CO and Ha detections:',len(codata))"
   ]
  },
  {
   "cell_type": "code",
   "execution_count": 5,
   "metadata": {},
   "outputs": [
    {
     "ename": "TypeError",
     "evalue": "'module' object is not callable",
     "output_type": "error",
     "traceback": [
      "\u001b[0;31m---------------------------------------------------------------------------\u001b[0m",
      "\u001b[0;31mTypeError\u001b[0m                                 Traceback (most recent call last)",
      "\u001b[0;32m<ipython-input-5-0f6d53ab3c65>\u001b[0m in \u001b[0;36m<module>\u001b[0;34m\u001b[0m\n\u001b[1;32m      1\u001b[0m \u001b[0;31m# Make the scatter plot (measured values)\u001b[0m\u001b[0;34m\u001b[0m\u001b[0;34m\u001b[0m\u001b[0;34m\u001b[0m\u001b[0m\n\u001b[0;32m----> 2\u001b[0;31m \u001b[0mx_det\u001b[0m\u001b[0;34m,\u001b[0m \u001b[0my_det\u001b[0m\u001b[0;34m,\u001b[0m \u001b[0mz_det\u001b[0m\u001b[0;34m,\u001b[0m \u001b[0;34m*\u001b[0m\u001b[0mhist\u001b[0m \u001b[0;34m=\u001b[0m \u001b[0mxy2hist\u001b[0m\u001b[0;34m(\u001b[0m\u001b[0mcodata\u001b[0m\u001b[0;34m,\u001b[0m \u001b[0mhadata\u001b[0m\u001b[0;34m,\u001b[0m \u001b[0mlog\u001b[0m\u001b[0;34m=\u001b[0m\u001b[0;32mTrue\u001b[0m\u001b[0;34m)\u001b[0m\u001b[0;34m\u001b[0m\u001b[0;34m\u001b[0m\u001b[0m\n\u001b[0m\u001b[1;32m      3\u001b[0m \u001b[0mfig\u001b[0m\u001b[0;34m,\u001b[0m \u001b[0max\u001b[0m \u001b[0;34m=\u001b[0m \u001b[0mplt\u001b[0m\u001b[0;34m.\u001b[0m\u001b[0msubplots\u001b[0m\u001b[0;34m(\u001b[0m\u001b[0mfigsize\u001b[0m\u001b[0;34m=\u001b[0m\u001b[0;34m(\u001b[0m\u001b[0;36m8\u001b[0m\u001b[0;34m,\u001b[0m\u001b[0;36m8\u001b[0m\u001b[0;34m)\u001b[0m\u001b[0;34m)\u001b[0m\u001b[0;34m\u001b[0m\u001b[0;34m\u001b[0m\u001b[0m\n\u001b[1;32m      4\u001b[0m \u001b[0mcm\u001b[0m \u001b[0;34m=\u001b[0m \u001b[0mplt\u001b[0m\u001b[0;34m.\u001b[0m\u001b[0mcm\u001b[0m\u001b[0;34m.\u001b[0m\u001b[0mget_cmap\u001b[0m\u001b[0;34m(\u001b[0m\u001b[0;34m'jet'\u001b[0m\u001b[0;34m)\u001b[0m\u001b[0;34m\u001b[0m\u001b[0;34m\u001b[0m\u001b[0m\n\u001b[1;32m      5\u001b[0m \u001b[0msc\u001b[0m \u001b[0;34m=\u001b[0m \u001b[0max\u001b[0m\u001b[0;34m.\u001b[0m\u001b[0mscatter\u001b[0m\u001b[0;34m(\u001b[0m\u001b[0mx_det\u001b[0m\u001b[0;34m,\u001b[0m \u001b[0my_det\u001b[0m\u001b[0;34m,\u001b[0m \u001b[0mc\u001b[0m\u001b[0;34m=\u001b[0m\u001b[0mz_det\u001b[0m\u001b[0;34m,\u001b[0m \u001b[0ms\u001b[0m\u001b[0;34m=\u001b[0m\u001b[0;36m20\u001b[0m\u001b[0;34m,\u001b[0m \u001b[0medgecolor\u001b[0m\u001b[0;34m=\u001b[0m\u001b[0;34m''\u001b[0m\u001b[0;34m,\u001b[0m \u001b[0mcmap\u001b[0m\u001b[0;34m=\u001b[0m\u001b[0mcm\u001b[0m\u001b[0;34m)\u001b[0m\u001b[0;34m\u001b[0m\u001b[0;34m\u001b[0m\u001b[0m\n",
      "\u001b[0;31mTypeError\u001b[0m: 'module' object is not callable"
     ]
    }
   ],
   "source": [
    "# Make the scatter plot (measured values)\n",
    "x_det, y_det, z_det, *hist = xy2hist(codata, hadata, log=True)\n",
    "fig, ax = plt.subplots(figsize=(8,8))\n",
    "cm = plt.cm.get_cmap('jet')\n",
    "sc = ax.scatter(x_det, y_det, c=z_det, s=20, edgecolor='', cmap=cm)\n",
    "plt.xlabel('CO intensity ['+str(codata.unit)+']',fontsize=14)\n",
    "plt.ylabel(r'H$\\alpha$ intensity ['+str(hadata.unit)+']',fontsize=14)\n",
    "ax.set_aspect('equal')\n",
    "plt.colorbar(sc)"
   ]
  },
  {
   "cell_type": "code",
   "execution_count": null,
   "metadata": {},
   "outputs": [],
   "source": [
    "not_nan = (~np.isnan(sig_mol)) & (~np.isnan(sig_sfr)) & (sig_mol>0) & (sig_sfr>0)\n",
    "print('Excluding {} invalid values'.format(len(np.nonzero(~not_nan)[0])))\n",
    "print('Number of valid points:',len(np.nonzero(not_nan)[0]))"
   ]
  },
  {
   "cell_type": "code",
   "execution_count": null,
   "metadata": {},
   "outputs": [],
   "source": [
    "# Make the scatter plot (physical values)\n",
    "x_det, y_det, z_det, *hist = xy2hist(sig_mol[not_nan], sig_sfr[not_nan], log=True)\n",
    "fig, ax = plt.subplots(figsize=(8,8))\n",
    "cm = plt.cm.get_cmap('jet')\n",
    "sc = ax.scatter(x_det, y_det, c=z_det, s=20, edgecolor='', cmap=cm)\n",
    "plt.xlabel(r'$\\Sigma_{mol}$ ['+str(sig_mol.unit)+']',fontsize=14)\n",
    "plt.ylabel(r'$\\Sigma_{SFR}$ ['+str(sig_sfr.unit)+']',fontsize=14)\n",
    "ax.set_aspect('equal')\n",
    "plt.colorbar(sc)"
   ]
  },
  {
   "cell_type": "code",
   "execution_count": null,
   "metadata": {},
   "outputs": [],
   "source": []
  }
 ],
 "metadata": {
  "kernelspec": {
   "display_name": "Python 3",
   "language": "python",
   "name": "python3"
  },
  "language_info": {
   "codemirror_mode": {
    "name": "ipython",
    "version": 3
   },
   "file_extension": ".py",
   "mimetype": "text/x-python",
   "name": "python",
   "nbconvert_exporter": "python",
   "pygments_lexer": "ipython3",
   "version": "3.6.8"
  }
 },
 "nbformat": 4,
 "nbformat_minor": 2
}
