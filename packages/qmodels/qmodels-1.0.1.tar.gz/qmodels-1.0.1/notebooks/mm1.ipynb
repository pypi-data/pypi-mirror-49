{
 "cells": [
  {
   "cell_type": "markdown",
   "metadata": {},
   "source": [
    "# Event-Driven Simulation of M/M/1 Queues"
   ]
  },
  {
   "cell_type": "markdown",
   "metadata": {},
   "source": [
    "We start with a single-server queue with a FIFO queuing discipline. For M/M/1 queue, the customer inter-arrival time and the service time are both exponentially distributed. There is only one server for the queue. When a customer arrives at the queue, he will find himself at the end of the queue, where he will wait until he gets to the front of the queue. He will enter service as soon as the server finishes with the previous customer. Then the customer will get served for some time and then leave the system. \n",
    "\n",
    "We use simulus to simulate this scenario. Let's start with the easy way using the event-driven approach, where we handle the customer arrival and departure events, since these are the only instances when the state the queue may change."
   ]
  },
  {
   "cell_type": "markdown",
   "metadata": {},
   "source": [
    "## Setup and Random Number Generator Functions"
   ]
  },
  {
   "cell_type": "markdown",
   "metadata": {},
   "source": [
    "Before we start this section, let's first run the following so that we can set up the environment and import the necessary packages."
   ]
  },
  {
   "cell_type": "code",
   "execution_count": 1,
   "metadata": {},
   "outputs": [],
   "source": [
    "# for random distributions, random number generators, statistics\n",
    "import random\n",
    "import numpy as np\n",
    "import scipy.stats as stats\n",
    "\n",
    "# for simulation and for qmodels\n",
    "import simulus, qmodels\n",
    "\n",
    "# for data visualization\n",
    "import matplotlib.pyplot as plt\n",
    "%matplotlib inline"
   ]
  },
  {
   "cell_type": "markdown",
   "metadata": {},
   "source": [
    "You should have finished the previous section on random number generation for simulation. We pick up from there and first create a generator function to get the random numbers from an exponential distribution with a given mean. The random sequence will start with a given random seed."
   ]
  },
  {
   "cell_type": "code",
   "execution_count": 2,
   "metadata": {},
   "outputs": [],
   "source": [
    "def expon(mean, seed):\n",
    "    rv = stats.expon(scale=mean)\n",
    "    rv.random_state = np.random.RandomState(seed)\n",
    "    while True:\n",
    "        # 100 random numbers as a batch\n",
    "        for x in rv.rvs(100):\n",
    "            yield x"
   ]
  },
  {
   "cell_type": "markdown",
   "metadata": {},
   "source": [
    "We can implement the same for other distributions.  "
   ]
  },
  {
   "cell_type": "markdown",
   "metadata": {},
   "source": [
    "## Scheduling Event Handlers"
   ]
  },
  {
   "cell_type": "markdown",
   "metadata": {},
   "source": [
    "When a customer arrives at the queue, two things happen. One is that we need to schedule the arrival of the next customer. The other is that we check whether the customer can be served immediately (that is, the customer is the only one in the system upon arrival). If so, we need to schedule the departure of this customer. \n",
    "\n",
    "In simulus, to schedule an event in the future, we use the simulator's `sched()`, which takes the name of a function (which we call the event handler), followed by the list of arguments to be passed to the event handler (we have none for this example). The 'offset' argument is a keyword argument for the `sched()` function (not for the event handler); it specifies the relative time from now the event is scheduled to happen.\n",
    "\n",
    "The event handler for customer arrival is listed below. Note that we use a global varaible `num_in_system` to track the current number of customers in the system."
   ]
  },
  {
   "cell_type": "code",
   "execution_count": 3,
   "metadata": {},
   "outputs": [],
   "source": [
    "def arrive():\n",
    "    global num_in_system\n",
    "    print('%g: customer arrives (num_in_system=%d->%d)' %\n",
    "          (sim.now, num_in_system, num_in_system+1))\n",
    "    \n",
    "    # increment the total number of customers in system\n",
    "    num_in_system += 1\n",
    "    \n",
    "    # schedule next customer's arrival\n",
    "    sim.sched(arrive, offset=next(inter_arrival_time))\n",
    "    \n",
    "    # the arrived customer is the only one in system\n",
    "    if num_in_system == 1:\n",
    "        # schedule the customer's departure\n",
    "        sim.sched(depart, offset=next(service_time))"
   ]
  },
  {
   "cell_type": "markdown",
   "metadata": {},
   "source": [
    "When a customer gets served, he leaves the system. After that, if there are other customers waiting, the next customer will be served immediately. For that, we need to schedule the departure of that customer. \n",
    "\n",
    "The event handler for customer departure is listed below:"
   ]
  },
  {
   "cell_type": "code",
   "execution_count": 4,
   "metadata": {},
   "outputs": [],
   "source": [
    "def depart():\n",
    "    global num_in_system\n",
    "    print('%g: customer departs (num_in_system=%d->%d)' %\n",
    "          (sim.now, num_in_system, num_in_system-1))\n",
    "    \n",
    "    # decrement the total number of customers in system\n",
    "    num_in_system -= 1\n",
    "    \n",
    "    # there are remaining customers in system\n",
    "    if num_in_system > 0:\n",
    "        # schedule the next customer's departure\n",
    "        sim.sched(depart, offset=next(service_time))"
   ]
  },
  {
   "cell_type": "markdown",
   "metadata": {},
   "source": [
    "Now we are ready to simulate the queue. We instantiate a simulator. We then create two generators, one for the inter-arrival time and the other for the service time. The two generators use separate random streams, seeded from the simulator-specific random sequence. Before we start the simulation, we schedule the first customer's arrival. And finally we run the simulation for 10 simulated seconds."
   ]
  },
  {
   "cell_type": "code",
   "execution_count": 5,
   "metadata": {
    "scrolled": true
   },
   "outputs": [
    {
     "name": "stdout",
     "output_type": "stream",
     "text": [
      "0.117886: customer arrives (num_in_system=0->1)\n",
      "0.440574: customer departs (num_in_system=1->0)\n",
      "0.442274: customer arrives (num_in_system=0->1)\n",
      "1.34061: customer departs (num_in_system=1->0)\n",
      "1.4955: customer arrives (num_in_system=0->1)\n",
      "1.59616: customer departs (num_in_system=1->0)\n",
      "1.78134: customer arrives (num_in_system=0->1)\n",
      "2.09363: customer arrives (num_in_system=1->2)\n",
      "2.50151: customer departs (num_in_system=2->1)\n",
      "2.63192: customer departs (num_in_system=1->0)\n",
      "6.51199: customer arrives (num_in_system=0->1)\n",
      "7.05751: customer arrives (num_in_system=1->2)\n",
      "7.32092: customer departs (num_in_system=2->1)\n",
      "8.02589: customer arrives (num_in_system=1->2)\n",
      "8.05119: customer arrives (num_in_system=2->3)\n",
      "8.95281: customer arrives (num_in_system=3->4)\n",
      "9.55017: customer departs (num_in_system=4->3)\n",
      "9.5674: customer departs (num_in_system=3->2)\n"
     ]
    }
   ],
   "source": [
    "random.seed(13579) # global random seed\n",
    "\n",
    "sim = simulus.simulator('mm1')\n",
    "inter_arrival_time = expon(1.2, sim.rng().randrange(2**32))\n",
    "service_time = expon(0.8, sim.rng().randrange(2**32))\n",
    "\n",
    "num_in_system = 0\n",
    "sim.sched(arrive, offset=next(inter_arrival_time))\n",
    "sim.run(10)"
   ]
  },
  {
   "cell_type": "markdown",
   "metadata": {},
   "source": [
    "## Statistics Collection and Plotting"
   ]
  },
  {
   "cell_type": "markdown",
   "metadata": {},
   "source": [
    "The output from the previous simulation is kind of boring. Let's gather some statistics and try to plot them. \n",
    "\n",
    "We want to collect the wait time of the customers. To do that, we need to remember the time when the customer arrives at the system and also the time when the customer departs from the system. There are many ways to do the bookkeeping, the easy way we found is to simply use a data structure to keep track of the waiting customers. We use a deque (double-ended queue). We insert the time at which a customer enters the system and remove a time when the customer leaves. The time in-between is the customers wait time (including both queuing time and time in service). \n",
    "\n",
    "We also want to track the number of customers in the system as it changes over time. For this, we use a list and each entry in the list is a tuple consisted of the time and the number of customers enqueued at the time.\n",
    "\n",
    "The event handlers revised with bookkeeping are listed below:"
   ]
  },
  {
   "cell_type": "code",
   "execution_count": 6,
   "metadata": {},
   "outputs": [],
   "source": [
    "from collections import deque\n",
    "\n",
    "def arrive():\n",
    "    # add the customer to the end of the queue\n",
    "    queue.append(sim.now)\n",
    "    in_systems.append((sim.now, len(queue)))\n",
    "    \n",
    "    # schedule next customer's arrival\n",
    "    sim.sched(arrive, offset=next(inter_arrival_time))\n",
    "    \n",
    "    # the arrived customer is the only one in system\n",
    "    if len(queue) == 1:\n",
    "        # schedule the customer's departure\n",
    "        sim.sched(depart, offset=next(service_time))\n",
    "        \n",
    "def depart():\n",
    "    # remove a customer from the head of the queue\n",
    "    t = queue.popleft()\n",
    "    in_systems.append((sim.now, len(queue)))\n",
    "    waits.append(sim.now-t)\n",
    "    \n",
    "    # there are remaining customers in system\n",
    "    if len(queue) > 0:\n",
    "        # schedule the next customer's departure\n",
    "        sim.sched(depart, offset=next(service_time))"
   ]
  },
  {
   "cell_type": "markdown",
   "metadata": {},
   "source": [
    "Now we can run the simulation to gather the statistics. We can calculate the sample mean and standard deviation of the wait time. We can also calculate the (time-weighted) average number of customers in the system. If one plots the number of customers in system over time (which is a step function), it's the area under the curve divided by time."
   ]
  },
  {
   "cell_type": "code",
   "execution_count": 7,
   "metadata": {},
   "outputs": [
    {
     "name": "stdout",
     "output_type": "stream",
     "text": [
      "wait times: [0.32268893720840264, 0.8983373047687732, 0.10065541473146267]...\n",
      "number customers in systems: [(0, 0), (0.1178855329607668, 1), (0.44057447016916945, 0)]...\n",
      "wait time: mean=2.39855, stdev=2.34153\n",
      "avg number of customers in system = 2.00328\n"
     ]
    }
   ],
   "source": [
    "queue = deque()\n",
    "in_systems = [(0,0)]\n",
    "waits = []\n",
    "\n",
    "sim = simulus.simulator('mm1')\n",
    "inter_arrival_time = expon(1.2, sim.rng().randrange(2**32))\n",
    "service_time = expon(0.8, sim.rng().randrange(2**32))\n",
    "sim.sched(arrive, offset=next(inter_arrival_time))\n",
    "sim.run(10000)\n",
    "\n",
    "print('wait times: %r...' % waits[:3])\n",
    "print('number customers in systems: %r...' % in_systems[:3])\n",
    "\n",
    "waits = np.array(waits)\n",
    "print(\"wait time: mean=%g, stdev=%g\" % \n",
    "      (waits.mean(), waits.std()))\n",
    "\n",
    "# area under curve divided by time is the \n",
    "# average number of customers in system\n",
    "auc, last_t, last_l = 0, 0, 0\n",
    "for t, l in in_systems:\n",
    "    auc += (t-last_t)*last_l\n",
    "    last_t, last_l = t, l\n",
    "print(\"avg number of customers in system = %g\" % (auc/last_t))"
   ]
  },
  {
   "cell_type": "markdown",
   "metadata": {},
   "source": [
    "The queuing theory for M/M/1 queue tells us that in steady state, the mean wait time should be $1/(\\mu - \\lambda)$ and the mean number of customers in system should be $\\lambda/(\\mu - \\lambda)$. That is, $\\lambda=1/1.2=5/6$ and $\\mu=1/0.8=5/4$. Therefore, the mean wait time should be 2.4, and the mean number of customers in system should be 2.0. We can use long-run simulation to obtain better steady-state estimations. But in most simulation cases, we'd be more interested in the transient behaviors of the system under study.  \n",
    "\n",
    "The data collected during simulation can also be used to generate many interesting plots. For example, we can plot the number of customers in the system as it changes over time. In the following, we only plot the first few."
   ]
  },
  {
   "cell_type": "code",
   "execution_count": 8,
   "metadata": {},
   "outputs": [
    {
     "data": {
      "image/png": "[encoded data removed]",
      "text/plain": [
       "<Figure size 432x288 with 1 Axes>"
      ]
     },
     "metadata": {
      "needs_background": "light"
     },
     "output_type": "display_data"
    }
   ],
   "source": [
    "plt.step(*zip(*in_systems[:20]), where='post')\n",
    "plt.title(\"M/M/1 Queue\")\n",
    "plt.xlabel(\"Time\")\n",
    "plt.ylabel(\"Number Customers in System\")\n",
    "plt.show()"
   ]
  },
  {
   "cell_type": "markdown",
   "metadata": {},
   "source": [
    "We can plot histogram of the wait time. And we can examine the percentage of customers who have experienced long wait time, say, more than 10 seconds. "
   ]
  },
  {
   "cell_type": "code",
   "execution_count": 9,
   "metadata": {},
   "outputs": [
    {
     "data": {
      "image/png": "[encoded data removed]",
      "text/plain": [
       "<Figure size 432x288 with 1 Axes>"
      ]
     },
     "metadata": {
      "needs_background": "light"
     },
     "output_type": "display_data"
    },
    {
     "name": "stdout",
     "output_type": "stream",
     "text": [
      "1.22156% customers experienced wait time more than 10 seconds,\n",
      "while 90% of customers experienced wait time no more than 5.71846 seconds\n"
     ]
    }
   ],
   "source": [
    "plt.hist(waits, alpha=0.5, bins='auto', density=True)\n",
    "plt.show()\n",
    "print('%g%% customers experienced wait time more than 10 seconds,' % \n",
    "      (100*(waits>10).sum()/len(waits)))\n",
    "print('while 90%% of customers experienced wait time no more than %g seconds' % \n",
    "      np.percentile(waits, 90))"
   ]
  },
  {
   "cell_type": "markdown",
   "metadata": {},
   "source": [
    "The above plot shows that the mean wait time increases as we increase 'b', which increases both the mean and the standard deviation of the service time. The confidence interval also seems to be getting larger as we increase 'b'. \n",
    "\n",
    "As 'b' increases, the service rate decreases and the difference between the arrival rate and service rate decreases as a result. It takes longer for the simulation to reach steady state. We fixed each simulation run to last for 1000 simulated seconds, which may not be sufficient for a larger 'b'."
   ]
  },
  {
   "cell_type": "markdown",
   "metadata": {},
   "source": [
    "## Source Code"
   ]
  },
  {
   "cell_type": "markdown",
   "metadata": {},
   "source": [
    "The following is the source code for the event-driven M/M/1 model. To make the code more organized and reusable, we wrap the variables and both `arrive` and `depart` methods inside the class `mm1`. We also use Python's logging module to provide user with the option to turn printing on and off."
   ]
  },
  {
   "cell_type": "code",
   "execution_count": 10,
   "metadata": {},
   "outputs": [
    {
     "name": "stderr",
     "output_type": "stream",
     "text": [
      "mm1: INFO: 0.117886: customer arrives (num_in_system=0->1)\n",
      "mm1: INFO: 0.440574: customer departs (num_in_system=1->0)\n",
      "mm1: INFO: 0.442274: customer arrives (num_in_system=0->1)\n",
      "mm1: INFO: 1.34061: customer departs (num_in_system=1->0)\n",
      "mm1: INFO: 1.4955: customer arrives (num_in_system=0->1)\n",
      "mm1: INFO: 1.59616: customer departs (num_in_system=1->0)\n",
      "mm1: INFO: 1.78134: customer arrives (num_in_system=0->1)\n",
      "mm1: INFO: 2.09363: customer arrives (num_in_system=1->2)\n",
      "mm1: INFO: 2.50151: customer departs (num_in_system=2->1)\n",
      "mm1: INFO: 2.63192: customer departs (num_in_system=1->0)\n",
      "mm1: INFO: 6.51199: customer arrives (num_in_system=0->1)\n",
      "mm1: INFO: 7.05751: customer arrives (num_in_system=1->2)\n",
      "mm1: INFO: 7.32092: customer departs (num_in_system=2->1)\n",
      "mm1: INFO: 8.02589: customer arrives (num_in_system=1->2)\n",
      "mm1: INFO: 8.05119: customer arrives (num_in_system=2->3)\n",
      "mm1: INFO: 8.95281: customer arrives (num_in_system=3->4)\n",
      "mm1: INFO: 9.55017: customer departs (num_in_system=4->3)\n",
      "mm1: INFO: 9.5674: customer departs (num_in_system=3->2)\n"
     ]
    }
   ],
   "source": [
    "# %load '../qmodels/mm1.py'\n",
    "import random, logging\n",
    "from collections import deque\n",
    "import numpy as np\n",
    "import scipy.stats as stats\n",
    "import simulus\n",
    "\n",
    "from qmodels.rng import *\n",
    "\n",
    "__all__ = ['mm1']\n",
    "\n",
    "class mm1(object):\n",
    "    def __init__(self, sim, mean_iat, mean_svtime):\n",
    "        self.sim = sim\n",
    "\n",
    "        self.inter_arrival_time = expon(mean_iat, sim.rng().randrange(2**32))\n",
    "        self.service_time = expon(mean_svtime, sim.rng().randrange(2**32))\n",
    "\n",
    "        self.queue = deque()\n",
    "        self.in_systems = [(0,0)]\n",
    "        self.waits = []\n",
    "\n",
    "        self.logger = logging.getLogger('mm1')\n",
    "        handler = logging.StreamHandler()\n",
    "        handler.setFormatter(logging.Formatter('%(name)s: %(levelname)s: %(message)s'))\n",
    "        self.logger.addHandler(handler)\n",
    "\n",
    "        sim.sched(self.arrive, offset=next(self.inter_arrival_time))\n",
    "\n",
    "    def arrive(self):\n",
    "        '''Event handler for customer arrival.'''\n",
    "        self.logger.info('%g: customer arrives (num_in_system=%d->%d)' %\n",
    "                         (sim.now, len(self.queue), len(self.queue)+1))\n",
    "\n",
    "        # add the customer to the end of the queue\n",
    "        self.queue.append(self.sim.now)\n",
    "        self.in_systems.append((self.sim.now, len(self.queue)))\n",
    "    \n",
    "        # schedule next customer's arrival\n",
    "        self.sim.sched(self.arrive, offset=next(self.inter_arrival_time))\n",
    "    \n",
    "        # the arrived customer is the only one in system\n",
    "        if len(self.queue) == 1:\n",
    "            # schedule the customer's departure\n",
    "            self.sim.sched(self.depart, offset=next(self.service_time))\n",
    "        \n",
    "    def depart(self):\n",
    "        '''Event handler for customer departure.'''\n",
    "        self.logger.info('%g: customer departs (num_in_system=%d->%d)' %\n",
    "                         (sim.now, len(self.queue), len(self.queue)-1))\n",
    "\n",
    "        # remove a customer from the head of the queue\n",
    "        t = self.queue.popleft()\n",
    "        self.in_systems.append((self.sim.now, len(self.queue)))\n",
    "        self.waits.append(self.sim.now-t)\n",
    "    \n",
    "        # there are remaining customers in system\n",
    "        if len(self.queue) > 0:\n",
    "            # schedule the next customer's departure\n",
    "            self.sim.sched(self.depart, offset=next(self.service_time))\n",
    "\n",
    "if __name__ == '__main__':\n",
    "    random.seed(13579) # global random seed\n",
    "    sim = simulus.simulator('mm1') # create a simulator instance\n",
    "    q = mm1(sim, 1.2, 0.8) # create the m/m/1 queue\n",
    "    q.logger.setLevel(logging.INFO)\n",
    "    sim.run(10)\n"
   ]
  },
  {
   "cell_type": "code",
   "execution_count": null,
   "metadata": {},
   "outputs": [],
   "source": []
  }
 ],
 "metadata": {
  "kernelspec": {
   "display_name": "Python 3",
   "language": "python",
   "name": "python3"
  },
  "language_info": {
   "codemirror_mode": {
    "name": "ipython",
    "version": 3
   },
   "file_extension": ".py",
   "mimetype": "text/x-python",
   "name": "python",
   "nbconvert_exporter": "python",
   "pygments_lexer": "ipython3",
   "version": "3.7.4"
  }
 },
 "nbformat": 4,
 "nbformat_minor": 2
}
