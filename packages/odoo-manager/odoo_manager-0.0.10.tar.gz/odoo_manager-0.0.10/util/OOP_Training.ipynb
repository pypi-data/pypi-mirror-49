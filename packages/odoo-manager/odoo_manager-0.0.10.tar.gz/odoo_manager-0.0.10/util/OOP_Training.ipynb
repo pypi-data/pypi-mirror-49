{
    "metadata": {
        "name": "",
        "signature": "sha256:c7db771757af6cb0f1257c9d6690c881b6dc8ef2172f676f341c322cea019772"
    },
    "nbformat":
    3,
    "nbformat_minor":
    0,
    "worksheets": [{
        "cells": [{
            "cell_type": "heading",
            "level": 1,
            "metadata": {
                "slideshow": {
                    "slide_type": "slide"
                }
            },
            "source": ["OOP Programming in Python"]
        }, {
            "cell_type": "heading",
            "level": 2,
            "metadata": {
                "slideshow": {
                    "slide_type": "slide"
                }
            },
            "source": ["Python variables and data structures"]
        }, {
            "cell_type":
            "markdown",
            "metadata": {
                "slideshow": {
                    "slide_type": "subslide"
                }
            },
            "source": [
                "Initially when learning Python, there are variables and functions. For variables, there are simple base types like integers, floats, and strings."
            ]
        }, {
            "cell_type":
            "markdown",
            "metadata": {},
            "source": [
                "The next level of abstraction is Python's data structures. These are structures such as lists or dictionaries. At their simplest, they are a collection of variables, allowing the programmer to keep related data together, making it easier to manipulate the collection of data."
            ]
        }, {
            "cell_type":
            "markdown",
            "metadata": {},
            "source": [
                "But Python does not restrict these data structures to be just collections of basic variables, but can be collections of other collections. For example, if an application monitored the status of doors, each item in the list would represent a door. These items would then have several attributes, here a string and boolean."
            ]
        }, {
            "cell_type":
            "code",
            "collapsed":
            true,
            "input": [
                "doors = [\n", "    {'description': \"West Entrance\", 'open': True},\n", "    {'description': \"North Entrance\", 'open':  True},\n",
                "    {'description': \"Data Center\", 'open':  False},\n", "]"
            ],
            "language":
            "python",
            "metadata": {},
            "outputs": [],
            "prompt_number":
            3
        }, {
            "cell_type": "markdown",
            "metadata": {},
            "source": ["Then a new door can be created, or the status needs to be changed, the program can operate like so"]
        }, {
            "cell_type": "code",
            "collapsed": true,
            "input": ["# Creating a new door\n", "doors.append({'description': \"Supplies Closet\", 'open': False})\n", "doors[0]['open'] = False"],
            "language": "python",
            "metadata": {},
            "outputs": [],
            "prompt_number": 4
        }, {
            "cell_type": "markdown",
            "metadata": {},
            "source": ["Then a report can be generated"]
        }, {
            "cell_type":
            "code",
            "collapsed":
            true,
            "input": ["for door in doors:\n", "    print \"%21s --> Locked: %s\" % (door['description'], door['open'])"],
            "language":
            "python",
            "metadata": {},
            "outputs": [{
                "output_type":
                "stream",
                "stream":
                "stdout",
                "text": [
                    "        West Entrance --> Locked: False\n", "       North Entrance --> Locked: True\n", "          Data Center --> Locked: False\n",
                    "      Supplies Closet --> Locked: False\n"
                ]
            }],
            "prompt_number":
            5
        }, {
            "cell_type": "heading",
            "level": 2,
            "metadata": {},
            "source": ["Objects in Python"]
        }, {
            "cell_type":
            "markdown",
            "metadata": {},
            "source": [
                "Objects are another level of abstraction above the data structure, allowing the programmer to keep related variables and functions together. When attached to an object, variables and functions are known as properties and methods respectively."
            ]
        }, {
            "cell_type":
            "markdown",
            "metadata": {},
            "source": [
                "In Python, everything is an object. This means that even the basic variables and data structures are objects, with their own properties and methods. To access a property or method of an object, use the '.' operator like so"
            ]
        }, {
            "cell_type":
            "code",
            "collapsed":
            true,
            "input": ["aList = [7,3,1,9,2]\n", "print \"aList before sort: %r\" % aList\n", "aList.sort()\n", "print \"aList after sort: %r\" % aList"],
            "language":
            "python",
            "metadata": {},
            "outputs": [{
                "output_type": "stream",
                "stream": "stdout",
                "text": ["aList before sort: [7, 3, 1, 9, 2]\n", "aList after sort: [1, 2, 3, 7, 9]\n"]
            }],
            "prompt_number":
            6
        }, {
            "cell_type": "markdown",
            "metadata": {},
            "source": ["Calling a method is the same as calling a function, requiring the use of the trailing '()'."]
        }, {
            "cell_type": "markdown",
            "metadata": {},
            "source": ["Since everything is an object in Python, everything has a type. "]
        }, {
            "cell_type":
            "code",
            "collapsed":
            true,
            "input": ["print type(aList)\n", "print type(doors)\n", "print type(doors[0])\n", "print type(10.0)\n", "print type('abc')"],
            "language":
            "python",
            "metadata": {},
            "outputs": [{
                "output_type": "stream",
                "stream": "stdout",
                "text": ["<type 'list'>\n", "<type 'list'>\n", "<type 'dict'>\n", "<type 'float'>\n", "<type 'str'>\n"]
            }],
            "prompt_number":
            7
        }, {
            "cell_type": "markdown",
            "metadata": {},
            "source": ["Using the dir() function enumerates the methods and properties of an object."]
        }, {
            "cell_type":
            "code",
            "collapsed":
            false,
            "input": ["dir(aList)"],
            "language":
            "python",
            "metadata": {},
            "outputs": [{
                "metadata": {},
                "output_type":
                "pyout",
                "prompt_number":
                8,
                "text": [
                    "['__add__',\n", " '__class__',\n", " '__contains__',\n", " '__delattr__',\n", " '__delitem__',\n", " '__delslice__',\n", " '__doc__',\n",
                    " '__eq__',\n", " '__format__',\n", " '__ge__',\n", " '__getattribute__',\n", " '__getitem__',\n", " '__getslice__',\n", " '__gt__',\n",
                    " '__hash__',\n", " '__iadd__',\n", " '__imul__',\n", " '__init__',\n", " '__iter__',\n", " '__le__',\n", " '__len__',\n", " '__lt__',\n",
                    " '__mul__',\n", " '__ne__',\n", " '__new__',\n", " '__reduce__',\n", " '__reduce_ex__',\n", " '__repr__',\n", " '__reversed__',\n",
                    " '__rmul__',\n", " '__setattr__',\n", " '__setitem__',\n", " '__setslice__',\n", " '__sizeof__',\n", " '__str__',\n",
                    " '__subclasshook__',\n", " 'append',\n", " 'count',\n", " 'extend',\n", " 'index',\n", " 'insert',\n", " 'pop',\n", " 'remove',\n",
                    " 'reverse',\n", " 'sort']"
                ]
            }],
            "prompt_number":
            8
        }, {
            "cell_type": "heading",
            "level": 2,
            "metadata": {},
            "source": ["Python Classes"]
        }, {
            "cell_type":
            "markdown",
            "metadata": {},
            "source": [
                "Defining a class in Python is similar to defining functions, indenting the properties and methods that will go with that class. Again, use the '.' operator to access the property."
            ]
        }, {
            "cell_type":
            "code",
            "collapsed":
            true,
            "input": [
                "class Employee:\n", "    name = \"No name has been assigned.\"\n", "\n", "print Employee.name\n", "print type(Employee)\n",
                "print dir(Employee)\n", "Employee.x = 7\n", "print dir(Employee)"
            ],
            "language":
            "python",
            "metadata": {},
            "outputs": [{
                "output_type":
                "stream",
                "stream":
                "stdout",
                "text":
                ["No name has been assigned.\n", "<type 'classobj'>\n", "['__doc__', '__module__', 'name']\n", "['__doc__', '__module__', 'name', 'x']\n"]
            }],
            "prompt_number":
            9
        }, {
            "cell_type": "heading",
            "level": 2,
            "metadata": {},
            "source": ["Classes and Instances"]
        }, {
            "cell_type":
            "markdown",
            "metadata": {},
            "source": [
                "But just one employee is not so useful, instead what is needed is the ability to create multiple employees. In Python, each employee is an instance of the Employee class. Note that when reading about OOP in general, instance and object are used interchangeably. Strictly speaking, in Python both the class and instance are objects."
            ]
        }, {
            "cell_type":
            "code",
            "collapsed":
            true,
            "input": ["joe = Employee()\n", "jane = Employee()\n", "print joe.name\n", "print jane.name\n", "print type(joe)\n", "print type(jane)"],
            "language":
            "python",
            "metadata": {},
            "outputs": [{
                "output_type": "stream",
                "stream": "stdout",
                "text": ["No name has been assigned.\n", "No name has been assigned.\n", "<type 'instance'>\n", "<type 'instance'>\n"]
            }],
            "prompt_number":
            10
        }, {
            "cell_type":
            "markdown",
            "metadata": {},
            "source": [
                "There is a something to pay attention to with the class property name. Note how the instance references the class property until the instance changes its value."
            ]
        }, {
            "cell_type":
            "code",
            "collapsed":
            true,
            "input": ["Employee.name = \"Class property changed\"\n", "print Employee.name\n", "print joe.name\n", "print jane.name"],
            "language":
            "python",
            "metadata": {},
            "outputs": [{
                "output_type": "stream",
                "stream": "stdout",
                "text": ["Class property changed\n", "Class property changed\n", "Class property changed\n"]
            }],
            "prompt_number":
            11
        }, {
            "cell_type": "markdown",
            "metadata": {},
            "source": ["But now we change joe's name"]
        }, {
            "cell_type": "code",
            "collapsed": true,
            "input": ["joe.name = \"Joe Schmoe\"\n", "print Employee.name\n", "print joe.name\n", "print jane.name"],
            "language": "python",
            "metadata": {},
            "outputs": [{
                "output_type": "stream",
                "stream": "stdout",
                "text": ["Class property changed\n", "Joe Schmoe\n", "Class property changed\n"]
            }],
            "prompt_number": 12
        }, {
            "cell_type": "markdown",
            "metadata": {},
            "source": ["And change the class property back to its original"]
        }, {
            "cell_type": "code",
            "collapsed": true,
            "input": ["Employee.name = \"Name Unknown\"\n", "print Employee.name\n", "print joe.name\n", "print jane.name"],
            "language": "python",
            "metadata": {},
            "outputs": [{
                "output_type": "stream",
                "stream": "stdout",
                "text": ["Name Unknown\n", "Joe Schmoe\n", "Name Unknown\n"]
            }],
            "prompt_number": 13
        }, {
            "cell_type": "heading",
            "level": 2,
            "metadata": {},
            "source": ["Methods and self"]
        }, {
            "cell_type":
            "markdown",
            "metadata": {},
            "source": [
                "Methods are defined just like any other function is defined, except that there is an implicit passing of the instance to the method that is called. When defining the method, this variable must be listed as the first argument. It can be named anything, but it is customary to call it self. It is strongly recommended that this custom is followed."
            ]
        }, {
            "cell_type":
            "code",
            "collapsed":
            true,
            "input": [
                "class Employee:\n", "    name = \"Unknown\"\n", "    def hello(self):\n", "        print \"Hello, my name is %s\" % Employee.name\n",
                "joe = Employee()\n", "joe.hello()\n", "joe.name = \"Joe Schmoe\"\n", "joe.hello()"
            ],
            "language":
            "python",
            "metadata": {},
            "outputs": [{
                "output_type": "stream",
                "stream": "stdout",
                "text": ["Hello, my name is Unknown\n", "Hello, my name is Unknown\n"]
            }],
            "prompt_number":
            14
        }, {
            "cell_type":
            "markdown",
            "metadata": {},
            "source": [
                "Since a class is not an instance, calling the method from the class will generate an error because the self variable is not passed when the method is call"
            ]
        }, {
            "cell_type":
            "code",
            "collapsed":
            true,
            "input": ["Employee.hello()"],
            "language":
            "python",
            "metadata": {},
            "outputs": [{
                "ename":
                "TypeError",
                "evalue":
                "unbound method hello() must be called with Employee instance as first argument (got nothing instead)",
                "output_type":
                "pyerr",
                "traceback": [
                    "\u001b[0;31m---------------------------------------------------------------------------\u001b[0m\n\u001b[0;31mTypeError\u001b[0m                                 Traceback (most recent call last)",
                    "\u001b[0;32m<ipython-input-15-3b098c12f422>\u001b[0m in \u001b[0;36m<module>\u001b[0;34m()\u001b[0m\n\u001b[0;32m----> 1\u001b[0;31m \u001b[0mEmployee\u001b[0m\u001b[0;34m.\u001b[0m\u001b[0mhello\u001b[0m\u001b[0;34m(\u001b[0m\u001b[0;34m)\u001b[0m\u001b[0;34m\u001b[0m\u001b[0m\n\u001b[0m",
                    "\u001b[0;31mTypeError\u001b[0m: unbound method hello() must be called with Employee instance as first argument (got nothing instead)"
                ]
            }],
            "prompt_number":
            15
        }, {
            "cell_type": "heading",
            "level": 2,
            "metadata": {},
            "source": ["Instance variables"]
        }, {
            "cell_type":
            "markdown",
            "metadata": {},
            "source": [
                "So in the previous example, there is a problem with accessing joe's name. The problem is that name is a class property, not an instance property. The fix is to prefix the variable with 'self.' "
            ]
        }, {
            "cell_type":
            "code",
            "collapsed":
            true,
            "input": [
                "class Employee:\n", "    name = \"Unknown\"\n", "    def hello(self):\n", "        print \"Hello, my name is %s\" % self.name\n",
                "joe = Employee()\n", "joe.hello()\n", "Employee.name = \"No Name\"\n", "joe.hello()\n", "joe.name = \"Joe Schmoe\"\n", "joe.hello()"
            ],
            "language":
            "python",
            "metadata": {},
            "outputs": [{
                "output_type": "stream",
                "stream": "stdout",
                "text": ["Hello, my name is Unknown\n", "Hello, my name is No Name\n", "Hello, my name is Joe Schmoe\n"]
            }],
            "prompt_number":
            16
        }, {
            "cell_type":
            "markdown",
            "metadata": {},
            "source": [
                "There is a problem here, though. If we change the class variable, it changes for all instances that have not updated its variable. This is probably not what is intended. To fix this, the name variable should be a instance variable that is created when the instance is created."
            ]
        }, {
            "cell_type": "heading",
            "level": 2,
            "metadata": {},
            "source": ["Initialization"]
        }, {
            "cell_type":
            "markdown",
            "metadata": {},
            "source": [
                "Python uses the \\_\\_init\\_\\_ method when the class is called. It is here where validation can be done and default settings can be assigned. Note how changing the Employee does not affect joe, only instances that are created after the change."
            ]
        }, {
            "cell_type":
            "code",
            "collapsed":
            true,
            "input": [
                "class Employee:\n", "    name = \"Unknown\"\n", "    def __init__(self):\n", "        self.name = Employee.name\n", "    def hello(self):\n",
                "        print \"Hello, my name is %s\" % self.name\n", "joe = Employee()\n", "joe.hello()\n", "Employee.name = \"No Name\"\n", "joe.hello()\n",
                "joe.name = \"Joe Schmoe\"\n", "joe.hello()\n", "jane = Employee()\n", "jane.hello()"
            ],
            "language":
            "python",
            "metadata": {},
            "outputs": [{
                "output_type": "stream",
                "stream": "stdout",
                "text": ["Hello, my name is Unknown\n", "Hello, my name is Unknown\n", "Hello, my name is Joe Schmoe\n", "Hello, my name is No Name\n"]
            }],
            "prompt_number":
            17
        }, {
            "cell_type": "markdown",
            "metadata": {},
            "source": ["Since \\_\\_init\\_\\_ is just another method, arguments can be passed to and used to initialize the instance."]
        }, {
            "cell_type":
            "code",
            "collapsed":
            true,
            "input": [
                "class Employee:\n", "    name = \"Unknown\"\n", "    def __init__(self, *args, **kwargs):\n",
                "        self.name = kwargs.get('name', Employee.name)\n", "    def hello(self):\n", "        print \"Hello, my name is %s\" % self.name\n",
                "joe = Employee()\n", "jane = Employee(name=\"Jane\")\n", "joe.hello()\n", "jane.hello()"
            ],
            "language":
            "python",
            "metadata": {},
            "outputs": [{
                "output_type": "stream",
                "stream": "stdout",
                "text": ["Hello, my name is Unknown\n", "Hello, my name is Jane\n"]
            }],
            "prompt_number":
            18
        }, {
            "cell_type": "heading",
            "level": 2,
            "metadata": {},
            "source": ["Why use OOP"]
        }, {
            "cell_type": "markdown",
            "metadata": {},
            "source": ["So why would use OOP, when there is all this overhead? Looking back at the doors example, here it is converted to using classes"]
        }, {
            "cell_type":
            "code",
            "collapsed":
            true,
            "input": [
                "class Door:\n", "    default_open = False\n", "    def __init__(self, description, *args, **kwargs):\n",
                "        self.description = description\n", "        self.open = kwargs.get('open', Door.default_open)\n", "    def status(self):\n",
                "        print \"%21s --> Locked: %s\" % (self.description, self.open)\n", "    def lock(self):\n", "        self.open = False\n",
                "    def unlock(self):\n", "        self.open = True\n", "        \n", "d1 = Door(\"West Entrance\", open=True)\n",
                "d2 = Door(\"North Entrance\", open=True)\n", "d3 = Door(\"Data Center\")\n", "    \n", "d2.status()\n", "d3.status()\n", "\n", "d1.status()\n",
                "d1.lock()\n", "d1.status()\n", "d1.unlock()\n", "d1.status()"
            ],
            "language":
            "python",
            "metadata": {},
            "outputs": [{
                "output_type":
                "stream",
                "stream":
                "stdout",
                "text": [
                    "       North Entrance --> Locked: True\n", "          Data Center --> Locked: False\n", "        West Entrance --> Locked: True\n",
                    "        West Entrance --> Locked: False\n", "        West Entrance --> Locked: True\n"
                ]
            }],
            "prompt_number":
            19
        }, {
            "cell_type":
            "markdown",
            "metadata": {},
            "source":
            ["Hopefully, this is more readable and intuitive, with the code conforming more to how people think of operating on things in the real world. "]
        }, {
            "cell_type": "markdown",
            "metadata": {},
            "source": ["So just as the built in data structures can contain other data structures, they can contain instances."]
        }, {
            "cell_type":
            "code",
            "collapsed":
            true,
            "input": [
                "doors = [\n", "    Door(\"West Entrance\", open=True),\n", "    Door(\"North Entrance\", open=True),\n", "    Door(\"Data Center\"),\n", "]\n",
                "\n", "doors.append(Door(\"Supplies Closet\"))\n", "\n", "for door in doors:\n", "    door.status()"
            ],
            "language":
            "python",
            "metadata": {},
            "outputs": [{
                "output_type":
                "stream",
                "stream":
                "stdout",
                "text": [
                    "        West Entrance --> Locked: True\n", "       North Entrance --> Locked: True\n", "          Data Center --> Locked: False\n",
                    "      Supplies Closet --> Locked: False\n"
                ]
            }],
            "prompt_number":
            20
        }, {
            "cell_type": "heading",
            "level": 2,
            "metadata": {},
            "source": ["Representing the instance: \\_\\_str\\_\\_ and \\_\\_repr\\_\\_"]
        }, {
            "cell_type":
            "markdown",
            "metadata": {},
            "source": [
                "Here, we created a method called status in order to easily see the important information about the door. Python provides two dunder methods that can be overridden to accomplish this same behavior. [\\_\\_str\\_\\_](https://docs.python.org/2/reference/datamodel.html#object.__str__), called when the instance is printed, and [\\_\\_repr\\_\\_](https://docs.python.org/2/reference/datamodel.html#object.__repr__). Both are useful for debugging and making it easy to generate a string to represent the instance on a web page for example. Here is an example using the doors again."
            ]
        }, {
            "cell_type":
            "code",
            "collapsed":
            true,
            "input": [
                "class Door:\n", "    default_open = False\n", "    def __init__(self, description, *args, **kwargs):\n",
                "        self.description = description\n", "        self.open = kwargs.get('open', Door.default_open)\n", "    def __str__(self):\n",
                "        return \"%21s --> Locked: %s\" % (self.description, self.open)\n", "    def lock(self):\n", "        self.open = False\n",
                "    def unlock(self):\n", "        self.open = True\n", "        \n", "doors = [\n", "    Door(\"West Entrance\", open=True),\n",
                "    Door(\"North Entrance\", open=True),\n", "    Door(\"Data Center\"),\n", "]\n", "\n", "for door in doors:\n", "    print door"
            ],
            "language":
            "python",
            "metadata": {},
            "outputs": [{
                "output_type":
                "stream",
                "stream":
                "stdout",
                "text": ["        West Entrance --> Locked: True\n", "       North Entrance --> Locked: True\n", "          Data Center --> Locked: False\n"]
            }],
            "prompt_number":
            21
        }, {
            "cell_type": "heading",
            "level": 2,
            "metadata": {},
            "source": ["Other dunder methods"]
        }, {
            "cell_type":
            "markdown",
            "metadata": {},
            "source": [
                "There are a number of [dunder methods](https://docs.python.org/2/reference/datamodel.html#special-method-names) that can be overridden for a class so that python operators are intercepted. This permits the different comparison and math operators better fit what the class represents in real life. \n",
                "\n", "For example, if there is a Triangle class, one logical way to compare them is the area."
            ]
        }, {
            "cell_type":
            "code",
            "collapsed":
            true,
            "input": [
                "class Triangle:\n", "    def __init__(self, lengths):\n", "        self.a = float(lengths[0])\n", "        self.b = float(lengths[1])\n",
                "        self.c = float(lengths[2])\n", "    def area(self):\n", "        p = (self.a+self.b+self.c)/2\n",
                "        return ( p*(p-self.a)*(p-self.b)*(p-self.c) ) ** .5\n", "    def __gt__(self, other):\n",
                "        return self.area() > other.area()\n", "    def __lt__(self, other):\n", "        return self.area() < other.area()\n", "\n",
                "t1 = Triangle([2,2,3])\n", "t2 = Triangle([2,3,3])\n", "print t1.area()\n", "print t2.area()\n", "\n", "print t1 > t2\n", "print t1 < t2"
            ],
            "language":
            "python",
            "metadata": {},
            "outputs": [{
                "output_type": "stream",
                "stream": "stdout",
                "text": ["1.9843134833\n", "2.82842712475\n", "False\n", "True\n"]
            }],
            "prompt_number":
            22
        }, {
            "cell_type": "heading",
            "level": 2,
            "metadata": {},
            "source": ["Class and Static methods"]
        }, {
            "cell_type":
            "markdown",
            "metadata": {},
            "source": [
                "Before, there was a problem with calling methods from the class object because self is passed to methods. There are two methods to deal with this, by using ```@classmethod``` and ```@staticmethod``` decorators. The classmethod decorator changes the function so that the name of the class is passed in as the first argument instead of the self instance. The staticmethod decorator changes the function so that neither class or self instance is **not** passed as a function argument."
            ]
        }, {
            "cell_type":
            "code",
            "collapsed":
            true,
            "input": [
                "class Test:\n", "    def hello(self):\n", "        print \"Hello from %s\" % (self)\n", "    @classmethod\n", "    def class_hello(cls):\n",
                "        print \"Hello from %s\" % (cls)\n", "    @staticmethod\n", "    def static_hello():\n", "        print \"Static hello\""
            ],
            "language":
            "python",
            "metadata": {},
            "outputs": [],
            "prompt_number":
            23
        }, {
            "cell_type":
            "code",
            "collapsed":
            true,
            "input": ["Test.hello()"],
            "language":
            "python",
            "metadata": {},
            "outputs": [{
                "ename":
                "TypeError",
                "evalue":
                "unbound method hello() must be called with Test instance as first argument (got nothing instead)",
                "output_type":
                "pyerr",
                "traceback": [
                    "\u001b[0;31m---------------------------------------------------------------------------\u001b[0m\n\u001b[0;31mTypeError\u001b[0m                                 Traceback (most recent call last)",
                    "\u001b[0;32m<ipython-input-24-985f9bed7151>\u001b[0m in \u001b[0;36m<module>\u001b[0;34m()\u001b[0m\n\u001b[0;32m----> 1\u001b[0;31m \u001b[0mTest\u001b[0m\u001b[0;34m.\u001b[0m\u001b[0mhello\u001b[0m\u001b[0;34m(\u001b[0m\u001b[0;34m)\u001b[0m\u001b[0;34m\u001b[0m\u001b[0m\n\u001b[0m",
                    "\u001b[0;31mTypeError\u001b[0m: unbound method hello() must be called with Test instance as first argument (got nothing instead)"
                ]
            }],
            "prompt_number":
            24
        }, {
            "cell_type": "code",
            "collapsed": true,
            "input": ["Test.class_hello()"],
            "language": "python",
            "metadata": {},
            "outputs": [{
                "output_type": "stream",
                "stream": "stdout",
                "text": ["Hello from __main__.Test\n"]
            }],
            "prompt_number": 25
        }, {
            "cell_type": "code",
            "collapsed": true,
            "input": ["a = Test()\n", "a.static_hello()"],
            "language": "python",
            "metadata": {},
            "outputs": [{
                "output_type": "stream",
                "stream": "stdout",
                "text": ["Static hello\n"]
            }],
            "prompt_number": 26
        }, {
            "cell_type": "heading",
            "level": 2,
            "metadata": {},
            "source": ["Composition"]
        }, {
            "cell_type":
            "markdown",
            "metadata": {},
            "source": [
                "It is not surprising that since an object can have properties and methods, they can also have contain other objects. This is known as composition, allowing further abstraction in OOP.  "
            ]
        }, {
            "cell_type":
            "code",
            "collapsed":
            true,
            "input": [
                "class Desk:\n", "    def __init__(self, color):\n", "        self.color = color\n", "    def __str__(self):\n",
                "        return \"This desk is a %s desk.\" % (self.color)\n", "    \n", "class Employee:\n", "    def __init__(self, *args, **kwargs):\n",
                "        self.name = kwargs.get('name', \"Name not given\")\n", "        self.title = kwargs.get('title', \"Lackey\")\n",
                "        self.desk = kwargs.get('desk', Desk('black')) \n", "    def __str__(self):\n",
                "        return \"%s works as a %s at their %s desk.\" % (self.name, self.title, self.desk.color)"
            ],
            "language":
            "python",
            "metadata": {},
            "outputs": [],
            "prompt_number":
            27
        }, {
            "cell_type": "markdown",
            "metadata": {},
            "source": ["Note the use of the '.' operators strung together when getting a property of an object the resides inside another object."]
        }, {
            "cell_type":
            "code",
            "collapsed":
            true,
            "input": ["joe = Employee()\n", "print joe\n", "joe.desk.color = 'brown'\n", "joe.name = \"Joe\"\n", "print joe\n", "print joe.desk"],
            "language":
            "python",
            "metadata": {},
            "outputs": [{
                "output_type":
                "stream",
                "stream":
                "stdout",
                "text":
                ["Name not given works as a Lackey at their black desk.\n", "Joe works as a Lackey at their brown desk.\n", "This desk is a brown desk.\n"]
            }],
            "prompt_number":
            28
        }, {
            "cell_type": "code",
            "collapsed": true,
            "input": ["jane = Employee(name=\"Jane\", title=\"Project Manager\", desk=Desk('red'))\n", "print jane"],
            "language": "python",
            "metadata": {},
            "outputs": [{
                "output_type": "stream",
                "stream": "stdout",
                "text": ["Jane works as a Project Manager at their red desk.\n"]
            }],
            "prompt_number": 29
        }, {
            "cell_type":
            "markdown",
            "metadata": {},
            "source": [
                "There is no limit to how for composition can go, so a Desk could be composed of Drawers. The result might be that comething like ```jane.desk.top_drawer.contents()``` would be a valid function call."
            ]
        }, {
            "cell_type": "heading",
            "level": 2,
            "metadata": {},
            "source": ["Inheritance"]
        }, {
            "cell_type":
            "markdown",
            "metadata": {},
            "source": [
                "Another way OOP allows for encapsulation is the use of inheritance. If a method or property is defined in a Parent class, that method is available to the Child class. For a class to inherit from another class, the definition of that class include the Parent in ()."
            ]
        }, {
            "cell_type":
            "code",
            "collapsed":
            true,
            "input": [
                "class Parent:\n", "    def test(self):\n", "        print \"Testing\"\n", "class Child(Parent):\n", "    def status(self):\n",
                "        print \"Status message\"\n", "        \n", "c = Child()\n", "c.status()\n", "c.test()"
            ],
            "language":
            "python",
            "metadata": {},
            "outputs": []
        }, {
            "cell_type": "markdown",
            "metadata": {},
            "source": ["Inheritance can go more than one level, so the following is allowed"]
        }, {
            "cell_type":
            "code",
            "collapsed":
            true,
            "input": [
                "class GrandParent():\n", "    def test_grandparent(self):\n", "        print \"Grandparent Class\"\n", "class Parent(GrandParent):\n",
                "    def test_parent(self):\n", "        print \"Parent Class\"\n", "class Child(Parent):\n", "    def test_child(self):\n",
                "        print \"Child Class\"\n", "\n", "c = Child()\n", "c.test_child()\n", "c.test_parent()\n", "c.test_grandparent()"
            ],
            "language":
            "python",
            "metadata": {},
            "outputs": []
        }, {
            "cell_type": "heading",
            "level": 2,
            "metadata": {},
            "source": ["Overriding a Method"]
        }, {
            "cell_type": "markdown",
            "metadata": {},
            "source": ["When the Child class inherits from the Parent class, the Child can rewrite a method, thus overriding that method."]
        }, {
            "cell_type":
            "code",
            "collapsed":
            true,
            "input": [
                "class Parent:\n", "    def test(self):\n", "        print \"Testing from Parent\"\n", "class Child(Parent):\n", "    def test(self):\n",
                "        print \"Testing from Child\"\n", "        \n", "c = Child()\n", "c.test()"
            ],
            "language":
            "python",
            "metadata": {},
            "outputs": []
        }, {
            "cell_type": "heading",
            "level": 2,
            "metadata": {},
            "source": ["Super method"]
        }, {
            "cell_type": "markdown",
            "metadata": {},
            "source": ["If the Child class needs to access the Parent class's method, you can use the super method to extend the method."]
        }, {
            "cell_type":
            "code",
            "collapsed":
            true,
            "input": [
                "class Parent(object):\n", "    def test(self):\n", "        print \"Testing from Parent\"\n", "class Child(Parent):\n",
                "    def test(self):\n", "        super(Child, self).test()\n", "        print \"But I added something more\"\n", "        \n", "c = Child()\n",
                "c.test()"
            ],
            "language":
            "python",
            "metadata": {},
            "outputs": []
        }, {
            "cell_type":
            "markdown",
            "metadata": {},
            "source":
            ["One other thing to note about this code is that Parent inherits from Python's built in object. Without this inheritance, this code fails. "]
        }, {
            "cell_type": "heading",
            "level": 2,
            "metadata": {},
            "source": ["Getters and Setters"]
        }, {
            "cell_type":
            "markdown",
            "metadata": {},
            "source": [
                "By inheriting from object, setters and getters can be defined. By using a setter and getter, an attribute looks like a property to the consumer of the class, but allows a method to be attached to when the attribute is retrieved or changed. "
            ]
        }, {
            "cell_type":
            "code",
            "collapsed":
            true,
            "input": [
                "class Circle(object):\n", "    def __init__(self, radius):\n", "        self.radius = radius + 0.0\n", "    @property\n",
                "    def area(self):\n", "        return 3.14 * self.radius**2\n", "    @area.setter\n", "    def area(self, value):\n",
                "        self.radius = (value/3.14)**.5\n", "    @property\n", "    def diameter(self):\n", "        return self.radius*2.0\n",
                "    @diameter.setter\n", "    def diameter(self, value):\n", "        self.radius = value / 2.0"
            ],
            "language":
            "python",
            "metadata": {},
            "outputs": []
        }, {
            "cell_type":
            "markdown",
            "metadata": {},
            "source":
            ["So here, only the radius needs to be stored and the other attributes can be calculated on the fly based on what is being set or retreived. "]
        }, {
            "cell_type": "code",
            "collapsed": true,
            "input": ["c1 = Circle(1)\n", "print c1.area\n", "print c1.diameter"],
            "language": "python",
            "metadata": {},
            "outputs": []
        }, {
            "cell_type": "markdown",
            "metadata": {},
            "source": ["Now the diameter can be updated, and other attributes will reflect the change."]
        }, {
            "cell_type": "code",
            "collapsed": true,
            "input": ["c1.diameter = 3\n", "print c1.radius\n", "print c1.area"],
            "language": "python",
            "metadata": {},
            "outputs": []
        }, {
            "cell_type": "code",
            "collapsed": true,
            "input": ["c1.radius = 1\n", "c1.area *= 2\n", "print c1.radius"],
            "language": "python",
            "metadata": {},
            "outputs": []
        }, {
            "cell_type": "markdown",
            "metadata": {},
            "source": ["Again, this can result in more readable and intuitive code."]
        }, {
            "cell_type": "heading",
            "level": 2,
            "metadata": {},
            "source": ["Another way to impliment the getter and setter - \\_\\_getattr\\_\\_ and \\_\\_setattr\\_\\_"]
        }, {
            "cell_type":
            "markdown",
            "metadata": {},
            "source": [
                "Python also exposes dunder methods that a program can use to implement the Circle class without the decorators, \\_\\_getattr\\_\\_ and \\_\\_setattr\\_\\_. There is also dunder method \\_\\_getattribute\\_\\_. Python will call \\_\\_getattr\\_\\_ method whenever you request an attribute that hasn't already been defined, but python invokes \\_\\_getattribute\\_\\_ for every attribute regardless whether it exists or not. One bit of caution using \\_\\_getattribute\\_\\_ is that in order to prevent an infinite loop, you should access the super method of the same name."
            ]
        }, {
            "cell_type":
            "code",
            "collapsed":
            false,
            "input": [
                "class Circle(object):\n", "    def __init__(self, radius):\n", "        self.radius = radius + 0.0\n",
                "    def __getattribute__(self, attribute):\n", "        print \"Calling __getattribute__ with %s\" % attribute\n",
                "        if attribute == 'area':\n", "            return 3.14 * self.radius**2\n", "        elif attribute == 'diameter':\n",
                "            return self.radius*2.0\n", "        else:\n", "            return object.__getattribute__(self, attribute)\n",
                "    def __setattr__(self, attribute, value):\n", "        print \"Calling __setattr__ with %s ==> %s\" % (attribute, value)\n",
                "        if attribute is 'area':\n", "            self.__dict__['radius'] = (value/3.14)**.5\n", "        elif attribute is 'diameter':\n",
                "            self.__dict__['radius'] = value / 2.0\n", "        else:\n", "            self.__dict__[attribute] = value "
            ],
            "language":
            "python",
            "metadata": {},
            "outputs": []
        }, {
            "cell_type": "code",
            "collapsed": false,
            "input": ["c1 = Circle(1)\n", "print c1.area\n", "print c1.diameter"],
            "language": "python",
            "metadata": {},
            "outputs": []
        }, {
            "cell_type":
            "markdown",
            "metadata": {},
            "source":
            ["Note how the \\_\\_setattr\\_\\_ and \\_\\_getattribute\\_\\_ methods are called during \\_\\_init\\_\\_ and the different computations."]
        }, {
            "cell_type": "code",
            "collapsed": false,
            "input": ["Again, we see what happens when changing the diameter"],
            "language": "python",
            "metadata": {},
            "outputs": []
        }, {
            "cell_type": "code",
            "collapsed": false,
            "input": ["c1.diameter = 3\n", "print c1.radius\n", "print c1.area"],
            "language": "python",
            "metadata": {},
            "outputs": []
        }, {
            "cell_type": "heading",
            "level": 2,
            "metadata": {},
            "source": ["Multiple Inheritance"]
        }, {
            "cell_type":
            "markdown",
            "metadata": {},
            "source": [
                "Python permits multiple inheritance, so a Child class can inherit from more than one class. In the Child class definition, list all the Parent classes. When looking for which Parent class to run the method from, the interpreter reads from left to right in the listed Parent classes. So here, the test method is found in Mom first and used. "
            ]
        }, {
            "cell_type":
            "code",
            "collapsed":
            true,
            "input": [
                "class Mom(object):\n", "    def test(self):\n", "        print \"Testing Mom\"\n", "\n", "class Dad(object):\n", "    def test(self):\n",
                "        print \"Testing Dad\"\n", "    def status(self):\n", "        print \"Status Dad\"\n", "\n", "class Child(Mom, Dad):\n", "    pass\n",
                "\n", "c = Child()\n", "c.status()\n", "c.test()"
            ],
            "language":
            "python",
            "metadata": {},
            "outputs": [{
                "output_type": "stream",
                "stream": "stdout",
                "text": ["Status Dad\n", "Testing Mom\n"]
            }],
            "prompt_number":
            22
        }, {
            "cell_type":
            "markdown",
            "metadata": {},
            "source": [
                "The reason to use multiple inheritance is that the Parent classes do not end up overriding each other. The only place I have seen this used is with [Django Mixins](https://docs.djangoproject.com/en/1.10/topics/class-based-views/mixins/). However, there is a suggestion that [multiple inheritance should be avoided at all costs.](https://learnpythonthehardway.org/book/ex44.html)"
            ]
        }],
        "metadata": {}
    }]
}
