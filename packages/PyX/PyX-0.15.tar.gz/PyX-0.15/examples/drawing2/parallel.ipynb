{
 "cells": [
  {
   "cell_type": "markdown",
   "metadata": {},
   "source": [
    "# Paths with constant distance"
   ]
  },
  {
   "cell_type": "code",
   "execution_count": 1,
   "metadata": {},
   "outputs": [
    {
     "data": {
      "image/png": "[encoded data removed]",
      "image/svg+xml": [
       "<?xml version=\"1.0\" encoding=\"utf-8\"?>\n",
       "<svg xmlns=\"http://www.w3.org/2000/svg\" fill=\"none\" version=\"1.1\" viewBox=\"-5.00879 -63.3622 119.395 70.0315\" x=\"-5.00879pt\" y=\"-63.3622pt\" width=\"119.395pt\" height=\"70.0315pt\" stroke-width=\"0.566929\" stroke-miterlimit=\"10.000000\">\n",
       " <path d=\"M0 -0L56.6929 -56.6929C56.6929 -0 85.0394 -0 113.386 -0\" stroke=\"black\"/>\n",
       " <path d=\"M-4.00879 -4.00879L52.6841 -60.7017C53.7473 -61.7649 55.1893 -62.3622 56.6929 -62.3622C58.1965 -62.3622 59.6385 -61.7649 60.7017 -60.7017C61.7649 -59.6385 62.3622 -58.1965 62.3622 -56.6929C62.3622 -5.66929 86.1146 -5.66929 113.386 -5.66929\" stroke=\"#00f\"/>\n",
       " <path d=\"M4.00879 4.00879L51.5794 -43.5618C56.0316 5.66929 86.427 5.66929 113.386 5.66929\" stroke=\"#f00\"/>\n",
       "</svg>\n"
      ]
     },
     "execution_count": 1,
     "metadata": {},
     "output_type": "execute_result"
    }
   ],
   "source": [
    "from pyx import *\n",
    "\n",
    "c = canvas.canvas()\n",
    "p = path.line(0, 0, 2, 2)\n",
    "p.append(path.curveto(2, 0, 3, 0, 4, 0))\n",
    "c.stroke(p)\n",
    "c.stroke(p, [deformer.parallel(0.2), color.rgb.blue])\n",
    "c.stroke(p, [deformer.parallel(-0.2), color.rgb.red])\n",
    "c"
   ]
  },
  {
   "cell_type": "markdown",
   "metadata": {},
   "source": [
    "This example shows how to use the `deformer.parallel` class. It provides the\n",
    "path which has always constant (signed) distance to an original path. \n",
    "\n",
    "The correct geometrical solution to the \"constant distance\" problem is that a\n",
    "corner of the original curve gets surrounded by an arc. As an alternative, you\n",
    "can make the deformer deviate from the strict geometrical interpretation with\n",
    "the argument `sharpoutercorners=1`. The resulting parallel path will then\n",
    "exhibit corners with the same angle as the original path does.\n",
    "\n",
    "<img src=\"http://pyx.sourceforge.net/bend.png\" align=\"left\"><img src=\"http://pyx.sourceforge.net/bend.png\" align=\"left\"> The parallel deformer tries to find the parallel path which consists of as\n",
    "few path elements as possible. This is a striking feature of the parallel\n",
    "deformer, resulting in small EPS and PDF files, as well as in paths which can\n",
    "be processed further in PyX. In the example, the parallel curves for the curved\n",
    "right part of the original path consists of a single Bézier curve only.\n",
    "\n",
    "<img src=\"http://pyx.sourceforge.net/bend.png\" align=\"left\"> Note that the order of the deformer attributes is not arbitrary, since the\n",
    "deforming operations do not commute. If you want first to smooth and then get\n",
    "the parallel curve to the smoothed curve, you have to say\n",
    "\n",
    "    [deformer.smoothed(radius), deformer.parallel(dist)]\n",
    "\n",
    "since the stroke attributes are evaluated from left to right.\n",
    "\n"
   ]
  }
 ],
 "metadata": {
  "language": "python"
 },
 "nbformat": 4,
 "nbformat_minor": 2
}