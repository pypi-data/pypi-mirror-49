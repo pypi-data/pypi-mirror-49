{
 "cells": [
  {
   "cell_type": "markdown",
   "metadata": {},
   "source": [
    "# Basic paths"
   ]
  },
  {
   "cell_type": "code",
   "execution_count": 1,
   "metadata": {},
   "outputs": [
    {
     "data": {
      "image/png": "[encoded data removed]",
      "image/svg+xml": [
       "<?xml version=\"1.0\" encoding=\"utf-8\"?>\n",
       "<svg xmlns=\"http://www.w3.org/2000/svg\" fill=\"none\" version=\"1.1\" viewBox=\"-1 -57.6929 87.0394 58.6929\" x=\"-1pt\" y=\"-57.6929pt\" width=\"87.0394pt\" height=\"58.6929pt\" stroke-width=\"0.566929\" stroke-miterlimit=\"10.000000\">\n",
       " <path d=\"M0 -0L85.0394 -0\" stroke=\"black\"/>\n",
       " <path d=\"M0 -28.3465L28.3465 -28.3465L28.3465 -56.6929L0 -56.6929Z\" stroke=\"black\"/>\n",
       " <path d=\"M85.0394 -42.5197L85.0393 -42.5444A14.1732 14.1732 0 0 0 56.6929 -42.5197A14.1732 14.1732 0 0 0 85.0393 -42.4949Z\" fill=\"black\"/>\n",
       "</svg>\n"
      ]
     },
     "execution_count": 1,
     "metadata": {},
     "output_type": "execute_result"
    }
   ],
   "source": [
    "from pyx import *\n",
    "\n",
    "c = canvas.canvas()\n",
    "c.stroke(path.line(0, 0, 3, 0))\n",
    "c.stroke(path.rect(0, 1, 1, 1))\n",
    "c.fill(path.circle(2.5, 1.5, 0.5))\n",
    "c"
   ]
  },
  {
   "cell_type": "markdown",
   "metadata": {},
   "source": [
    "This first path example demonstrates how to create a canvas, how to draw some\n",
    "simple geometric objects onto it and how to write the result into a PostScript\n",
    "or PDF file. \n",
    "\n",
    "First we import all top-level symbols of the PyX package by the usual Python\n",
    "import statement. In the further examples we will always use this form of the\n",
    "import statement to make the PyX package available to our scripts.\n",
    "\n",
    "Now we can create a canvas instance `c`, onto which our basic paths are drawn.\n",
    "The later is done by passing some path instances (a line, a rectangle and a\n",
    "circle) to the `strokes` or `fill` methods of the canvas instance we just\n",
    "created and stored in the variable `c`. Finally, we call the `writeEPSfile` and\n",
    "`writePDFfile` methods of the canvas to create an EPS and a PDF file of our\n",
    "drawing. While typically you will only create either a PostScript or a PDF\n",
    "file, in our examples we always create both output formats to have them both\n",
    "available for download.\n",
    "\n",
    "This example, in addition, shows some basics of the PyX coordinate system. The\n",
    "first coordinate (often referred to as `x`) goes horizontally from left to right\n",
    "and the second coordinate (`y`) goes vertically from the bottom to the top. The\n",
    "default unit is `1 cm`. The boundary of the resulting image is calculated\n",
    "automatically.\n"
   ]
  }
 ],
 "metadata": {
  "language": "python"
 },
 "nbformat": 4,
 "nbformat_minor": 2
}