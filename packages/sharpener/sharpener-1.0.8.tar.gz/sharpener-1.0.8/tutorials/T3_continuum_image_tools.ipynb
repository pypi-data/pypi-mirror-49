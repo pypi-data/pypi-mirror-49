{
 "cells": [
  {
   "cell_type": "markdown",
   "metadata": {},
   "source": [
    "## Use catalog to find continuum sources & simulate continuum image\n",
    "\n",
    "- Modules used in this tutorial are stored in `cont_src`."
   ]
  },
  {
   "cell_type": "code",
   "execution_count": null,
   "metadata": {},
   "outputs": [],
   "source": [
    "import os, string, sys\n",
    "import numpy as np\n",
    "import pyaml\n",
    "from astropy.io import ascii\n",
    "\n",
    "from IPython.display import HTML, display\n",
    "\n",
    "from sharpener import sharpener as sharpy\n",
    "\n",
    "workdir = 'test/output/'\n",
    "\n",
    "print '\\t+------+\\n\\t  Done \\n\\t+------+'"
   ]
  },
  {
   "cell_type": "markdown",
   "metadata": {
    "collapsed": true
   },
   "source": [
    "### Catalog query \n",
    "\n",
    " - Identify all continuum sources of the NVSS catalog with flux above 50 mJy within one deg$$^2$$ from given coordinates\n",
    " - Saves it in a table specified by the user in working directory.\n",
    " "
   ]
  },
  {
   "cell_type": "code",
   "execution_count": null,
   "metadata": {
    "scrolled": false
   },
   "outputs": [],
   "source": [
    "import cont_src as cont_src\n",
    "\n",
    "print '\\t+------+\\n\\t Sharpener \\n\\t Parameter File \\n\\t+------+'\n",
    "\n",
    "spar = sharpy.sharpener('{:s}sharpener_default.yml'.format(workdir))\n",
    "\n",
    "print '\\t+------+\\n\\t Loaded \\n\\t+------+'\n",
    "\n",
    "# Set working directory & filenames\n",
    "spar.cfg_par['general']['workdir'] = workdir\n",
    "\n",
    "tablename = 'nvss_query_table.txt'\n",
    "# Enable module\n",
    "spar.cfg_par['source_catalog']['enable'] = True\n",
    "\n",
    "\n",
    "# Options\n",
    "spar.cfg_par['source_catalog']['catalog']  = 'NVSS'\n",
    "spar.cfg_par['source_catalog']['width']  = '1.d'\n",
    "spar.cfg_par['source_catalog']['thresh']  = '50'\n",
    "spar.cfg_par['source_catalog']['centre_coord']  = ['03:40:0.989', '-35:28:34.53']\n",
    "\n",
    "print '\\t+------+\\n\\t Parameters modified \\n\\t+------+'\n",
    "\n",
    "\n",
    "spar.set_dirs()\n",
    "\n",
    "print '\\t+------+\\n\\t Catalog query \\n\\t+------+'\n",
    "\n",
    "\n",
    "sources = cont_src.source_catalog(spar.cfg_par,tablename)\n",
    "\n",
    "\n",
    "print '\\t+------+\\n\\t Done \\n\\t+------+'\n"
   ]
  },
  {
   "cell_type": "markdown",
   "metadata": {},
   "source": [
    "### Display table of sources"
   ]
  },
  {
   "cell_type": "code",
   "execution_count": null,
   "metadata": {},
   "outputs": [],
   "source": [
    "import tabulate \n",
    "\n",
    "display(HTML(tabulate.tabulate(sources, tablefmt='html',headers=\"keys\")))"
   ]
  },
  {
   "cell_type": "markdown",
   "metadata": {
    "collapsed": true
   },
   "source": [
    "### Simulate continuum image\n",
    "\n",
    "- simulate continuum image of size of input datacube stored in the working directory\n",
    "- continuum sources of the image are taken from the output of the catalog query.\n"
   ]
  },
  {
   "cell_type": "code",
   "execution_count": null,
   "metadata": {},
   "outputs": [],
   "source": [
    "import cont_src as cont_src\n",
    "\n",
    "# Set working directory & filenames\n",
    "spar.cfg_par['general']['workdir'] = workdir\n",
    "tablename = spar.cfg_par['general']['workdir']+'nvss_query_table.txt'\n",
    "datacubename = spar.cfg_par['general']['workdir']+'cube.fits'\n",
    "outputname = spar.cfg_par['general']['workdir']+'continuum_image.fits'\n",
    "\n",
    "sources = cont_src.sim_cont_from_cube(tablename,'NVSS',datacubename,outputname)\n",
    "\n",
    "\n",
    "if sources == 0:\n",
    "    print '\\t+------+\\n\\t Done \\n continuum image in: '+outputname+'\\n\\t+------+'"
   ]
  }
 ],
 "metadata": {
  "anaconda-cloud": {},
  "kernelspec": {
   "display_name": "Python 2",
   "language": "python",
   "name": "python2"
  },
  "language_info": {
   "codemirror_mode": {
    "name": "ipython",
    "version": 2
   },
   "file_extension": ".py",
   "mimetype": "text/x-python",
   "name": "python",
   "nbconvert_exporter": "python",
   "pygments_lexer": "ipython2",
   "version": "2.7.15rc1"
  }
 },
 "nbformat": 4,
 "nbformat_minor": 1
}
