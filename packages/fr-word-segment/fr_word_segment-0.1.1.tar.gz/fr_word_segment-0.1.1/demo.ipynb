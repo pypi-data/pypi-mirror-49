{
 "cells": [
  {
   "cell_type": "code",
   "execution_count": 2,
   "metadata": {},
   "outputs": [],
   "source": [
    "from wordseg.wordseg import segment_token"
   ]
  },
  {
   "cell_type": "code",
   "execution_count": 18,
   "metadata": {},
   "outputs": [
    {
     "name": "stdout",
     "output_type": "stream",
     "text": [
      "Mispelled token is commed'habitude\n",
      "\n",
      "Semantically splitted token is comme d'habitude\n",
      "CPU times: user 2.16 s, sys: 27.6 ms, total: 2.19 s\n",
      "Wall time: 2.26 s\n"
     ]
    }
   ],
   "source": [
    "%%time\n",
    "# set a test token\n",
    "token = \"commed'habitude\"\n",
    "\n",
    "# apply segmentation fucntion on the given token\n",
    "result = segment_token(token)\n",
    "\n",
    "# print raw mispelled token\n",
    "print(\"Mispelled token is {}\".format(token))\n",
    "\n",
    "# print correct splitted token\n",
    "print(\"\\nSemantically splitted token is {}\".format(result))"
   ]
  },
  {
   "cell_type": "code",
   "execution_count": null,
   "metadata": {},
   "outputs": [],
   "source": []
  }
 ],
 "metadata": {
  "kernelspec": {
   "display_name": "Python 3",
   "language": "python",
   "name": "python3"
  },
  "language_info": {
   "codemirror_mode": {
    "name": "ipython",
    "version": 3
   },
   "file_extension": ".py",
   "mimetype": "text/x-python",
   "name": "python",
   "nbconvert_exporter": "python",
   "pygments_lexer": "ipython3",
   "version": "3.6.8"
  }
 },
 "nbformat": 4,
 "nbformat_minor": 4
}
