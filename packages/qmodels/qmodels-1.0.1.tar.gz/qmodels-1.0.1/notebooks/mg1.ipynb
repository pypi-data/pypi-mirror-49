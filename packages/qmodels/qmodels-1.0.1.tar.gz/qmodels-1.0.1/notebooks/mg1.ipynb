{
 "cells": [
  {
   "cell_type": "markdown",
   "metadata": {},
   "source": [
    "# Process-Oriented Simulation of M/G/1 Queues"
   ]
  },
  {
   "cell_type": "markdown",
   "metadata": {},
   "source": [
    "The event-driven approach is more than sufficient to handle the single-server queue with the FIFO queuing discipline. However, the situation may get more complicated using the event-driven approach, when we deal with multiple servers with multiple queues and with more complicated queuing disciplines (such as priority-based scheduling with preemption). A strong aspect of simulus that distinguishes simulus from most other simulators is its natural support for process-oriented simulation. Simulus provides high-level modeling abstractions (such as traps, semaphores, resources, stores, and mailboxes) in order for users to create more intuitive and expressive simulation models using the process-oriented approach. We start here with the single-server queue and later we will expand it for more complicated queuing scenarios.\n",
    "\n",
    "Rather than directly scheduling events (one still can, if needs to), one create processes and have the processes to run their own course. Each process is a single thread of control. A process can be suspended, sleeping for time or waiting for resources. A process can resume execution, after sleep or when the wait conditions have been satisfied.\n",
    "\n",
    "Before we start this section, let's first run the following so that we can set up the environment and import the necessary packages."
   ]
  },
  {
   "cell_type": "code",
   "execution_count": 1,
   "metadata": {},
   "outputs": [],
   "source": [
    "# for random distributions, random number generators, statistics\n",
    "import random\n",
    "import numpy as np\n",
    "import scipy.stats as stats\n",
    "\n",
    "# for simulation\n",
    "import simulus\n",
    "\n",
    "# for data visualization\n",
    "import matplotlib.pyplot as plt\n",
    "%matplotlib inline\n",
    "\n",
    "# for animation inside the notebook\n",
    "import ipywidgets as widgets\n",
    "from ipywidgets import interact\n",
    "\n",
    "def exp_generator(mean, seed):\n",
    "    rv = stats.expon(scale=mean)\n",
    "    rv.random_state = np.random.RandomState(seed)\n",
    "    while True:\n",
    "        # 100 random numbers as a batch\n",
    "        for x in rv.rvs(100):\n",
    "            yield x"
   ]
  },
  {
   "cell_type": "markdown",
   "metadata": {},
   "source": [
    "For the single-server queue, we use a process to generate the customers. A process starts from a normal function, in this case, `gen_arrivals()`. Within the function, the process enters a forever loop, in which the process sleeps for some time (which is a random value returned from the `inter_arrival_time` generator function), and then creates another process that starts from a function called customer. As its name suggests, the process represents a customer who arrives at the queue. "
   ]
  },
  {
   "cell_type": "code",
   "execution_count": 2,
   "metadata": {},
   "outputs": [],
   "source": [
    "def gen_arrivals():\n",
    "    while True:\n",
    "        sim.sleep(next(inter_arrival_time))\n",
    "        sim.process(customer)"
   ]
  },
  {
   "cell_type": "markdown",
   "metadata": {},
   "source": [
    "The customer process waits for a server to be available. A server in this case is implemented as a resource. A process trying to acquire a resource may be suspended if the resource is unavailable (i.e., if it has been already acquired by another customer). In that case, the process will be put in a queue (with unlimited space) maintained by the resource. \n",
    "\n",
    "Once the server becomes available, one of the waiting processes will be selected. By default, the resource is FIFO: it selects the waiting process who has entered the queue first. When the selected process acquires the server, it sleeps for some time representing the customer being served. The sleep time is a random value returned from the `service_time` generator function. After the sleep, the process releases the server so that if other customer processes are waiting for the server, the server will select the next customer in queue."
   ]
  },
  {
   "cell_type": "code",
   "execution_count": 3,
   "metadata": {},
   "outputs": [],
   "source": [
    "def customer():\n",
    "    print('%g: customer arrives (num_in_system=%d->%d)' %\n",
    "          (sim.now, server.num_in_system(), server.num_in_system()+1))\n",
    "    server.acquire()\n",
    "    sim.sleep(next(service_time))\n",
    "    print('%g: customer departs (num_in_system=%d->%d)' %\n",
    "          (sim.now, server.num_in_system(), server.num_in_system()-1))\n",
    "    server.release()"
   ]
  },
  {
   "cell_type": "markdown",
   "metadata": {},
   "source": [
    "Now we are ready to simulate the queue. Like before, we instantiate a simulator and then create the two generators for the inter-arrival time and for the service time. We create the server as a resource and then starts the gen_arrivals process. Finally we run the simulation for 10 simulated seconds. The results should be the same as those from the event-driven approach."
   ]
  },
  {
   "cell_type": "code",
   "execution_count": 4,
   "metadata": {
    "scrolled": true
   },
   "outputs": [
    {
     "name": "stdout",
     "output_type": "stream",
     "text": [
      "0.689679: customer arrives (num_in_system=0->1)\n",
      "1.23285: customer departs (num_in_system=1->0)\n",
      "2.23403: customer arrives (num_in_system=0->1)\n",
      "2.56491: customer arrives (num_in_system=1->2)\n",
      "3.00135: customer arrives (num_in_system=2->3)\n",
      "3.79835: customer arrives (num_in_system=3->4)\n",
      "5.02737: customer arrives (num_in_system=4->5)\n",
      "5.40655: customer arrives (num_in_system=5->6)\n",
      "5.50404: customer arrives (num_in_system=6->7)\n",
      "5.56426: customer departs (num_in_system=7->6)\n",
      "6.39297: customer departs (num_in_system=6->5)\n",
      "7.08135: customer departs (num_in_system=5->4)\n",
      "8.00896: customer departs (num_in_system=4->3)\n",
      "8.99307: customer departs (num_in_system=3->2)\n",
      "9.41727: customer arrives (num_in_system=2->3)\n",
      "9.77588: customer arrives (num_in_system=3->4)\n"
     ]
    }
   ],
   "source": [
    "sim = simulus.simulator('ssq')\n",
    "inter_arrival_time = exp_generator(1.2, sim.rng().randrange(2**32))\n",
    "service_time = exp_generator(0.8, sim.rng().randrange(2**32))\n",
    "server = sim.resource()\n",
    "sim.process(gen_arrivals)\n",
    "sim.run(10)"
   ]
  },
  {
   "cell_type": "markdown",
   "metadata": {},
   "source": [
    "Let's change the service time distribution from exponential to a truncated normal distribution, which specifies a particular range between a and b. We create another generator function for this:"
   ]
  },
  {
   "cell_type": "code",
   "execution_count": 5,
   "metadata": {},
   "outputs": [],
   "source": [
    "def truncnorm_generator(a, b, seed):\n",
    "    rv = stats.truncnorm(a, b)\n",
    "    rv.random_state = np.random.RandomState(seed)\n",
    "    while True:\n",
    "        # 100 random numbers as a batch\n",
    "        for x in rv.rvs(100):\n",
    "            yield x"
   ]
  },
  {
   "cell_type": "markdown",
   "metadata": {},
   "source": [
    "We are going to run the simulation and show the effect of the service time distribution on the customer's wait time *on the fly*. To do this, we disable the print-outs in the original customer() method."
   ]
  },
  {
   "cell_type": "code",
   "execution_count": 6,
   "metadata": {},
   "outputs": [],
   "source": [
    "def gen_arrivals():\n",
    "    while True:\n",
    "        sim.sleep(next(inter_arrival_time))\n",
    "        sim.process(customer)\n",
    "        \n",
    "def customer():\n",
    "    server.acquire()\n",
    "    sim.sleep(next(service_time))\n",
    "    server.release()"
   ]
  },
  {
   "cell_type": "markdown",
   "metadata": {},
   "source": [
    "We are wrapping around each simulation run using a function called `sim_run()`. In this case, we can simply call this function to have one run of the simulation and return the results. Since in our example both `gen_arrivals()` and `customer()` use module global variables: 'sim', 'inter_arrival_time', 'service_time', and 'server'. We need to make them global from the `sim_run()` function. \n",
    "\n",
    "To gather the statistics, we use DataCollector provided by simulus. When creating the DataCollector instance, we specify the kind of data to be gathered at the resource. In this example, we would like to keep all the data series for `system_times`, which is just another name for the wait time of all the customers using the resource. When we create the resource, we attach the DataCollector instance. After the simulation run, we retrieve the collected data from the DataCollector instance and return them from the function."
   ]
  },
  {
   "cell_type": "code",
   "execution_count": 7,
   "metadata": {},
   "outputs": [],
   "source": [
    "def sim_run(a, b):\n",
    "    global sim, inter_arrival_time, service_time, server\n",
    "    sim = simulus.simulator('mg1')\n",
    "    inter_arrival_time = exp_generator(1.2, sim.rng().randrange(2**32))\n",
    "    service_time = truncnorm_generator(a, b, sim.rng().randrange(2**32))\n",
    "    dc = simulus.DataCollector(system_times='dataseries(all)')\n",
    "    server = sim.resource(collect=dc)\n",
    "    sim.process(gen_arrivals)\n",
    "    sim.run(1000)\n",
    "    return dc.system_times.data()"
   ]
  },
  {
   "cell_type": "markdown",
   "metadata": {},
   "source": [
    "Now we are all set for interactive plotting. We fix 'a' and use a slider to choose 'b'. The `plot_hist()` function calls `sim_run()` to get the wait time of all customers in a list and we plot the histogram accordingly."
   ]
  },
  {
   "cell_type": "code",
   "execution_count": 8,
   "metadata": {},
   "outputs": [
    {
     "data": {
      "application/vnd.jupyter.widget-view+json": {
       "model_id": "1421af1687b0438dbe5162437799d597",
       "version_major": 2,
       "version_minor": 0
      },
      "text/plain": [
       "interactive(children=(FloatSlider(value=1.0, description='b', max=2.0, min=0.1), Output()), _dom_classes=('wid…"
      ]
     },
     "metadata": {},
     "output_type": "display_data"
    }
   ],
   "source": [
    "def plot_hist(a, b):\n",
    "    waits = sim_run(a, b)\n",
    "    plt.hist(waits, alpha=0.5, bins='auto', density=True)\n",
    "    plt.xlim(0, 8)\n",
    "    plt.show()\n",
    "interact(plot_hist, a=widgets.fixed(0), b=(0.1, 2.0, 0.1))\n",
    "None"
   ]
  },
  {
   "cell_type": "markdown",
   "metadata": {},
   "source": [
    "The wait time shown in the histogram is from one run of the simulation. To be statistically meaningful, we need to run many trials of each simulation setting and show the results with confidence intervals.\n",
    "\n",
    "In the following example, we revise the `sim_run()` function to just collect the summary statistics for wait time and return the mean value (which would consume far less time and memory). This is achieved by configuring the DataCollector with the argument 'system_times' set to be 'dataseries' rather than 'dataseries(all)'.\n",
    "\n",
    "We run the simulation for 25 times at each parameter setting. It is important to note that there's a subtle difference from the previous when we create the simulator for each simulation run. Now the simulator is nameless! This is important, because otherwise the simulator will generate the same random sequence regardless of how many times we run the simulation. Without a name, the simulator will be created with a randomly generated name (using the default random number generator in Python's `random` module). Recall that the simulator's attached random number generator is seeded from the namespace (which we do not change since we use the same global random seed) and the simulator's name. In this case, the simulator would create a different random sequence, which is exactly what we'd need. "
   ]
  },
  {
   "cell_type": "code",
   "execution_count": 9,
   "metadata": {},
   "outputs": [],
   "source": [
    "def sim_run(a, b):\n",
    "    global sim, inter_arrival_time, service_time, server\n",
    "    sim = simulus.simulator()\n",
    "    inter_arrival_time = exp_generator(1.2, sim.rng().randrange(2**32))\n",
    "    service_time = truncnorm_generator(a, b, sim.rng().randrange(2**32))\n",
    "    dc = simulus.DataCollector(system_times='dataseries')\n",
    "    server = sim.resource(collect=dc)\n",
    "    sim.process(gen_arrivals)\n",
    "    sim.run(1000)\n",
    "    return dc.system_times.mean()"
   ]
  },
  {
   "cell_type": "markdown",
   "metadata": {},
   "source": [
    "The following code will run pretty slow. Be prepared! We are conducting 30*25=750 simulation runs before we can get the plot. "
   ]
  },
  {
   "cell_type": "code",
   "execution_count": 10,
   "metadata": {},
   "outputs": [
    {
     "data": {
      "image/png": "[encoded data removed]",
      "text/plain": [
       "<Figure size 432x288 with 1 Axes>"
      ]
     },
     "metadata": {
      "needs_background": "light"
     },
     "output_type": "display_data"
    }
   ],
   "source": [
    "x = np.linspace(0.1, 3.0, 30)\n",
    "y = []\n",
    "e1 = []\n",
    "e2 = []\n",
    "for b in x:\n",
    "    z = []\n",
    "    for _ in range(25):\n",
    "        z.append(sim_run(0, b))\n",
    "    z = np.array(z)\n",
    "    y.append(z.mean())\n",
    "    e1.append(np.percentile(z, 5))\n",
    "    e2.append(np.percentile(z, 95))\n",
    "\n",
    "plt.plot(x, y, 'k-')\n",
    "plt.xlim(0, 3.0)\n",
    "plt.title('arrival=exp(1.2), service=truncnorm(0, b)')\n",
    "plt.ylabel('mean customer wait time')\n",
    "plt.xlabel('b')\n",
    "plt.fill_between(x, e1, e2, color='#386cb0', alpha=0.2)\n",
    "plt.show()"
   ]
  },
  {
   "cell_type": "markdown",
   "metadata": {},
   "source": [
    "The above plot shows that the mean wait time increases as we increase 'b', which increases both the mean and the standard deviation of the service time. The confidence interval also seems to be getting larger as we increase 'b'. \n",
    "\n",
    "As 'b' increases, the service rate decreases and the difference between the arrival rate and service rate decreases as a result. It takes longer for the simulation to reach steady state. We fixed each simulation run to last for 1000 simulated seconds, which may not be sufficient for a larger 'b'."
   ]
  },
  {
   "cell_type": "code",
   "execution_count": null,
   "metadata": {},
   "outputs": [],
   "source": []
  }
 ],
 "metadata": {
  "kernelspec": {
   "display_name": "Python 3",
   "language": "python",
   "name": "python3"
  },
  "language_info": {
   "codemirror_mode": {
    "name": "ipython",
    "version": 3
   },
   "file_extension": ".py",
   "mimetype": "text/x-python",
   "name": "python",
   "nbconvert_exporter": "python",
   "pygments_lexer": "ipython3",
   "version": "3.7.4"
  }
 },
 "nbformat": 4,
 "nbformat_minor": 2
}
