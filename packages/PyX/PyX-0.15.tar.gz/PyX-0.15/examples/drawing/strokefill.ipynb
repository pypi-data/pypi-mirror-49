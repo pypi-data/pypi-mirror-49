{
 "cells": [
  {
   "cell_type": "markdown",
   "metadata": {},
   "source": [
    "# Stroke and fill paths at the same time"
   ]
  },
  {
   "cell_type": "code",
   "execution_count": 1,
   "metadata": {},
   "outputs": [
    {
     "data": {
      "image/png": "[encoded data removed]",
      "image/svg+xml": [
       "<?xml version=\"1.0\" encoding=\"utf-8\"?>\n",
       "<svg xmlns=\"http://www.w3.org/2000/svg\" fill=\"none\" version=\"1.1\" viewBox=\"-1 -29.3465 30.3465 30.3465\" x=\"-1pt\" y=\"-29.3465pt\" width=\"30.3465pt\" height=\"30.3465pt\" stroke-width=\"0.566929\" stroke-miterlimit=\"10.000000\">\n",
       " <g stroke-width=\"1.133858\">\n",
       "  <path d=\"M0 -0L28.3465 -0L28.3465 -28.3465L0 -28.3465Z\" stroke=\"#f00\" fill=\"#0f0\"/>\n",
       " </g>\n",
       "</svg>\n"
      ]
     },
     "execution_count": 1,
     "metadata": {},
     "output_type": "execute_result"
    }
   ],
   "source": [
    "from pyx import *\n",
    "\n",
    "c = canvas.canvas()\n",
    "c.stroke(path.rect(0, 0, 1, 1), [style.linewidth.Thick,\n",
    "                                 color.rgb.red,\n",
    "                                 deco.filled([color.rgb.green])])\n",
    "c"
   ]
  },
  {
   "cell_type": "markdown",
   "metadata": {},
   "source": [
    "In order to stroke and fill a path, you could call the `fill` and `stroke`\n",
    "methods of a canvas instance one after the other. However, such a solution is\n",
    "not optimal since the path would be written into the output file twice.\n",
    "Instead, you can use the `filled` decorator within a `stroke` method call as an\n",
    "additional attribute. \n",
    "\n",
    "In the example code, the filled decorator is called to pass additional\n",
    "styles, which will then only be used for the fill operation. Other styles\n",
    "passed in the second argument of the `stroke` method are used for both, the\n",
    "stroke and the fill operation. Here we set a linewidth, which only affects the\n",
    "stroke operation.\n",
    "\n",
    "A complementary functionality exists as well: you can use a `deco.stroked`\n",
    "instance to add a stroke operation within a `fill` method call.\n",
    "\n",
    "<img src=\"http://pyx.sourceforge.net/bend.png\" align=\"left\"> The `filled` and `stroked` are pre-defined instances, but they accept a\n",
    "*modify by call* operation. This is a common feature of decorators and other\n",
    "attributes.\n",
    "\n",
    "<img src=\"http://pyx.sourceforge.net/bend.png\" align=\"left\"><img src=\"http://pyx.sourceforge.net/bend.png\" align=\"left\"> Internally, the `stroke` and the `fill` methods are implemented by adding either\n",
    "`deco.stroked` or `deco.filled` to the list passed as the second parameter to the\n",
    "`stroke` or `fill` method of a canvas. This whole construction is then evaluated by\n",
    "the `draw` method of the canvas instance. The draw method is really the basic\n",
    "operation to output a path. It transforms a path into a so-called decorated\n",
    "path. The mere path itself is a pure mathematical object without any information\n",
    "about how it should be drawn and which styles should be applied.\n",
    "Output-specific properties like dashing or the linewidth are not attached to\n",
    "the path at all. In contrast, the decorated path attaches styles and the two output\n",
    "operations stroke and fill to the mathematical path object. A symmetric stroke\n",
    "and fill operation therefore looks like\n",
    "\n",
    "    c.draw(p, l1 + [deco.stroked(l2), deco.filled(l3)])\n",
    "\n",
    "where `c` is the canvas instance, `p` is the path to be stroked and filled, `l1` is\n",
    "a list of styles used for both stroking and filling, `l2` are additional styles\n",
    "used for stroking, and `l3` are additional styles used for filling.\n"
   ]
  }
 ],
 "metadata": {
  "language": "python"
 },
 "nbformat": 4,
 "nbformat_minor": 2
}