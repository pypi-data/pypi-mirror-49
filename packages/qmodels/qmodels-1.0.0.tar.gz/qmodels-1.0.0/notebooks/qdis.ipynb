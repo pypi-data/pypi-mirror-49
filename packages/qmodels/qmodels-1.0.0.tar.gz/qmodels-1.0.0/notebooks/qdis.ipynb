{
 "cells": [
  {
   "cell_type": "markdown",
   "metadata": {},
   "source": [
    "## Common Queuing Disciplines"
   ]
  },
  {
   "cell_type": "code",
   "execution_count": 4,
   "metadata": {},
   "outputs": [],
   "source": [
    "# for random distributions, random number generators, statistics\n",
    "import random\n",
    "import numpy as np\n",
    "import scipy.stats as stats\n",
    "\n",
    "# for simulation\n",
    "import simulus\n",
    "\n",
    "# for data visualization\n",
    "import matplotlib.pyplot as plt\n",
    "%matplotlib inline\n",
    "\n",
    "# for animation inside the notebook\n",
    "import ipywidgets as widgets\n",
    "from ipywidgets import interact"
   ]
  },
  {
   "cell_type": "code",
   "execution_count": 5,
   "metadata": {},
   "outputs": [],
   "source": [
    "def exp_generator(mean, seed):\n",
    "    rv = stats.expon(scale=mean)\n",
    "    rv.random_state = np.random.RandomState(seed)\n",
    "    while True:\n",
    "        # 100 random numbers as a batch\n",
    "        for x in rv.rvs(100):\n",
    "            yield x\n",
    "\n",
    "def truncnorm_generator(a, b, seed):\n",
    "    rv = stats.truncnorm(a, b)\n",
    "    rv.random_state = np.random.RandomState(seed)\n",
    "    while True:\n",
    "        # 100 random numbers as a batch\n",
    "        for x in rv.rvs(100):\n",
    "            yield x"
   ]
  },
  {
   "cell_type": "code",
   "execution_count": 6,
   "metadata": {},
   "outputs": [],
   "source": [
    "def gen_arrivals():\n",
    "    while True:\n",
    "        sim.sleep(next(inter_arrival_time))\n",
    "        sim.process(customer)\n",
    "\n",
    "def customer():\n",
    "    server.acquire()\n",
    "    sim.sleep(next(service_time))\n",
    "    server.release()"
   ]
  },
  {
   "cell_type": "code",
   "execution_count": 7,
   "metadata": {},
   "outputs": [],
   "source": [
    "def sim_run(qdis):\n",
    "    global sim, inter_arrival_time, service_time, server\n",
    "    sim = simulus.simulator()\n",
    "    inter_arrival_time = exp_generator(1.2, sim.rng().randrange(2**32))\n",
    "    service_time = truncnorm_generator(0.8, 1.6, sim.rng().randrange(2**32))\n",
    "    dc = simulus.DataCollector(system_times='dataseries(all)')\n",
    "    server = sim.resource(collect=dc, qdis=qdis)\n",
    "    sim.process(gen_arrivals)\n",
    "    sim.run(50000)\n",
    "    return np.array(dc.system_times.data())"
   ]
  },
  {
   "cell_type": "code",
   "execution_count": 8,
   "metadata": {},
   "outputs": [
    {
     "name": "stdout",
     "output_type": "stream",
     "text": [
      "mean wait time:\n",
      "  FIFO: mean=10.1907, stdev=8.73543\n",
      "  LIFO: mean=10.346, stdev=49.0148\n",
      "  SIRO: mean=11.2126, stdev=16.5914\n"
     ]
    }
   ],
   "source": [
    "random.seed(13579) # global random seed\n",
    "\n",
    "print('mean wait time:')\n",
    "w1 = sim_run(simulus.QDIS.FIFO)\n",
    "print('  FIFO: mean=%g, stdev=%g' % (w1.mean(), w1.std()))\n",
    "w2 = sim_run(simulus.QDIS.LIFO)\n",
    "print('  LIFO: mean=%g, stdev=%g' % (w2.mean(), w2.std()))\n",
    "w3 = sim_run(simulus.QDIS.SIRO)\n",
    "print('  SIRO: mean=%g, stdev=%g' % (w3.mean(), w3.std()))"
   ]
  },
  {
   "cell_type": "code",
   "execution_count": 9,
   "metadata": {},
   "outputs": [
    {
     "data": {
      "image/png": "[encoded data removed]",
      "text/plain": [
       "<Figure size 432x288 with 1 Axes>"
      ]
     },
     "metadata": {
      "needs_background": "light"
     },
     "output_type": "display_data"
    }
   ],
   "source": [
    "y1, binEdges = np.histogram(w1, bins='auto', density=True)\n",
    "y2, _ = np.histogram(w2, bins=binEdges, density=True)\n",
    "y3, _ = np.histogram(w3, bins=binEdges, density=True)\n",
    "bincenters = 0.5*(binEdges[1:]+binEdges[:-1])\n",
    "binsize = binEdges[1]-binEdges[0]\n",
    "plt.plot(bincenters, np.cumsum(y1)*binsize,  label='FIFO')\n",
    "plt.plot(bincenters, np.cumsum(y2)*binsize, label='LIFO')\n",
    "plt.plot(bincenters, np.cumsum(y3)*binsize, label='SIRO')\n",
    "plt.xlim(0,bincenters[-1])\n",
    "plt.ylim(0,1)\n",
    "plt.xlabel('customer wait time')\n",
    "plt.ylabel('cumulative probability')\n",
    "plt.legend(loc='lower right')\n",
    "plt.show()"
   ]
  },
  {
   "cell_type": "code",
   "execution_count": 10,
   "metadata": {},
   "outputs": [],
   "source": [
    "def gen_arrivals():\n",
    "    while True:\n",
    "        sim.sleep(next(inter_arrival_time))\n",
    "        priority = sim.rng().randrange(2)\n",
    "        sim.process(customer, priority, prio=priority)\n",
    "\n",
    "def customer(priority):\n",
    "    t = sim.now\n",
    "    server.acquire()\n",
    "    sim.sleep(next(service_time))\n",
    "    server.release()\n",
    "    if priority>0: \n",
    "        low_waits.append(sim.now-t)\n",
    "    else:\n",
    "        high_waits.append(sim.now-t)"
   ]
  },
  {
   "cell_type": "code",
   "execution_count": 16,
   "metadata": {},
   "outputs": [],
   "source": [
    "def sim_run():\n",
    "    global sim, inter_arrival_time, service_time, server, low_waits, high_waits\n",
    "    sim = simulus.simulator()\n",
    "    inter_arrival_time = exp_generator(1.2, sim.rng().randrange(2**32))\n",
    "    service_time = truncnorm_generator(0, 1.6, sim.rng().randrange(2**32))\n",
    "    dc = simulus.DataCollector(system_times='dataseries(all)')\n",
    "    server = sim.resource(collect=dc, qdis=simulus.QDIS.PRIORITY)\n",
    "    sim.process(gen_arrivals)\n",
    "    low_waits, high_waits = [], []\n",
    "    sim.run(50000)\n",
    "    return np.array(dc.system_times.data()), np.array(low_waits), np.array(high_waits)"
   ]
  },
  {
   "cell_type": "code",
   "execution_count": 17,
   "metadata": {},
   "outputs": [
    {
     "name": "stdout",
     "output_type": "stream",
     "text": [
      "all customers: 41679, wait time: mean=1.19974, stdev=1.27554\n",
      "low priority customers=20894, wait time: mean=1.41001, stdev=1.64626\n",
      "high priority customers=20785, wait time: mean=0.988364, stdev=0.670082\n"
     ]
    }
   ],
   "source": [
    "a, b, c = sim_run()\n",
    "print('all customers: %d, wait time: mean=%g, stdev=%g' % (len(a), a.mean(), a.std()))\n",
    "print('low priority customers=%d, wait time: mean=%g, stdev=%g' % (len(b), b.mean(), b.std()))\n",
    "print('high priority customers=%d, wait time: mean=%g, stdev=%g' % (len(c), c.mean(), c.std()))"
   ]
  },
  {
   "cell_type": "code",
   "execution_count": 18,
   "metadata": {},
   "outputs": [
    {
     "data": {
      "image/png": "[encoded data removed]",
      "text/plain": [
       "<Figure size 432x288 with 1 Axes>"
      ]
     },
     "metadata": {
      "needs_background": "light"
     },
     "output_type": "display_data"
    }
   ],
   "source": [
    "y1, binEdges = np.histogram(a, bins='auto', density=True)\n",
    "y2, _ = np.histogram(b, bins=binEdges, density=True)\n",
    "y3, _ = np.histogram(c, bins=binEdges, density=True)\n",
    "bincenters = 0.5*(binEdges[1:]+binEdges[:-1])\n",
    "binsize = binEdges[1]-binEdges[0]\n",
    "plt.plot(bincenters, np.cumsum(y1)*binsize,  label='all')\n",
    "plt.plot(bincenters, np.cumsum(y2)*binsize, label='low priority')\n",
    "plt.plot(bincenters, np.cumsum(y3)*binsize, label='high priority')\n",
    "plt.xlim(0,10)\n",
    "plt.ylim(0,1)\n",
    "plt.legend()\n",
    "plt.xlabel('customer wait time')\n",
    "plt.ylabel('cumulative probability')\n",
    "plt.show()"
   ]
  },
  {
   "cell_type": "code",
   "execution_count": null,
   "metadata": {},
   "outputs": [],
   "source": []
  }
 ],
 "metadata": {
  "kernelspec": {
   "display_name": "Python 3",
   "language": "python",
   "name": "python3"
  },
  "language_info": {
   "codemirror_mode": {
    "name": "ipython",
    "version": 3
   },
   "file_extension": ".py",
   "mimetype": "text/x-python",
   "name": "python",
   "nbconvert_exporter": "python",
   "pygments_lexer": "ipython3",
   "version": "3.7.3"
  }
 },
 "nbformat": 4,
 "nbformat_minor": 2
}
