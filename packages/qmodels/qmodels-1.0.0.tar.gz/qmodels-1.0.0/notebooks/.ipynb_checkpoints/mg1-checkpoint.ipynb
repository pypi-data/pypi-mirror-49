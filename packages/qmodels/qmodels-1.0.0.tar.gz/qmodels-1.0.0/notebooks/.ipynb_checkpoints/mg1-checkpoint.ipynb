{
 "cells": [
  {
   "cell_type": "markdown",
   "metadata": {},
   "source": [
    "## M/G/1 Queues\n",
    "\n",
    "We start with a single-server queue with a FIFO queuing discipline. There is only one server for the queue. When a customer arrives at the queue, he will find himself at the end of the queue, where he will wait until he gets to the front of the queue. He will enter service as soon as the server finishes with the previous customer. Then the customer will get served for some time and then leave the system. We use simulus to simulate this scenario.\n",
    "\n",
    "Before we start this section, let's first run the following so that we can set up the environment and import the necessary packages."
   ]
  },
  {
   "cell_type": "code",
   "execution_count": 1,
   "metadata": {},
   "outputs": [],
   "source": [
    "# for random distributions, random number generators, statistics\n",
    "import random\n",
    "import numpy as np\n",
    "import scipy.stats as stats\n",
    "\n",
    "# for simulation\n",
    "import simulus\n",
    "\n",
    "# for data visualization\n",
    "import matplotlib.pyplot as plt\n",
    "%matplotlib inline\n",
    "\n",
    "# for animation inside the notebook\n",
    "import ipywidgets as widgets\n",
    "from ipywidgets import interact"
   ]
  },
  {
   "cell_type": "markdown",
   "metadata": {},
   "source": [
    "You should have finished the previous section on pseudo-random number generation for simulation. We pick up from there and first create a generator function to get the random numbers from an exponential distribution with a given mean. The random sequence will start with a given random seed."
   ]
  },
  {
   "cell_type": "code",
   "execution_count": 2,
   "metadata": {},
   "outputs": [],
   "source": [
    "def exp_generator(mean, seed):\n",
    "    rv = stats.expon(scale=mean)\n",
    "    rv.random_state = np.random.RandomState(seed)\n",
    "    while True:\n",
    "        # 100 random numbers as a batch\n",
    "        for x in rv.rvs(100):\n",
    "            yield x"
   ]
  },
  {
   "cell_type": "markdown",
   "metadata": {},
   "source": [
    "### Event-Driven Approach\n",
    "\n",
    "Let's start with the easy way, by using the event-driven approach, where we handle the customer arrival and departure events, since these are the only instances when the state the queue may change.\n",
    "\n",
    "When a customer arrives at the queue, two things happen. One is that we need to schedule the arrival of the next customer. The other is that we check whether the customer can be served immediately (that is, the customer is the only one in the system upon arrival). If so, we need to schedule the departure of this customer. \n",
    "\n",
    "In simulus, to schedule an event in the future, we use the simulator's `sched()`, which takes the name of a function (which we call the event handler), followed by the list of arguments to be passed to the event handler (we have none for this example). The 'offset' argument is a keyword argument for the `sched()` function (not for the event handler); it specifies the relative time from now the event is scheduled to happen.\n",
    "\n",
    "The event handler for customer arrival is listed below:"
   ]
  },
  {
   "cell_type": "code",
   "execution_count": 3,
   "metadata": {},
   "outputs": [],
   "source": [
    "def arrive():\n",
    "    global num_in_system\n",
    "    print('%g: customer arrives (num_in_system=%d->%d)' %\n",
    "          (sim.now, num_in_system, num_in_system+1))\n",
    "    \n",
    "    # increment the total number of customers in system\n",
    "    num_in_system += 1\n",
    "    \n",
    "    # schedule next customer's arrival\n",
    "    sim.sched(arrive, offset=next(inter_arrival_time))\n",
    "    \n",
    "    # the arrived customer is the only one in system\n",
    "    if num_in_system == 1:\n",
    "        # schedule the customer's departure\n",
    "        sim.sched(depart, offset=next(service_time))"
   ]
  },
  {
   "cell_type": "markdown",
   "metadata": {},
   "source": [
    "When a customer gets served, he leaves the system. After that, if there are other customers waiting, the next customer will be served immediately. For that, we need to schedule the departure of that customer. \n",
    "\n",
    "The event handler for customer departure is listed below:"
   ]
  },
  {
   "cell_type": "code",
   "execution_count": 4,
   "metadata": {},
   "outputs": [],
   "source": [
    "def depart():\n",
    "    global num_in_system\n",
    "    print('%g: customer departs (num_in_system=%d->%d)' %\n",
    "          (sim.now, num_in_system, num_in_system-1))\n",
    "    \n",
    "    # decrement the total number of customers in system\n",
    "    num_in_system -= 1\n",
    "    \n",
    "    # there are remaining customers in system\n",
    "    if num_in_system > 0:\n",
    "        # schedule the next customer's departure\n",
    "        sim.sched(depart, offset=next(service_time))"
   ]
  },
  {
   "cell_type": "markdown",
   "metadata": {},
   "source": [
    "Now we are ready to simulate the queue. We instantiate a simulator. We then create two generators, one for the inter-arrival time and the other for the service time. The two generators use separate random streams, seeded from the simulator-specific random sequence. Before we start the simulation, we schedule the first customer's arrival. And finally we run the simulation for 10 simulated seconds."
   ]
  },
  {
   "cell_type": "code",
   "execution_count": 5,
   "metadata": {
    "scrolled": true
   },
   "outputs": [
    {
     "name": "stdout",
     "output_type": "stream",
     "text": [
      "0.0317216: customer arrives (num_in_system=0->1)\n",
      "0.171341: customer departs (num_in_system=1->0)\n",
      "0.450915: customer arrives (num_in_system=0->1)\n",
      "1.13174: customer departs (num_in_system=1->0)\n",
      "2.76384: customer arrives (num_in_system=0->1)\n",
      "3.74348: customer departs (num_in_system=1->0)\n",
      "4.53929: customer arrives (num_in_system=0->1)\n",
      "4.58801: customer departs (num_in_system=1->0)\n",
      "5.84336: customer arrives (num_in_system=0->1)\n",
      "6.15646: customer departs (num_in_system=1->0)\n",
      "6.64925: customer arrives (num_in_system=0->1)\n",
      "6.76268: customer departs (num_in_system=1->0)\n",
      "8.03519: customer arrives (num_in_system=0->1)\n",
      "8.08347: customer arrives (num_in_system=1->2)\n",
      "8.12795: customer arrives (num_in_system=2->3)\n",
      "8.26366: customer arrives (num_in_system=3->4)\n",
      "8.40052: customer departs (num_in_system=4->3)\n",
      "8.68481: customer departs (num_in_system=3->2)\n"
     ]
    }
   ],
   "source": [
    "random.seed(13579) # global random seed\n",
    "\n",
    "sim = simulus.simulator('ssq')\n",
    "inter_arrival_time = exp_generator(1.2, sim.rng().randrange(2**32))\n",
    "service_time = exp_generator(0.8, sim.rng().randrange(2**32))\n",
    "\n",
    "num_in_system = 0\n",
    "sim.sched(arrive, offset=next(inter_arrival_time))\n",
    "sim.run(10)"
   ]
  },
  {
   "cell_type": "markdown",
   "metadata": {},
   "source": [
    "The output from simulation is kind of boring. Let's gather some statistics and try to plot them. \n",
    "\n",
    "We want to collect the wait time of the customers. To do that, we need to remember the time when the customer arrives at the system and also the time when the customer departs from the system. There are many ways to do the bookkeeping, the easy way we found is to simply use a data structure to keep track of the waiting customers. We use a deque (double-ended queue). We insert the time at which a customer enters the system and remove a time when the customer leaves. The time in-between is the customers wait time (including both queuing time and time in service). \n",
    "\n",
    "We also want to track the number of customers in the system as it changes over time. For this, we use a list and each entry in the list is a tuple consisted of the time and the number of customers enqueued at the time.\n",
    "\n",
    "The event handlers revised with bookkeeping are listed below:"
   ]
  },
  {
   "cell_type": "code",
   "execution_count": 6,
   "metadata": {},
   "outputs": [],
   "source": [
    "from collections import deque\n",
    "\n",
    "def arrive():\n",
    "    # add the customer to the end of the queue\n",
    "    queue.append(sim.now)\n",
    "    in_systems.append((sim.now, len(queue)))\n",
    "    \n",
    "    # schedule next customer's arrival\n",
    "    sim.sched(arrive, offset=next(inter_arrival_time))\n",
    "    \n",
    "    # the arrived customer is the only one in system\n",
    "    if len(queue) == 1:\n",
    "        # schedule the customer's departure\n",
    "        sim.sched(depart, offset=next(service_time))\n",
    "        \n",
    "def depart():\n",
    "    # remove a customer from the head of the queue\n",
    "    t = queue.popleft()\n",
    "    in_systems.append((sim.now, len(queue)))\n",
    "    waits.append(sim.now-t)\n",
    "    \n",
    "    # there are remaining customers in system\n",
    "    if len(queue) > 0:\n",
    "        # schedule the next customer's departure\n",
    "        sim.sched(depart, offset=next(service_time))"
   ]
  },
  {
   "cell_type": "markdown",
   "metadata": {},
   "source": [
    "Now we can run the simulation to gather the statistics. We can calculate the sample mean and standard deviation of the wait time. We can also calculate the average number of customers in the system. "
   ]
  },
  {
   "cell_type": "code",
   "execution_count": 7,
   "metadata": {},
   "outputs": [
    {
     "name": "stdout",
     "output_type": "stream",
     "text": [
      "wait times: [0.1396196817329908, 0.6808302178418295, 0.9796324169967114]...\n",
      "number customers in systems: [(0, 0), (0.031721620996692464, 1), (0.17134130272968326, 0)]...\n",
      "wait time: mean=2.59974, stdev=2.71376\n",
      "avg number of customers in system = 2.18839\n"
     ]
    }
   ],
   "source": [
    "queue = deque()\n",
    "in_systems = [(0,0)]\n",
    "waits = []\n",
    "\n",
    "sim = simulus.simulator('ssq')\n",
    "inter_arrival_time = exp_generator(1.2, sim.rng().randrange(2**32))\n",
    "service_time = exp_generator(0.8, sim.rng().randrange(2**32))\n",
    "sim.sched(arrive, offset=next(inter_arrival_time))\n",
    "sim.run(10000)\n",
    "\n",
    "print('wait times: %r...' % waits[:3])\n",
    "print('number customers in systems: %r...' % in_systems[:3])\n",
    "\n",
    "waits = np.array(waits)\n",
    "print(\"wait time: mean=%g, stdev=%g\" % \n",
    "      (waits.mean(), waits.std()))\n",
    "\n",
    "# area under curve divided by time is the \n",
    "# average number of customers in system\n",
    "auc, last_t, last_l = 0, 0, 0\n",
    "for t, l in in_systems:\n",
    "    auc += (t-last_t)*last_l\n",
    "    last_t, last_l = t, l\n",
    "print(\"avg number of customers in system = %g\" % (auc/last_t))"
   ]
  },
  {
   "cell_type": "markdown",
   "metadata": {},
   "source": [
    "The queuing theory for M/M/1 queue tells us that in steady state, the mean wait time should be $1/(\\mu - \\lambda)$ and the mean number of customers in system should be $\\lambda/(\\mu - \\lambda)$. That is, $\\lambda=1/1.2=5/6$ and $\\mu=1/0.8=5/4$. Therefore, the mean wait time should be 2.4, and the mean number of customers in system should be 2.0. We can use long-run simulation to obtain better steady-state estimations. But in most simulation cases, we'd be more interested in the transient behaviors of the system under study.  \n",
    "\n",
    "The data collected during simulation can also be used to generate many interesting plots. For example, we can plot the number of customers in the system as it changes over time. In the following, we only plot the first few."
   ]
  },
  {
   "cell_type": "code",
   "execution_count": 8,
   "metadata": {},
   "outputs": [
    {
     "data": {
      "image/png": "[encoded data removed]",
      "text/plain": [
       "<Figure size 432x288 with 1 Axes>"
      ]
     },
     "metadata": {
      "needs_background": "light"
     },
     "output_type": "display_data"
    }
   ],
   "source": [
    "plt.step(*zip(*in_systems[:20]), where='post')\n",
    "plt.title(\"M/M/1 Queue\")\n",
    "plt.xlabel(\"Time\")\n",
    "plt.ylabel(\"Number Customers in System\")\n",
    "plt.show()"
   ]
  },
  {
   "cell_type": "markdown",
   "metadata": {},
   "source": [
    "We can plot histogram of the wait time. And we can examine the percentage of customers who have experienced long wait time, say, more than 10 seconds. "
   ]
  },
  {
   "cell_type": "code",
   "execution_count": 9,
   "metadata": {},
   "outputs": [
    {
     "data": {
      "image/png": "[encoded data removed]",
      "text/plain": [
       "<Figure size 432x288 with 1 Axes>"
      ]
     },
     "metadata": {
      "needs_background": "light"
     },
     "output_type": "display_data"
    },
    {
     "name": "stdout",
     "output_type": "stream",
     "text": [
      "2.61376% customers experienced wait time more than 10 seconds,\n",
      "while 90% of customers experienced wait time no more than 6.06863 seconds\n"
     ]
    }
   ],
   "source": [
    "plt.hist(waits, alpha=0.5, bins='auto', density=True)\n",
    "plt.show()\n",
    "print('%g%% customers experienced wait time more than 10 seconds,' % \n",
    "      (100*(waits>10).sum()/len(waits)))\n",
    "print('while 90%% of customers experienced wait time no more than %g seconds' % \n",
    "      np.percentile(waits, 90))"
   ]
  },
  {
   "cell_type": "markdown",
   "metadata": {},
   "source": [
    "### Process-Oriented Approach\n",
    "\n",
    "The event-driven approach is more than sufficient to handle the single-server queue with the FIFO queuing discipline. However, the situation may get more complicated using the event-driven approach, when we deal with multiple servers with multiple queues and with more complicated queuing disciplines (such as priority-based scheduling with preemption). A strong aspect of simulus that distinguishes simulus from most other simulators is its natural support for process-oriented simulation. Simulus provides high-level modeling abstractions (such as traps, semaphores, resources, stores, and mailboxes) in order for users to create more intuitive and expressive simulation models using the process-oriented approach. We start here with the single-server queue and later we will expand it for more complicated queuing scenarios.\n",
    "\n",
    "Rather than directly scheduling events (one still can, if needs to), one create processes and have the processes to run their own course. Each process is a single thread of control. A process can be suspended, sleeping for time or waiting for resources. A process can resume execution, after sleep or when the wait conditions have been satisfied.\n",
    "\n",
    "For the single-server queue, we use a process to generate the customers. A process starts from a normal function, in this case, `gen_arrivals()`. Within the function, the process enters a forever loop, in which the process sleeps for some time (which is a random value returned from the `inter_arrival_time` generator function), and then creates another process that starts from a function called customer. As its name suggests, the process represents a customer who arrives at the queue. "
   ]
  },
  {
   "cell_type": "code",
   "execution_count": 10,
   "metadata": {},
   "outputs": [],
   "source": [
    "def gen_arrivals():\n",
    "    while True:\n",
    "        sim.sleep(next(inter_arrival_time))\n",
    "        sim.process(customer)"
   ]
  },
  {
   "cell_type": "markdown",
   "metadata": {},
   "source": [
    "The customer process waits for a server to be available. A server in this case is implemented as a resource. A process trying to acquire a resource may be suspended if the resource is unavailable (i.e., if it has been already acquired by another customer). In that case, the process will be put in a queue (with unlimited space) maintained by the resource. \n",
    "\n",
    "Once the server becomes available, one of the waiting processes will be selected. By default, the resource is FIFO: it selects the waiting process who has entered the queue first. When the selected process acquires the server, it sleeps for some time representing the customer being served. The sleep time is a random value returned from the `service_time` generator function. After the sleep, the process releases the server so that if other customer processes are waiting for the server, the server will select the next customer in queue."
   ]
  },
  {
   "cell_type": "code",
   "execution_count": 11,
   "metadata": {},
   "outputs": [],
   "source": [
    "def customer():\n",
    "    print('%g: customer arrives (num_in_system=%d->%d)' %\n",
    "          (sim.now, server.num_in_system(), server.num_in_system()+1))\n",
    "    server.acquire()\n",
    "    sim.sleep(next(service_time))\n",
    "    print('%g: customer departs (num_in_system=%d->%d)' %\n",
    "          (sim.now, server.num_in_system(), server.num_in_system()-1))\n",
    "    server.release()"
   ]
  },
  {
   "cell_type": "markdown",
   "metadata": {},
   "source": [
    "Now we are ready to simulate the queue. Like before, we instantiate a simulator and then create the two generators for the inter-arrival time and for the service time. We create the server as a resource and then starts the gen_arrivals process. Finally we run the simulation for 10 simulated seconds. The results should be the same as those from the event-driven approach."
   ]
  },
  {
   "cell_type": "code",
   "execution_count": 12,
   "metadata": {
    "scrolled": true
   },
   "outputs": [
    {
     "name": "stdout",
     "output_type": "stream",
     "text": [
      "0.0317216: customer arrives (num_in_system=0->1)\n",
      "0.171341: customer departs (num_in_system=1->0)\n",
      "0.450915: customer arrives (num_in_system=0->1)\n",
      "1.13174: customer departs (num_in_system=1->0)\n",
      "2.76384: customer arrives (num_in_system=0->1)\n",
      "3.74348: customer departs (num_in_system=1->0)\n",
      "4.53929: customer arrives (num_in_system=0->1)\n",
      "4.58801: customer departs (num_in_system=1->0)\n",
      "5.84336: customer arrives (num_in_system=0->1)\n",
      "6.15646: customer departs (num_in_system=1->0)\n",
      "6.64925: customer arrives (num_in_system=0->1)\n",
      "6.76268: customer departs (num_in_system=1->0)\n",
      "8.03519: customer arrives (num_in_system=0->1)\n",
      "8.08347: customer arrives (num_in_system=1->2)\n",
      "8.12795: customer arrives (num_in_system=2->3)\n",
      "8.26366: customer arrives (num_in_system=3->4)\n",
      "8.40052: customer departs (num_in_system=4->3)\n",
      "8.68481: customer departs (num_in_system=3->2)\n"
     ]
    }
   ],
   "source": [
    "sim = simulus.simulator('ssq')\n",
    "inter_arrival_time = exp_generator(1.2, sim.rng().randrange(2**32))\n",
    "service_time = exp_generator(0.8, sim.rng().randrange(2**32))\n",
    "server = sim.resource()\n",
    "sim.process(gen_arrivals)\n",
    "sim.run(10)"
   ]
  },
  {
   "cell_type": "markdown",
   "metadata": {},
   "source": [
    "### The Effect of Service Time Distribution\n",
    "\n",
    "Let's change the service time distribution from exponential to a truncated normal distribution, which specifies a particular range between a and b. We create another generator function for this:"
   ]
  },
  {
   "cell_type": "code",
   "execution_count": 13,
   "metadata": {},
   "outputs": [],
   "source": [
    "def truncnorm_generator(a, b, seed):\n",
    "    rv = stats.truncnorm(a, b)\n",
    "    rv.random_state = np.random.RandomState(seed)\n",
    "    while True:\n",
    "        # 100 random numbers as a batch\n",
    "        for x in rv.rvs(100):\n",
    "            yield x"
   ]
  },
  {
   "cell_type": "markdown",
   "metadata": {},
   "source": [
    "We are going to run the simulation and show the effect of the service time distribution on the customer's wait time *on the fly*. To do this, we disable the print-outs in the original customer() method."
   ]
  },
  {
   "cell_type": "code",
   "execution_count": 14,
   "metadata": {},
   "outputs": [],
   "source": [
    "def gen_arrivals():\n",
    "    while True:\n",
    "        sim.sleep(next(inter_arrival_time))\n",
    "        sim.process(customer)\n",
    "        \n",
    "def customer():\n",
    "    server.acquire()\n",
    "    sim.sleep(next(service_time))\n",
    "    server.release()"
   ]
  },
  {
   "cell_type": "markdown",
   "metadata": {},
   "source": [
    "We are wrapping around each simulation run using a function called `sim_run()`. In this case, we can simply call this function to have one run of the simulation and return the results. Since in our example both `gen_arrivals()` and `customer()` use module global variables: 'sim', 'inter_arrival_time', 'service_time', and 'server'. We need to make them global from the `sim_run()` function. \n",
    "\n",
    "To gather the statistics, we use DataCollector provided by simulus. When creating the DataCollector instance, we specify the kind of data to be gathered at the resource. In this example, we would like to keep all the data series for `system_times`, which is just another name for the wait time of all the customers using the resource. When we create the resource, we attach the DataCollector instance. After the simulation run, we retrieve the collected data from the DataCollector instance and return them from the function."
   ]
  },
  {
   "cell_type": "code",
   "execution_count": 15,
   "metadata": {},
   "outputs": [],
   "source": [
    "def sim_run(a, b):\n",
    "    global sim, inter_arrival_time, service_time, server\n",
    "    sim = simulus.simulator('mg1')\n",
    "    inter_arrival_time = exp_generator(1.2, sim.rng().randrange(2**32))\n",
    "    service_time = truncnorm_generator(a, b, sim.rng().randrange(2**32))\n",
    "    dc = simulus.DataCollector(system_times='dataseries(all)')\n",
    "    server = sim.resource(collect=dc)\n",
    "    sim.process(gen_arrivals)\n",
    "    sim.run(1000)\n",
    "    return dc.system_times.data()"
   ]
  },
  {
   "cell_type": "markdown",
   "metadata": {},
   "source": [
    "Now we are all set for interactive plotting. We fix 'a' and use a slider to choose 'b'. The `plot_hist()` function calls `sim_run()` to get the wait time of all customers in a list and we plot the histogram accordingly."
   ]
  },
  {
   "cell_type": "code",
   "execution_count": 16,
   "metadata": {},
   "outputs": [
    {
     "data": {
      "application/vnd.jupyter.widget-view+json": {
       "model_id": "b47e61ef632b49f28e882be596244316",
       "version_major": 2,
       "version_minor": 0
      },
      "text/plain": [
       "interactive(children=(FloatSlider(value=1.0, description='b', max=2.0, min=0.1), Output()), _dom_classes=('wid…"
      ]
     },
     "metadata": {},
     "output_type": "display_data"
    }
   ],
   "source": [
    "def plot_hist(a, b):\n",
    "    waits = sim_run(a, b)\n",
    "    plt.hist(waits, alpha=0.5, bins='auto', density=True)\n",
    "    plt.xlim(0, 8)\n",
    "    plt.show()\n",
    "interact(plot_hist, a=widgets.fixed(0), b=(0.1, 2.0, 0.1))\n",
    "None"
   ]
  },
  {
   "cell_type": "markdown",
   "metadata": {},
   "source": [
    "The wait time shown in the histogram is from one run of the simulation. To be statistically meaningful, we need to run many trials of each simulation setting and show the results with confidence intervals.\n",
    "\n",
    "In the following example, we revise the `sim_run()` function to just collect the summary statistics for wait time and return the mean value (which would consume far less time and memory). This is achieved by configuring the DataCollector with the argument 'system_times' set to be 'dataseries' rather than 'dataseries(all)'.\n",
    "\n",
    "We run the simulation for 25 times at each parameter setting. It is important to note that there's a subtle difference from the previous when we create the simulator for each simulation run. Now the simulator is nameless! This is important, because otherwise the simulator will generate the same random sequence regardless of how many times we run the simulation. Without a name, the simulator will be created with a randomly generated name (using the default random number generator in Python's `random` module). Recall that the simulator's attached random number generator is seeded from the namespace (which we do not change since we use the same global random seed) and the simulator's name. In this case, the simulator would create a different random sequence, which is exactly what we'd need. "
   ]
  },
  {
   "cell_type": "code",
   "execution_count": 17,
   "metadata": {},
   "outputs": [],
   "source": [
    "def sim_run(a, b):\n",
    "    global sim, inter_arrival_time, service_time, server\n",
    "    sim = simulus.simulator()\n",
    "    inter_arrival_time = exp_generator(1.2, sim.rng().randrange(2**32))\n",
    "    service_time = truncnorm_generator(a, b, sim.rng().randrange(2**32))\n",
    "    dc = simulus.DataCollector(system_times='dataseries')\n",
    "    server = sim.resource(collect=dc)\n",
    "    sim.process(gen_arrivals)\n",
    "    sim.run(1000)\n",
    "    return dc.system_times.mean()"
   ]
  },
  {
   "cell_type": "markdown",
   "metadata": {},
   "source": [
    "The following code will run pretty slow. Be prepared! We are conducting 30*25=750 simulation runs before we can get the plot. "
   ]
  },
  {
   "cell_type": "code",
   "execution_count": 18,
   "metadata": {},
   "outputs": [
    {
     "data": {
      "image/png": "[encoded data removed]",
      "text/plain": [
       "<Figure size 432x288 with 1 Axes>"
      ]
     },
     "metadata": {
      "needs_background": "light"
     },
     "output_type": "display_data"
    }
   ],
   "source": [
    "x = np.linspace(0.1, 3.0, 30)\n",
    "y = []\n",
    "e1 = []\n",
    "e2 = []\n",
    "for b in x:\n",
    "    z = []\n",
    "    for _ in range(25):\n",
    "        z.append(sim_run(0, b))\n",
    "    z = np.array(z)\n",
    "    y.append(z.mean())\n",
    "    e1.append(np.percentile(z, 5))\n",
    "    e2.append(np.percentile(z, 95))\n",
    "\n",
    "plt.plot(x, y, 'k-')\n",
    "plt.xlim(0, 3.0)\n",
    "plt.title('arrival=exp(1.2), service=truncnorm(0, b)')\n",
    "plt.ylabel('mean customer wait time')\n",
    "plt.xlabel('b')\n",
    "plt.fill_between(x, e1, e2, color='#386cb0', alpha=0.2)\n",
    "plt.show()"
   ]
  },
  {
   "cell_type": "markdown",
   "metadata": {},
   "source": [
    "The above plot shows that the mean wait time increases as we increase 'b', which increases both the mean and the standard deviation of the service time. The confidence interval also seems to be getting larger as we increase 'b'. \n",
    "\n",
    "As 'b' increases, the service rate decreases and the difference between the arrival rate and service rate decreases as a result. It takes longer for the simulation to reach steady state. We fixed each simulation run to last for 1000 simulated seconds, which may not be sufficient for a larger 'b'."
   ]
  },
  {
   "cell_type": "code",
   "execution_count": null,
   "metadata": {},
   "outputs": [],
   "source": []
  }
 ],
 "metadata": {
  "kernelspec": {
   "display_name": "Python 3",
   "language": "python",
   "name": "python3"
  },
  "language_info": {
   "codemirror_mode": {
    "name": "ipython",
    "version": 3
   },
   "file_extension": ".py",
   "mimetype": "text/x-python",
   "name": "python",
   "nbconvert_exporter": "python",
   "pygments_lexer": "ipython3",
   "version": "3.7.4"
  }
 },
 "nbformat": 4,
 "nbformat_minor": 2
}
