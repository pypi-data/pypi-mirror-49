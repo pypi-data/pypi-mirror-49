{
 "cells": [
  {
   "cell_type": "markdown",
   "metadata": {},
   "source": [
    "## Automated run for spectra extraction and plotting\n",
    "\n"
   ]
  },
  {
   "cell_type": "code",
   "execution_count": null,
   "metadata": {},
   "outputs": [],
   "source": [
    "import os, string, sys\n",
    "import numpy as np\n",
    "import pyaml\n",
    "from astropy.io import ascii\n",
    "\n",
    "from IPython.display import HTML, display\n",
    "\n",
    "from sharpener import sharpener as sharpy\n",
    "\n",
    "workdir = 'test/output/'\n",
    "\n",
    "help(sharpy)\n",
    "\n",
    "print '\\t+------+\\n\\t  Done \\n\\t+------+'"
   ]
  },
  {
   "cell_type": "markdown",
   "metadata": {
    "collapsed": true
   },
   "source": [
    "## Automated run"
   ]
  },
  {
   "cell_type": "code",
   "execution_count": null,
   "metadata": {
    "scrolled": false
   },
   "outputs": [],
   "source": [
    "print '\\t+------+\\n\\t Sharpener \\n\\t Parameter File \\n\\t+------+'\n",
    "\n",
    "spar = sharpy.sharpener('{}sharpener_default.yml'.format(workdir))\n",
    "\n",
    "print '\\t+------+\\n\\t Loaded \\n\\t+------+'\n",
    "\n",
    "# Set working directory & filenames\n",
    "spar.cfg_par['general']['workdir'] = workdir\n",
    "spar.cfg_par['general']['contname'] ='continuum.image.fits'\n",
    "spar.cfg_par['general']['cubename'] = 'cube.image.fits'\n",
    "\n",
    "# Enable / disable modules\n",
    "spar.cfg_par['source_finder']['enable'] = True\n",
    "spar.cfg_par['spec_ex']['enable'] = True\n",
    "spar.cfg_par['abs_plot']['enable'] = True\n",
    "\n",
    "spar.set_dirs()\n",
    "\n",
    "# Options\n",
    "print '\\t+------+\\n\\t Parameters modified \\n\\t+------+'\n",
    "\n",
    "\n",
    "run = spar.go(spar.cfg_par)\n",
    "\n",
    "if run == 0: \n",
    "    print '\\t+------+\\n\\t Done \\n\\t+------+'"
   ]
  }
 ],
 "metadata": {
  "anaconda-cloud": {},
  "kernelspec": {
   "display_name": "Python 2",
   "language": "python",
   "name": "python2"
  },
  "language_info": {
   "codemirror_mode": {
    "name": "ipython",
    "version": 2
   },
   "file_extension": ".py",
   "mimetype": "text/x-python",
   "name": "python",
   "nbconvert_exporter": "python",
   "pygments_lexer": "ipython2",
   "version": "2.7.15rc1"
  }
 },
 "nbformat": 4,
 "nbformat_minor": 1
}
