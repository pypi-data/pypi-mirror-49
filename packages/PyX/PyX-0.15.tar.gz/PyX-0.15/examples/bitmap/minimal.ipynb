{
 "cells": [
  {
   "cell_type": "markdown",
   "metadata": {},
   "source": [
    "# Store bitmap data using PyX"
   ]
  },
  {
   "cell_type": "code",
   "execution_count": 1,
   "metadata": {},
   "outputs": [
    {
     "data": {
      "image/png": "[encoded data removed]",
      "image/svg+xml": [
       "<?xml version=\"1.0\" encoding=\"utf-8\"?>\n",
       "<svg xmlns=\"http://www.w3.org/2000/svg\" xmlns:xlink=\"http://www.w3.org/1999/xlink\" fill=\"none\" version=\"1.1\" viewBox=\"-1 -52.0236 36.0157 53.0236\" x=\"-1pt\" y=\"-52.0236pt\" width=\"36.0157pt\" height=\"53.0236pt\" stroke-width=\"0.566929\" stroke-miterlimit=\"10.000000\">\n",
       " <image preserveAspectRatio=\"none\" x=\"0\" y=\"-1\" width=\"1\" height=\"1\" xlink:href=\"data:image/png;base64,iVBORw0KGgoAAAANSUhEUgAAAAIAAAACCAAAAABX3VL4AAAADElEQVR42mNg+A+EAAYAAf+tLDclAAAAAElFTkSuQmCC\" transform=\"matrix(22.677165,-0.000000,-0.000000,22.677165,0.000000,-28.346457)\"/>\n",
       " <image preserveAspectRatio=\"none\" x=\"0\" y=\"-1\" width=\"1\" height=\"1\" xlink:href=\"data:image/png;base64,iVBORw0KGgoAAAANSUhEUgAAAAMAAAACCAIAAAASFvFNAAAAGElEQVR42mOwt7evr6/fv38/w38GBggGAE1+B3U6NIsMAAAAAElFTkSuQmCC\" transform=\"matrix(34.015748,-0.000000,-0.000000,22.677165,0.000000,-0.000000)\"/>\n",
       "</svg>\n"
      ]
     },
     "execution_count": 1,
     "metadata": {},
     "output_type": "execute_result"
    }
   ],
   "source": [
    "from pyx import *\n",
    "\n",
    "image_bw = bitmap.image(2, 2, \"L\", b\"\\0\\377\\377\\0\")\n",
    "image_rgb = bitmap.image(3, 2, \"RGB\", b\"\\77\\77\\77\\177\\177\\177\\277\\277\\277\"\n",
    "                                      b\"\\377\\0\\0\\0\\377\\0\\0\\0\\377\")\n",
    "bitmap_bw = bitmap.bitmap(0, 1, image_bw, height=0.8)\n",
    "bitmap_rgb = bitmap.bitmap(0, 0, image_rgb, height=0.8)\n",
    "\n",
    "c = canvas.canvas()\n",
    "c.insert(bitmap_bw)\n",
    "c.insert(bitmap_rgb)\n",
    "c"
   ]
  },
  {
   "cell_type": "markdown",
   "metadata": {},
   "source": [
    "While the main purpose of PyX is to create vector graphics, it is also possible\n",
    "to store bitmap data in the PyX output. In this example, we show how to\n",
    "create a simple data structure containing the bitmap data  and how such data\n",
    "can then be transformed into an object which can be inserted into a PyX canvas.\n",
    "\n",
    "The first step of providing the bitmap data is creating an `image` instance.\n",
    "You need to specify the size of your data (in pixels) followed by strings\n",
    "describing the type of the bitmap and the bitmap data itself.\n",
    "\n",
    "<img src=\"http://pyx.sourceforge.net/bend.png\" align=\"left\"> The bitmap functionality currently uses a fixed color depth of 8 bits per\n",
    "color. The pixels are listed row by row, one after the other starting at the\n",
    "upper left corner of the image.\n",
    "\n",
    "Once the image data has been prepared, a `bitmap` instance can be created and\n",
    "inserted into a PyX canvas for later output.\n"
   ]
  }
 ],
 "metadata": {
  "language": "python"
 },
 "nbformat": 4,
 "nbformat_minor": 2
}