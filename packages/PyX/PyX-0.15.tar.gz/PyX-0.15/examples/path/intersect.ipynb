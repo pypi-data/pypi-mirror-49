{
 "cells": [
  {
   "cell_type": "markdown",
   "metadata": {},
   "source": [
    "# Intersection points between paths"
   ]
  },
  {
   "cell_type": "code",
   "execution_count": 1,
   "metadata": {},
   "outputs": [
    {
     "data": {
      "image/png": "[encoded data removed]",
      "image/svg+xml": [
       "<?xml version=\"1.0\" encoding=\"utf-8\"?>\n",
       "<svg xmlns=\"http://www.w3.org/2000/svg\" fill=\"none\" version=\"1.1\" viewBox=\"-1 -29.3465 58.6929 30.3465\" x=\"-1pt\" y=\"-29.3465pt\" width=\"58.6929pt\" height=\"30.3465pt\" stroke-width=\"0.566929\" stroke-miterlimit=\"10.000000\">\n",
       " <path d=\"M20.4498 -4.91468L20.4498 -4.91963A2.83465 2.83465 0 0 0 14.7805 -4.91468A2.83465 2.83465 0 0 0 20.4498 -4.90973Z\" fill=\"#00f\"/>\n",
       " <path d=\"M41.9124 -23.4318L41.9124 -23.4367A2.83465 2.83465 0 0 0 36.2431 -23.4318A2.83465 2.83465 0 0 0 41.9124 -23.4268Z\" fill=\"#00f\"/>\n",
       " <path d=\"M0 -0C28.3465 -0 28.3465 -28.3465 56.6929 -28.3465\" stroke=\"#f00\"/>\n",
       " <path d=\"M42.5197 -14.1732L42.5197 -14.198A14.1732 14.1732 0 0 0 14.1732 -14.1732A14.1732 14.1732 0 0 0 42.5197 -14.1485Z\" stroke=\"#0f0\"/>\n",
       "</svg>\n"
      ]
     },
     "execution_count": 1,
     "metadata": {},
     "output_type": "execute_result"
    }
   ],
   "source": [
    "from pyx import *\n",
    "\n",
    "p1 = path.curve(0, 0, 1, 0, 1, 1, 2, 1)\n",
    "p2 = path.circle(1, 0.5, 0.5)\n",
    "\n",
    "(a1, a2), (b1, b2) = p1.intersect(p2)\n",
    "\n",
    "x1, y1 = p1.at(a1)\n",
    "x2, y2 = p1.at(a2)\n",
    "\n",
    "c = canvas.canvas()\n",
    "c.fill(path.circle(x1, y1, 0.1), [color.rgb.blue])\n",
    "c.fill(path.circle(x2, y2, 0.1), [color.rgb.blue])\n",
    "c.stroke(p1, [color.rgb.red])\n",
    "c.stroke(p2, [color.rgb.green])\n",
    "c"
   ]
  },
  {
   "cell_type": "markdown",
   "metadata": {},
   "source": [
    "The `intersect` method of a path allows for the calculation of intersection\n",
    "points between this path and the second path passed to the `intersect` method. \n",
    "The return value of the intersect method is a tuple of two lists, where each\n",
    "list contains parametrization instances for the intersection points. The first\n",
    "list are the parameters for the path the `intersect` method was called for. The\n",
    "second list are the parameter values for the path passed to the `intersect`\n",
    "method. Thus we can calculate the first intersection point `x1, y1` by\n",
    "\n",
    "    x1, y1 = p1.at(a1)\n",
    "\n",
    "as done in the example or alternatively by\n",
    "\n",
    "    x1, y1 = p2.at(b1)\n",
    "\n",
    "<img src=\"http://pyx.sourceforge.net/bend.png\" align=\"left\"> When several intersections between two paths occur, the order of the\n",
    "intersection points is defined by the order in which the points are passed when\n",
    "walking along the first path.\n"
   ]
  }
 ],
 "metadata": {
  "language": "python"
 },
 "nbformat": 4,
 "nbformat_minor": 2
}